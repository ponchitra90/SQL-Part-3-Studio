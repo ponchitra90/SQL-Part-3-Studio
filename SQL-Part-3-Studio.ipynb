{
    "metadata": {
        "kernelspec": {
            "name": "SQL",
            "display_name": "SQL",
            "language": "sql"
        },
        "language_info": {
            "name": "sql",
            "version": ""
        },
        "extensions": {
            "azuredatastudio": {
                "version": 1,
                "views": []
            }
        }
    },
    "nbformat_minor": 2,
    "nbformat": 4,
    "cells": [
        {
            "cell_type": "markdown",
            "source": [
                "# SQL Part 3 Studio\n",
                "\n",
                "### Let's practice your SQL quering skills!  For each question, work along in the notebook adding your query and answering the questions. \n",
                "\n",
                "### **DataSet**\n",
                "\n",
                "### <span style=\"font-size: 14px; font-family: -apple-system, BlinkMacSystemFont, sans-serif;\">We will be using the Goodbooks-10k dataset from the exercises in the prep work.&nbsp; Feel free reference your previous notebooks.</span>\n",
                "\n",
                "- The dataset can be found here: [goodbooks-10k](https://www.kaggle.com/zygmunt/goodbooks-10k)\n",
                "- You can access the **BooksDB** in the Launchcode server.\n",
                "\n",
                "### **Business Issue**\n",
                "\n",
                "You are an employee at a small independet bookstore and you have been tasked to increase sales.  You decide to use the BooksDB to find books and themes to highlight in fun promotions throughout each month / season.  We will be starting with March and then you will have a chance to explore another month of your choosing.  We want to come up with a list of events/ promotions to run each month.  If you are looking for ideas to include in your promotions:\n",
                "\n",
                "- [https://www.calendarr.com/united-states/calendar-2022/](https://www.calendarr.com/united-states/calendar-2022/)\n",
                "- [https://www.holidayinsights.com/moreholidays/](https://www.holidayinsights.com/moreholidays/)\n",
                "    - Click on a month and it will take you to a more detailed page"
            ],
            "metadata": {
                "azdata_cell_guid": "b9034d8a-b631-48bf-a895-1012a6ffa784"
            },
            "attachments": {}
        },
        {
            "cell_type": "markdown",
            "source": [
                "## Part 1:  March - Women's History Month, Dr Seuss Day(3/2), National Pie Day3/14, St Patrick's Day (3/17), Season - Spring"
            ],
            "metadata": {
                "azdata_cell_guid": "6e55eb1c-4a14-4076-90d2-95ed17a6309f"
            },
            "attachments": {}
        },
        {
            "cell_type": "markdown",
            "source": [
                "### **Event 1:** Women's History Month\n",
                "\n",
                "Goal: Highlight Popular Womans Authors based on ratings from the Good Reads DB.\n",
                "\n",
                "### **Write a query that returns tag\\_id, the number of times each tag\\_id is used and the tag\\_name.**  \n",
                "\n",
                "### Use the GROUP BY and HAVING clause to narrow your focus.\n",
                "\n",
                "Try multiple keywords, ie woman vs female (female ended up giving better results)"
            ],
            "metadata": {
                "azdata_cell_guid": "d220c097-e9cf-4edd-9abe-312d071217b7"
            },
            "attachments": {}
        },
        {
            "cell_type": "code",
            "source": [
                "-- Solution\r\n",
                "select count(t.tag_id) as ct,bt.tag_id,t.tag_name\r\n",
                "FROM BooksDB.dbo.book_tags AS bt\r\n",
                "INNER JOIN BooksDB.dbo.tags AS t\r\n",
                "ON bt.tag_id = t.tag_id\r\n",
                "where t.tag_name like '%female%'\r\n",
                "group by bt.tag_id, t.tag_name\r\n",
                "order by ct desc\r\n",
                "\r\n",
                ""
            ],
            "metadata": {
                "azdata_cell_guid": "e31b9d26-0386-44c7-828e-85f4f06f3ee6",
                "language": "sql",
                "tags": []
            },
            "outputs": [
                {
                    "output_type": "display_data",
                    "data": {
                        "text/html": "(35 rows affected)"
                    },
                    "metadata": {}
                },
                {
                    "output_type": "display_data",
                    "data": {
                        "text/html": "Total execution time: 00:00:00.340"
                    },
                    "metadata": {}
                },
                {
                    "output_type": "execute_result",
                    "metadata": {},
                    "execution_count": 27,
                    "data": {
                        "application/vnd.dataresource+json": {
                            "schema": {
                                "fields": [
                                    {
                                        "name": "ct"
                                    },
                                    {
                                        "name": "tag_id"
                                    },
                                    {
                                        "name": "tag_name"
                                    }
                                ]
                            },
                            "data": [
                                {
                                    "0": "997",
                                    "1": "11643",
                                    "2": "female-author"
                                },
                                {
                                    "0": "721",
                                    "1": "11644",
                                    "2": "female-authors"
                                },
                                {
                                    "0": "171",
                                    "1": "11658",
                                    "2": "female-protagonist"
                                },
                                {
                                    "0": "32",
                                    "1": "11646",
                                    "2": "female-detective"
                                },
                                {
                                    "0": "18",
                                    "1": "11662",
                                    "2": "female-writers"
                                },
                                {
                                    "0": "17",
                                    "1": "11642",
                                    "2": "female"
                                },
                                {
                                    "0": "17",
                                    "1": "11656",
                                    "2": "female-pov"
                                },
                                {
                                    "0": "14",
                                    "1": "11652",
                                    "2": "female-lead"
                                },
                                {
                                    "0": "12",
                                    "1": "3514",
                                    "2": "author-female"
                                },
                                {
                                    "0": "10",
                                    "1": "28834",
                                    "2": "strong-female-lead"
                                },
                                {
                                    "0": "9",
                                    "1": "11647",
                                    "2": "female-detectives"
                                },
                                {
                                    "0": "4",
                                    "1": "11650",
                                    "2": "female-friendship"
                                },
                                {
                                    "0": "4",
                                    "1": "28830",
                                    "2": "strong-female"
                                },
                                {
                                    "0": "3",
                                    "1": "28833",
                                    "2": "strong-female-characters"
                                },
                                {
                                    "0": "2",
                                    "1": "11645",
                                    "2": "female-biographies"
                                },
                                {
                                    "0": "1",
                                    "1": "1741",
                                    "2": "afghan-female-entrepreneur-under-ta"
                                },
                                {
                                    "0": "1",
                                    "1": "4309",
                                    "2": "best-adult-female-friendship-books"
                                },
                                {
                                    "0": "1",
                                    "1": "11648",
                                    "2": "female-doctor"
                                },
                                {
                                    "0": "1",
                                    "1": "11649",
                                    "2": "female-fiction"
                                },
                                {
                                    "0": "1",
                                    "1": "11651",
                                    "2": "female-genre-authors"
                                },
                                {
                                    "0": "1",
                                    "1": "11653",
                                    "2": "female-main-character"
                                },
                                {
                                    "0": "1",
                                    "1": "11654",
                                    "2": "female-persuasion"
                                },
                                {
                                    "0": "1",
                                    "1": "11655",
                                    "2": "female-pi"
                                },
                                {
                                    "0": "1",
                                    "1": "11657",
                                    "2": "female-povs"
                                },
                                {
                                    "0": "1",
                                    "1": "11659",
                                    "2": "female-serial-killer"
                                },
                                {
                                    "0": "1",
                                    "1": "11660",
                                    "2": "female-spy"
                                },
                                {
                                    "0": "1",
                                    "1": "11661",
                                    "2": "female-writer"
                                },
                                {
                                    "0": "1",
                                    "1": "15331",
                                    "2": "important-female-authors"
                                },
                                {
                                    "0": "1",
                                    "1": "17079",
                                    "2": "kick-ass-female"
                                },
                                {
                                    "0": "1",
                                    "1": "24455",
                                    "2": "protagonist-female"
                                },
                                {
                                    "0": "1",
                                    "1": "28831",
                                    "2": "strong-female-character"
                                },
                                {
                                    "0": "1",
                                    "1": "28832",
                                    "2": "strong-female-character-s"
                                },
                                {
                                    "0": "1",
                                    "1": "28835",
                                    "2": "strong-female-protagonist"
                                },
                                {
                                    "0": "1",
                                    "1": "28836",
                                    "2": "strong-female-supporting-characters"
                                },
                                {
                                    "0": "1",
                                    "1": "29324",
                                    "2": "tbr-ax-female"
                                }
                            ]
                        },
                        "text/html": [
                            "<table>",
                            "<tr><th>ct</th><th>tag_id</th><th>tag_name</th></tr>",
                            "<tr><td>997</td><td>11643</td><td>female-author</td></tr>",
                            "<tr><td>721</td><td>11644</td><td>female-authors</td></tr>",
                            "<tr><td>171</td><td>11658</td><td>female-protagonist</td></tr>",
                            "<tr><td>32</td><td>11646</td><td>female-detective</td></tr>",
                            "<tr><td>18</td><td>11662</td><td>female-writers</td></tr>",
                            "<tr><td>17</td><td>11642</td><td>female</td></tr>",
                            "<tr><td>17</td><td>11656</td><td>female-pov</td></tr>",
                            "<tr><td>14</td><td>11652</td><td>female-lead</td></tr>",
                            "<tr><td>12</td><td>3514</td><td>author-female</td></tr>",
                            "<tr><td>10</td><td>28834</td><td>strong-female-lead</td></tr>",
                            "<tr><td>9</td><td>11647</td><td>female-detectives</td></tr>",
                            "<tr><td>4</td><td>11650</td><td>female-friendship</td></tr>",
                            "<tr><td>4</td><td>28830</td><td>strong-female</td></tr>",
                            "<tr><td>3</td><td>28833</td><td>strong-female-characters</td></tr>",
                            "<tr><td>2</td><td>11645</td><td>female-biographies</td></tr>",
                            "<tr><td>1</td><td>1741</td><td>afghan-female-entrepreneur-under-ta</td></tr>",
                            "<tr><td>1</td><td>4309</td><td>best-adult-female-friendship-books</td></tr>",
                            "<tr><td>1</td><td>11648</td><td>female-doctor</td></tr>",
                            "<tr><td>1</td><td>11649</td><td>female-fiction</td></tr>",
                            "<tr><td>1</td><td>11651</td><td>female-genre-authors</td></tr>",
                            "<tr><td>1</td><td>11653</td><td>female-main-character</td></tr>",
                            "<tr><td>1</td><td>11654</td><td>female-persuasion</td></tr>",
                            "<tr><td>1</td><td>11655</td><td>female-pi</td></tr>",
                            "<tr><td>1</td><td>11657</td><td>female-povs</td></tr>",
                            "<tr><td>1</td><td>11659</td><td>female-serial-killer</td></tr>",
                            "<tr><td>1</td><td>11660</td><td>female-spy</td></tr>",
                            "<tr><td>1</td><td>11661</td><td>female-writer</td></tr>",
                            "<tr><td>1</td><td>15331</td><td>important-female-authors</td></tr>",
                            "<tr><td>1</td><td>17079</td><td>kick-ass-female</td></tr>",
                            "<tr><td>1</td><td>24455</td><td>protagonist-female</td></tr>",
                            "<tr><td>1</td><td>28831</td><td>strong-female-character</td></tr>",
                            "<tr><td>1</td><td>28832</td><td>strong-female-character-s</td></tr>",
                            "<tr><td>1</td><td>28835</td><td>strong-female-protagonist</td></tr>",
                            "<tr><td>1</td><td>28836</td><td>strong-female-supporting-characters</td></tr>",
                            "<tr><td>1</td><td>29324</td><td>tbr-ax-female</td></tr>",
                            "</table>"
                        ]
                    }
                }
            ],
            "execution_count": 27
        },
        {
            "cell_type": "markdown",
            "source": [
                "### **Which keyword(s) and tag(s) would you like to explore more?**\n",
                "\n",
                "Double click to edit."
            ],
            "metadata": {
                "azdata_cell_guid": "e9acd8b5-a62b-4ac0-bd07-19915b379ba6"
            },
            "attachments": {}
        },
        {
            "cell_type": "markdown",
            "source": [
                "### **Write a query to return authors, titles, ratings and** **selected tag(s)\\_id.**"
            ],
            "metadata": {
                "azdata_cell_guid": "59b84464-c0bc-4dac-9e02-0c803765b063"
            },
            "attachments": {}
        },
        {
            "cell_type": "code",
            "source": [
                "-- Solution\r\n",
                "select b.authors,b.title,b.average_rating,bt.tag_id\r\n",
                "FROM BooksDB.dbo.books AS b\r\n",
                "INNER JOIN BooksDB.dbo.book_tags AS bt\r\n",
                "ON bt.goodreads_book_id = b.book_id\r\n",
                "where bt.tag_id = 11643\r\n",
                ""
            ],
            "metadata": {
                "azdata_cell_guid": "51ffeaaf-6dde-4906-95f3-eb8757babf27",
                "tags": [],
                "language": "sql"
            },
            "outputs": [
                {
                    "output_type": "display_data",
                    "data": {
                        "text/html": "(997 rows affected)"
                    },
                    "metadata": {}
                },
                {
                    "output_type": "display_data",
                    "data": {
                        "text/html": "Total execution time: 00:00:00.786"
                    },
                    "metadata": {}
                },
                {
                    "output_type": "execute_result",
                    "metadata": {},
                    "execution_count": 31,
                    "data": {
                        "application/vnd.dataresource+json": {
                            "schema": {
                                "fields": [
                                    {
                                        "name": "authors"
                                    },
                                    {
                                        "name": "title"
                                    },
                                    {
                                        "name": "average_rating"
                                    },
                                    {
                                        "name": "tag_id"
                                    }
                                ]
                            },
                            "data": [
                                {
                                    "0": "J.K. Rowling, Mary GrandPré",
                                    "1": "Harry Potter and the Order of the Phoenix (Harry Potter, #5)",
                                    "2": "4.46",
                                    "3": "11643"
                                },
                                {
                                    "0": "Lois Lowry",
                                    "1": "The Giver (The Giver, #1)",
                                    "2": "4.12",
                                    "3": "11643"
                                },
                                {
                                    "0": "Charlotte Brontë, Michael Mason",
                                    "1": "Jane Eyre",
                                    "2": "4.1",
                                    "3": "11643"
                                },
                                {
                                    "0": "Sara Gruen",
                                    "1": "Water for Elephants",
                                    "2": "4.07",
                                    "3": "11643"
                                },
                                {
                                    "0": "Emily Brontë, Richard J. Dunn",
                                    "1": "Wuthering Heights",
                                    "2": "3.82",
                                    "3": "11643"
                                },
                                {
                                    "0": "Mary Wollstonecraft Shelley, Percy Bysshe Shelley, Maurice Hindle",
                                    "1": "Frankenstein",
                                    "2": "3.75",
                                    "3": "11643"
                                },
                                {
                                    "0": "Helen Fielding",
                                    "1": "Bridget Jones's Diary (Bridget Jones, #1)",
                                    "2": "3.75",
                                    "3": "11643"
                                },
                                {
                                    "0": "Jane Austen, Tony Tanner, Ros Ballaster",
                                    "1": "Sense and Sensibility",
                                    "2": "4.06",
                                    "3": "11643"
                                },
                                {
                                    "0": "Lauren Weisberger",
                                    "1": "The Devil Wears Prada (The Devil Wears Prada, #1)",
                                    "2": "3.7",
                                    "3": "11643"
                                },
                                {
                                    "0": "Barbara Kingsolver",
                                    "1": "The Poisonwood Bible",
                                    "2": "4.02",
                                    "3": "11643"
                                },
                                {
                                    "0": "Tina Fey",
                                    "1": "Bossypants",
                                    "2": "3.94",
                                    "3": "11643"
                                },
                                {
                                    "0": "Amy Tan",
                                    "1": "The Joy Luck Club",
                                    "2": "3.9",
                                    "3": "11643"
                                },
                                {
                                    "0": "Margaret Atwood",
                                    "1": "The Handmaid's Tale",
                                    "2": "4.06",
                                    "3": "11643"
                                },
                                {
                                    "0": "Emma Donoghue",
                                    "1": "Room",
                                    "2": "4.03",
                                    "3": "11643"
                                },
                                {
                                    "0": "Rebecca Wells",
                                    "1": "Divine Secrets of the Ya-Ya Sisterhood",
                                    "2": "3.79",
                                    "3": "11643"
                                },
                                {
                                    "0": "Tracy Chevalier",
                                    "1": "Girl with a Pearl Earring",
                                    "2": "3.85",
                                    "3": "11643"
                                },
                                {
                                    "0": "Anita Diamant",
                                    "1": "The Red Tent",
                                    "2": "4.16",
                                    "3": "11643"
                                },
                                {
                                    "0": "Jane Austen, Fiona Stafford",
                                    "1": "Emma",
                                    "2": "3.99",
                                    "3": "11643"
                                },
                                {
                                    "0": "Philippa Gregory",
                                    "1": "The Other Boleyn Girl (The Plantagenet and Tudor Novels, #9)",
                                    "2": "4.04",
                                    "3": "11643"
                                },
                                {
                                    "0": "Alice Walker",
                                    "1": "The Color Purple",
                                    "2": "4.17",
                                    "3": "11643"
                                },
                                {
                                    "0": "Agatha Christie",
                                    "1": "And Then There Were None",
                                    "2": "4.23",
                                    "3": "11643"
                                },
                                {
                                    "0": "Anne Rice",
                                    "1": "Interview with the Vampire (The Vampire Chronicles, #1)",
                                    "2": "3.97",
                                    "3": "11643"
                                },
                                {
                                    "0": "Rebecca Skloot",
                                    "1": "The Immortal Life of Henrietta Lacks",
                                    "2": "4.04",
                                    "3": "11643"
                                },
                                {
                                    "0": "Emma McLaughlin, Nicola Kraus",
                                    "1": "The Nanny Diaries (Nanny, #1)",
                                    "2": "3.4",
                                    "3": "11643"
                                },
                                {
                                    "0": "Jane Austen, James Kinsley, Deidre Shauna Lynch",
                                    "1": "Persuasion",
                                    "2": "4.13",
                                    "3": "11643"
                                },
                                {
                                    "0": "Robert Galbraith, J.K. Rowling",
                                    "1": "The Cuckoo's Calling (Cormoran Strike, #1)",
                                    "2": "3.83",
                                    "3": "11643"
                                },
                                {
                                    "0": "Daphne du Maurier, Sally Beauman",
                                    "1": "Rebecca",
                                    "2": "4.2",
                                    "3": "11643"
                                },
                                {
                                    "0": "Lisa See",
                                    "1": "Snow Flower and the Secret Fan",
                                    "2": "4.05",
                                    "3": "11643"
                                },
                                {
                                    "0": "Mindy Kaling",
                                    "1": "Is Everyone Hanging Out Without Me? (And Other Concerns)",
                                    "2": "3.84",
                                    "3": "11643"
                                },
                                {
                                    "0": "Maya Angelou",
                                    "1": "I Know Why the Caged Bird Sings",
                                    "2": "4.19",
                                    "3": "11643"
                                },
                                {
                                    "0": "Maria Semple",
                                    "1": "Where'd You Go, Bernadette",
                                    "2": "3.9",
                                    "3": "11643"
                                },
                                {
                                    "0": "Janet Fitch",
                                    "1": "White Oleander",
                                    "2": "3.93",
                                    "3": "11643"
                                },
                                {
                                    "0": "J.K. Rowling",
                                    "1": "The Casual Vacancy",
                                    "2": "3.28",
                                    "3": "11643"
                                },
                                {
                                    "0": "Amy Poehler",
                                    "1": "Yes Please",
                                    "2": "3.81",
                                    "3": "11643"
                                },
                                {
                                    "0": "Toni Morrison",
                                    "1": "Beloved",
                                    "2": "3.77",
                                    "3": "11643"
                                },
                                {
                                    "0": "J.K. Rowling",
                                    "1": "The Tales of Beedle the Bard",
                                    "2": "4.06",
                                    "3": "11643"
                                },
                                {
                                    "0": "Fannie Flagg",
                                    "1": "Fried Green Tomatoes at the Whistle Stop Cafe",
                                    "2": "4.26",
                                    "3": "11643"
                                },
                                {
                                    "0": "Diane Setterfield",
                                    "1": "The Thirteenth Tale",
                                    "2": "3.95",
                                    "3": "11643"
                                },
                                {
                                    "0": "Arundhati Roy",
                                    "1": "The God of Small Things",
                                    "2": "3.91",
                                    "3": "11643"
                                },
                                {
                                    "0": "Jane Austen, Alfred MacAdam",
                                    "1": "Northanger Abbey",
                                    "2": "3.8",
                                    "3": "11643"
                                },
                                {
                                    "0": "Elizabeth Kostova",
                                    "1": "The Historian",
                                    "2": "3.77",
                                    "3": "11643"
                                },
                                {
                                    "0": "Emily St. John Mandel",
                                    "1": "Station Eleven",
                                    "2": "4.02",
                                    "3": "11643"
                                },
                                {
                                    "0": "Pearl S. Buck",
                                    "1": "The Good Earth (House of Earth, #1)",
                                    "2": "3.97",
                                    "3": "11643"
                                },
                                {
                                    "0": "Jennifer Weiner",
                                    "1": "In Her Shoes",
                                    "2": "3.78",
                                    "3": "11643"
                                },
                                {
                                    "0": "Zora Neale Hurston",
                                    "1": "Their Eyes Were Watching God",
                                    "2": "3.87",
                                    "3": "11643"
                                },
                                {
                                    "0": "Newt Scamander, J.K. Rowling, Albus Dumbledore",
                                    "1": "Fantastic Beasts and Where to Find Them",
                                    "2": "3.95",
                                    "3": "11643"
                                },
                                {
                                    "0": "Jane Austen, Kathryn Sutherland, Tony Tanner, Claire Lamont",
                                    "1": "Mansfield Park",
                                    "2": "3.84",
                                    "3": "11643"
                                },
                                {
                                    "0": "Tana French",
                                    "1": "In the Woods (Dublin Murder Squad, #1)",
                                    "2": "3.74",
                                    "3": "11643"
                                },
                                {
                                    "0": "Donna Tartt",
                                    "1": "The Secret History",
                                    "2": "4.07",
                                    "3": "11643"
                                },
                                {
                                    "0": "Jean M. Auel",
                                    "1": "The Clan of the Cave Bear (Earth's Children, #1)",
                                    "2": "4.02",
                                    "3": "11643"
                                },
                                {
                                    "0": "Barbara Ehrenreich",
                                    "1": "Nickel and Dimed: On (Not) Getting By in America",
                                    "2": "3.6",
                                    "3": "11643"
                                },
                                {
                                    "0": "Patricia Cornwell",
                                    "1": "Postmortem (Kay Scarpetta, #1)",
                                    "2": "4.01",
                                    "3": "11643"
                                },
                                {
                                    "0": "Harper Lee",
                                    "1": "Go Set a Watchman",
                                    "2": "3.31",
                                    "3": "11643"
                                },
                                {
                                    "0": "Laura Ingalls Wilder, Garth Williams",
                                    "1": "Little House on the Prairie (Little House, #2)",
                                    "2": "4.18",
                                    "3": "11643"
                                },
                                {
                                    "0": "Kate Atkinson",
                                    "1": "Life After Life",
                                    "2": "3.74",
                                    "3": "11643"
                                },
                                {
                                    "0": "Vanessa Diffenbaugh",
                                    "1": "The Language of Flowers",
                                    "2": "4.07",
                                    "3": "11643"
                                },
                                {
                                    "0": "Margaret Atwood",
                                    "1": "Oryx and Crake (MaddAddam, #1)",
                                    "2": "4",
                                    "3": "11643"
                                },
                                {
                                    "0": "Ursula K. Le Guin",
                                    "1": "A Wizard of Earthsea (Earthsea Cycle, #1)",
                                    "2": "3.99",
                                    "3": "11643"
                                },
                                {
                                    "0": "Robin Hobb",
                                    "1": "Assassin's Apprentice (Farseer Trilogy, #1)",
                                    "2": "4.14",
                                    "3": "11643"
                                },
                                {
                                    "0": "Susanna Kaysen",
                                    "1": "Girl, Interrupted",
                                    "2": "3.9",
                                    "3": "11643"
                                },
                                {
                                    "0": "Piper Kerman",
                                    "1": "Orange Is the New Black",
                                    "2": "3.7",
                                    "3": "11643"
                                },
                                {
                                    "0": "Marion Zimmer Bradley",
                                    "1": "The Mists of Avalon (Avalon, #1)",
                                    "2": "4.12",
                                    "3": "11643"
                                },
                                {
                                    "0": "Jennifer Egan",
                                    "1": "A Visit from the Goon Squad",
                                    "2": "3.64",
                                    "3": "11643"
                                },
                                {
                                    "0": "Johanna Spyri, Angelo  Rinaldi, Beverly Cleary",
                                    "1": "Heidi",
                                    "2": "3.97",
                                    "3": "11643"
                                },
                                {
                                    "0": "Jhumpa Lahiri",
                                    "1": "Interpreter of Maladies",
                                    "2": "4.12",
                                    "3": "11643"
                                },
                                {
                                    "0": "Celeste Ng",
                                    "1": "Everything I Never Told You",
                                    "2": "3.78",
                                    "3": "11643"
                                },
                                {
                                    "0": "Isabel Allende, Magda Bogin",
                                    "1": "The House of the Spirits",
                                    "2": "4.2",
                                    "3": "11643"
                                },
                                {
                                    "0": "Agatha Christie, Ροζίτα Σώκου",
                                    "1": "The Mysterious Affair at Styles (Hercule Poirot, #1)",
                                    "2": "3.98",
                                    "3": "11643"
                                },
                                {
                                    "0": "Agatha Christie",
                                    "1": "Murder on the Orient Express (Hercule Poirot, #10)",
                                    "2": "4.16",
                                    "3": "11643"
                                },
                                {
                                    "0": "Chimamanda Ngozi Adichie",
                                    "1": "Americanah",
                                    "2": "4.26",
                                    "3": "11643"
                                },
                                {
                                    "0": "Laura Ingalls Wilder, Garth Williams",
                                    "1": "Little House in the Big Woods (Little House, #1)",
                                    "2": "4.16",
                                    "3": "11643"
                                },
                                {
                                    "0": "Susanna Clarke",
                                    "1": "Jonathan Strange & Mr Norrell",
                                    "2": "3.8",
                                    "3": "11643"
                                },
                                {
                                    "0": "Robert Galbraith, J.K. Rowling",
                                    "1": "The Silkworm (Cormoran Strike, #2)",
                                    "2": "4.03",
                                    "3": "11643"
                                },
                                {
                                    "0": "Virginia Woolf, Maureen Howard",
                                    "1": "Mrs. Dalloway",
                                    "2": "3.78",
                                    "3": "11643"
                                },
                                {
                                    "0": "Julie Powell",
                                    "1": "Julie and Julia: 365 Days, 524 Recipes, 1 Tiny Apartment Kitchen: How One Girl Risked Her Marriage, Her Job, and Her Sanity to Master the Art of Living",
                                    "2": "3.67",
                                    "3": "11643"
                                },
                                {
                                    "0": "Allie Brosh",
                                    "1": "Hyperbole and a Half: Unfortunate Situations, Flawed Coping Mechanisms, Mayhem, and Other Things That Happened",
                                    "2": "4.17",
                                    "3": "11643"
                                },
                                {
                                    "0": "Melissa Bank",
                                    "1": "The Girls' Guide to Hunting and Fishing",
                                    "2": "3.29",
                                    "3": "11643"
                                },
                                {
                                    "0": "Mary Roach",
                                    "1": "Stiff: The Curious Lives of Human Cadavers",
                                    "2": "4.05",
                                    "3": "11643"
                                },
                                {
                                    "0": "Toni Morrison",
                                    "1": "The Bluest Eye",
                                    "2": "3.99",
                                    "3": "11643"
                                },
                                {
                                    "0": "Patti Smith",
                                    "1": "Just Kids",
                                    "2": "4.14",
                                    "3": "11643"
                                },
                                {
                                    "0": "Kate Chopin",
                                    "1": "The Awakening",
                                    "2": "3.63",
                                    "3": "11643"
                                },
                                {
                                    "0": "Helen Keller",
                                    "1": "The Story of My Life",
                                    "2": "4.07",
                                    "3": "11643"
                                },
                                {
                                    "0": "Hilary Mantel",
                                    "1": "Wolf Hall (Thomas Cromwell, #1)",
                                    "2": "3.85",
                                    "3": "11643"
                                },
                                {
                                    "0": "Diana Wynne Jones",
                                    "1": "Howl's Moving Castle (Howl's Moving Castle, #1)",
                                    "2": "4.3",
                                    "3": "11643"
                                },
                                {
                                    "0": "Marjane Satrapi, Mattias Ripa",
                                    "1": "Persepolis: The Story of a Childhood (Persepolis, #1)",
                                    "2": "4.23",
                                    "3": "11643"
                                },
                                {
                                    "0": "Amy Tan",
                                    "1": "The Bonesetter's Daughter",
                                    "2": "3.98",
                                    "3": "11643"
                                },
                                {
                                    "0": "Barbara Kingsolver",
                                    "1": "The Bean Trees (Greer Family, #1)",
                                    "2": "3.94",
                                    "3": "11643"
                                },
                                {
                                    "0": "Nicole Krauss",
                                    "1": "The History of Love",
                                    "2": "3.91",
                                    "3": "11643"
                                },
                                {
                                    "0": "Astrid Lindgren, Lauren Child, Florence Lamborn, Nancy Seligsohn",
                                    "1": "Pippi Longstocking",
                                    "2": "4.11",
                                    "3": "11643"
                                },
                                {
                                    "0": "Muriel Barbery, Alison Anderson",
                                    "1": "The Elegance of the Hedgehog",
                                    "2": "3.73",
                                    "3": "11643"
                                },
                                {
                                    "0": "Margaret Atwood",
                                    "1": "The Blind Assassin",
                                    "2": "3.95",
                                    "3": "11643"
                                },
                                {
                                    "0": "Joan Didion",
                                    "1": "The Year of Magical Thinking",
                                    "2": "3.86",
                                    "3": "11643"
                                },
                                {
                                    "0": "Lionel Shriver",
                                    "1": "We Need to Talk About Kevin",
                                    "2": "4.07",
                                    "3": "11643"
                                },
                                {
                                    "0": "Edith Wharton, Maureen Howard",
                                    "1": "The Age of Innocence",
                                    "2": "3.93",
                                    "3": "11643"
                                },
                                {
                                    "0": "Geraldine Brooks",
                                    "1": "Year of Wonders",
                                    "2": "4",
                                    "3": "11643"
                                },
                                {
                                    "0": "Ayn Rand",
                                    "1": "Anthem",
                                    "2": "3.62",
                                    "3": "11643"
                                },
                                {
                                    "0": "Azar Nafisi",
                                    "1": "Reading Lolita in Tehran",
                                    "2": "3.57",
                                    "3": "11643"
                                },
                                {
                                    "0": "Annie Proulx",
                                    "1": "The Shipping News",
                                    "2": "3.83",
                                    "3": "11643"
                                },
                                {
                                    "0": "Marie Kondō, Cathy Hirano",
                                    "1": "The Life-Changing Magic of Tidying Up: The Japanese Art of Decluttering and Organizing",
                                    "2": "3.77",
                                    "3": "11643"
                                },
                                {
                                    "0": "Kathy Reichs",
                                    "1": "Déjà Dead (Temperance Brennan, #1)",
                                    "2": "3.86",
                                    "3": "11643"
                                },
                                {
                                    "0": "Lena Dunham, Joana Avillez",
                                    "1": "Not That Kind of Girl: A Young Woman Tells You What She's \"Learned\"",
                                    "2": "3.33",
                                    "3": "11643"
                                },
                                {
                                    "0": "George Eliot, Michel Faber",
                                    "1": "Middlemarch",
                                    "2": "3.93",
                                    "3": "11643"
                                },
                                {
                                    "0": "Stacy Schiff",
                                    "1": "Cleopatra: A Life",
                                    "2": "3.62",
                                    "3": "11643"
                                },
                                {
                                    "0": "Carol Rifka Brunt",
                                    "1": "Tell the Wolves I'm Home",
                                    "2": "4.04",
                                    "3": "11643"
                                },
                                {
                                    "0": "Emmuska Orczy",
                                    "1": "The Scarlet Pimpernel",
                                    "2": "4.06",
                                    "3": "11643"
                                },
                                {
                                    "0": "Zadie Smith",
                                    "1": "White Teeth",
                                    "2": "3.75",
                                    "3": "11643"
                                },
                                {
                                    "0": "Meg Wolitzer",
                                    "1": "The Interestings",
                                    "2": "3.54",
                                    "3": "11643"
                                },
                                {
                                    "0": "Robin Hobb",
                                    "1": "Royal Assassin (Farseer Trilogy, #2)",
                                    "2": "4.21",
                                    "3": "11643"
                                },
                                {
                                    "0": "Barbara Kingsolver, Steven L. Hopp, Camille Kingsolver, Richard A. Houser",
                                    "1": "Animal, Vegetable, Miracle: A Year of Food Life",
                                    "2": "4.03",
                                    "3": "11643"
                                },
                                {
                                    "0": "Mindy Kaling",
                                    "1": "Why Not Me?",
                                    "2": "3.89",
                                    "3": "11643"
                                },
                                {
                                    "0": "Agatha Christie",
                                    "1": "Murder at the Vicarage (Miss Marple, #1)",
                                    "2": "4.03",
                                    "3": "11643"
                                },
                                {
                                    "0": "Robert Galbraith, J.K. Rowling",
                                    "1": "Career of Evil (Cormoran Strike, #3)",
                                    "2": "4.21",
                                    "3": "11643"
                                },
                                {
                                    "0": "Cynthia D'Aprix Sweeney",
                                    "1": "The Nest",
                                    "2": "3.45",
                                    "3": "11643"
                                },
                                {
                                    "0": "Virginia Woolf",
                                    "1": "To the Lighthouse",
                                    "2": "3.76",
                                    "3": "11643"
                                },
                                {
                                    "0": "Patricia Cornwell",
                                    "1": "Cruel & Unusual (Kay Scarpetta, #4)",
                                    "2": "4.11",
                                    "3": "11643"
                                },
                                {
                                    "0": "Willa Cather",
                                    "1": "My Ántonia",
                                    "2": "3.76",
                                    "3": "11643"
                                },
                                {
                                    "0": "Jennifer Weiner",
                                    "1": "Little Earthquakes",
                                    "2": "3.76",
                                    "3": "11643"
                                },
                                {
                                    "0": "L.M. Montgomery",
                                    "1": "Anne of the Island (Anne of Green Gables, #3)",
                                    "2": "4.21",
                                    "3": "11643"
                                },
                                {
                                    "0": "Elizabeth Gaskell, Alan Shelston",
                                    "1": "North and South",
                                    "2": "4.13",
                                    "3": "11643"
                                },
                                {
                                    "0": "Anne McCaffrey, Teodor Panasiński",
                                    "1": "Dragonflight (Dragonriders of Pern, #1)",
                                    "2": "4.1",
                                    "3": "11643"
                                },
                                {
                                    "0": "Joanne Harris",
                                    "1": "Chocolat (Chocolat, #1)",
                                    "2": "3.95",
                                    "3": "11643"
                                },
                                {
                                    "0": "Barbara Kingsolver",
                                    "1": "Prodigal Summer",
                                    "2": "3.98",
                                    "3": "11643"
                                },
                                {
                                    "0": "Joyce Carol Oates",
                                    "1": "We Were the Mulvaneys",
                                    "2": "3.7",
                                    "3": "11643"
                                },
                                {
                                    "0": "Eowyn Ivey",
                                    "1": "The Snow Child",
                                    "2": "3.95",
                                    "3": "11643"
                                },
                                {
                                    "0": "Emma Cline",
                                    "1": "The Girls",
                                    "2": "3.49",
                                    "3": "11643"
                                },
                                {
                                    "0": "Olive Ann Burns",
                                    "1": "Cold Sassy Tree",
                                    "2": "3.99",
                                    "3": "11643"
                                },
                                {
                                    "0": "Elena Ferrante, Ann Goldstein",
                                    "1": "My Brilliant Friend (The Neapolitan Novels #1)",
                                    "2": "3.88",
                                    "3": "11643"
                                },
                                {
                                    "0": "Louise Erdrich",
                                    "1": "The Round House",
                                    "2": "3.91",
                                    "3": "11643"
                                },
                                {
                                    "0": "Madeleine L'Engle",
                                    "1": "A Wind in the Door (A Wrinkle in Time Quintet, #2)",
                                    "2": "4.07",
                                    "3": "11643"
                                },
                                {
                                    "0": "Hanya Yanagihara",
                                    "1": "A Little Life",
                                    "2": "4.27",
                                    "3": "11643"
                                },
                                {
                                    "0": "Anne Tyler, Jennifer Bassett",
                                    "1": "The Accidental Tourist",
                                    "2": "3.9",
                                    "3": "11643"
                                },
                                {
                                    "0": "L.M. Montgomery",
                                    "1": "Anne of Avonlea (Anne of Green Gables, #2)",
                                    "2": "4.21",
                                    "3": "11643"
                                },
                                {
                                    "0": "Karen Joy Fowler",
                                    "1": "We Are All Completely Beside Ourselves",
                                    "2": "3.71",
                                    "3": "11643"
                                },
                                {
                                    "0": "Lauren Groff",
                                    "1": "Fates and Furies",
                                    "2": "3.56",
                                    "3": "11643"
                                },
                                {
                                    "0": "Rosamunde Pilcher",
                                    "1": "The Shell Seekers",
                                    "2": "4.13",
                                    "3": "11643"
                                },
                                {
                                    "0": "Jhumpa Lahiri",
                                    "1": "The Lowland",
                                    "2": "3.82",
                                    "3": "11643"
                                },
                                {
                                    "0": "Robin Hobb",
                                    "1": "Assassin's Quest (Farseer Trilogy, #3)",
                                    "2": "4.18",
                                    "3": "11643"
                                },
                                {
                                    "0": "Katherine Boo",
                                    "1": "Behind the Beautiful Forevers: Life, Death, and Hope in a Mumbai Undercity",
                                    "2": "3.97",
                                    "3": "11643"
                                },
                                {
                                    "0": "P.L. Travers, Mary Shepard",
                                    "1": "Mary Poppins (Mary Poppins, #1)",
                                    "2": "4.05",
                                    "3": "11643"
                                },
                                {
                                    "0": "Sandra Cisneros",
                                    "1": "The House on Mango Street",
                                    "2": "3.57",
                                    "3": "11643"
                                },
                                {
                                    "0": "Elizabeth Gilbert",
                                    "1": "The Signature of All Things",
                                    "2": "3.81",
                                    "3": "11643"
                                },
                                {
                                    "0": "Lynne Truss",
                                    "1": "Eats, Shoots & Leaves: The Zero Tolerance Approach to Punctuation",
                                    "2": "3.86",
                                    "3": "11643"
                                },
                                {
                                    "0": "Kennilworthy Whisp, J.K. Rowling",
                                    "1": "Quidditch Through the Ages",
                                    "2": "3.85",
                                    "3": "11643"
                                },
                                {
                                    "0": "A.S.A. Harrison",
                                    "1": "The Silent Wife",
                                    "2": "3.3",
                                    "3": "11643"
                                },
                                {
                                    "0": "Caitlin Moran",
                                    "1": "How to Be a Woman",
                                    "2": "3.73",
                                    "3": "11643"
                                },
                                {
                                    "0": "Jhumpa Lahiri",
                                    "1": "Unaccustomed Earth",
                                    "2": "4.11",
                                    "3": "11643"
                                },
                                {
                                    "0": "Christina Schwarz",
                                    "1": "Drowning Ruth",
                                    "2": "3.73",
                                    "3": "11643"
                                },
                                {
                                    "0": "Tana French",
                                    "1": "The Likeness (Dublin Murder Squad, #2)",
                                    "2": "4.05",
                                    "3": "11643"
                                },
                                {
                                    "0": "Téa Obreht",
                                    "1": "The Tiger's Wife",
                                    "2": "3.37",
                                    "3": "11643"
                                },
                                {
                                    "0": "Carson McCullers",
                                    "1": "The Heart is a Lonely Hunter",
                                    "2": "3.97",
                                    "3": "11643"
                                },
                                {
                                    "0": "Alison Bechdel",
                                    "1": "Fun Home: A Family Tragicomic",
                                    "2": "4.12",
                                    "3": "11643"
                                },
                                {
                                    "0": "Lynne Reid Banks",
                                    "1": "The Indian in the Cupboard (The Indian in the Cupboard, #1)",
                                    "2": "3.89",
                                    "3": "11643"
                                },
                                {
                                    "0": "Jessie Burton",
                                    "1": "The Miniaturist",
                                    "2": "3.58",
                                    "3": "11643"
                                },
                                {
                                    "0": "Margaret Atwood",
                                    "1": "The Year of the Flood  (MaddAddam, #2)",
                                    "2": "4.05",
                                    "3": "11643"
                                },
                                {
                                    "0": "Agatha Christie",
                                    "1": "The Murder of Roger Ackroyd (Hercule Poirot, #4)",
                                    "2": "4.2",
                                    "3": "11643"
                                },
                                {
                                    "0": "Lauren Weisberger",
                                    "1": "Chasing Harry Winston",
                                    "2": "3.32",
                                    "3": "11643"
                                },
                                {
                                    "0": "Lauren Weisberger",
                                    "1": "Everyone Worth Knowing",
                                    "2": "3.39",
                                    "3": "11643"
                                },
                                {
                                    "0": "Karen Thompson Walker",
                                    "1": "The Age of Miracles",
                                    "2": "3.64",
                                    "3": "11643"
                                },
                                {
                                    "0": "Helen Fielding",
                                    "1": "Bridget Jones: The Edge of Reason (Bridget Jones, #2)",
                                    "2": "3.53",
                                    "3": "11643"
                                },
                                {
                                    "0": "Marjane Satrapi, Mattias Ripa, Blake Ferris, Anjali Singh",
                                    "1": "The Complete Persepolis",
                                    "2": "4.36",
                                    "3": "11643"
                                },
                                {
                                    "0": "Helene Wecker",
                                    "1": "The Golem and the Jinni (The Golem and the Jinni, #1)",
                                    "2": "4.1",
                                    "3": "11643"
                                },
                                {
                                    "0": "Tamora Pierce",
                                    "1": "Alanna: The First Adventure (Song of the Lioness, #1)",
                                    "2": "4.27",
                                    "3": "11643"
                                },
                                {
                                    "0": "Audrey Niffenegger",
                                    "1": "Her Fearful Symmetry",
                                    "2": "3.23",
                                    "3": "11643"
                                },
                                {
                                    "0": "Jung Chang",
                                    "1": "Wild Swans: Three Daughters of China",
                                    "2": "4.23",
                                    "3": "11643"
                                },
                                {
                                    "0": "Laura Ingalls Wilder, Garth Williams",
                                    "1": "On the Banks of Plum Creek  (Little House, #4)",
                                    "2": "4.19",
                                    "3": "11643"
                                },
                                {
                                    "0": "Mary Norton, Beth Krush, Joe Krush",
                                    "1": "The Borrowers (The Borrowers, #1)",
                                    "2": "4.02",
                                    "3": "11643"
                                },
                                {
                                    "0": "Ruth Ware",
                                    "1": "In a Dark, Dark Wood",
                                    "2": "3.65",
                                    "3": "11643"
                                },
                                {
                                    "0": "Edith Wharton, Nina Bawden",
                                    "1": "The House of Mirth",
                                    "2": "3.94",
                                    "3": "11643"
                                },
                                {
                                    "0": "Madeleine L'Engle",
                                    "1": "A Swiftly Tilting Planet (A Wrinkle in Time Quintet, #3)",
                                    "2": "4.13",
                                    "3": "11643"
                                },
                                {
                                    "0": "P.D. James",
                                    "1": "Death Comes to Pemberley",
                                    "2": "3.21",
                                    "3": "11643"
                                },
                                {
                                    "0": "Edith Wharton",
                                    "1": "Ethan Frome",
                                    "2": "3.35",
                                    "3": "11643"
                                },
                                {
                                    "0": "Ursula K. Le Guin, Lech Jęczmyk",
                                    "1": "The Left Hand of Darkness",
                                    "2": "4.05",
                                    "3": "11643"
                                },
                                {
                                    "0": "Ursula K. Le Guin",
                                    "1": "The Farthest Shore (Earthsea Cycle, #3)",
                                    "2": "4.11",
                                    "3": "11643"
                                },
                                {
                                    "0": "Ursula K. Le Guin",
                                    "1": "The Tombs of Atuan (Earthsea Cycle, #2)",
                                    "2": "4.07",
                                    "3": "11643"
                                },
                                {
                                    "0": "Toni Morrison",
                                    "1": "Song of Solomon",
                                    "2": "4.01",
                                    "3": "11643"
                                },
                                {
                                    "0": "Maeve Binchy",
                                    "1": "Tara Road",
                                    "2": "3.88",
                                    "3": "11643"
                                },
                                {
                                    "0": "Virginia Woolf",
                                    "1": "A Room of One's Own",
                                    "2": "4.1",
                                    "3": "11643"
                                },
                                {
                                    "0": "Elizabeth Strout, Goran Skrobonja",
                                    "1": "My Name Is Lucy Barton",
                                    "2": "3.51",
                                    "3": "11643"
                                },
                                {
                                    "0": "Ruth Ozeki",
                                    "1": "A Tale for the Time Being",
                                    "2": "3.98",
                                    "3": "11643"
                                },
                                {
                                    "0": "Louise Fitzhugh",
                                    "1": "Harriet the Spy (Harriet the Spy #1)",
                                    "2": "3.96",
                                    "3": "11643"
                                },
                                {
                                    "0": "Sarah Waters",
                                    "1": "The Paying Guests",
                                    "2": "3.39",
                                    "3": "11643"
                                },
                                {
                                    "0": "Naomi Novik",
                                    "1": "Uprooted",
                                    "2": "4.13",
                                    "3": "11643"
                                },
                                {
                                    "0": "Agatha Christie",
                                    "1": "The Man in the Brown Suit",
                                    "2": "3.97",
                                    "3": "11643"
                                },
                                {
                                    "0": "Agatha Christie",
                                    "1": "Death on the Nile (Hercule Poirot, #17)",
                                    "2": "4.06",
                                    "3": "11643"
                                },
                                {
                                    "0": "Barbara Kingsolver",
                                    "1": "Animal Dreams",
                                    "2": "4.05",
                                    "3": "11643"
                                },
                                {
                                    "0": "Anne Brontë, Stevie Davies",
                                    "1": "The Tenant of Wildfell Hall",
                                    "2": "3.91",
                                    "3": "11643"
                                },
                                {
                                    "0": "Charlotte Perkins Gilman",
                                    "1": "The Yellow Wallpaper and Other Stories",
                                    "2": "4.02",
                                    "3": "11643"
                                },
                                {
                                    "0": "B.A. Shapiro",
                                    "1": "The Art Forger",
                                    "2": "3.69",
                                    "3": "11643"
                                },
                                {
                                    "0": "Chimamanda Ngozi Adichie",
                                    "1": "Half of a Yellow Sun",
                                    "2": "4.28",
                                    "3": "11643"
                                },
                                {
                                    "0": "Marilynne Robinson",
                                    "1": "Gilead (Gilead, #1)",
                                    "2": "3.84",
                                    "3": "11643"
                                },
                                {
                                    "0": "Jenny  Lawson",
                                    "1": "Furiously Happy: A Funny Book About Horrible Things",
                                    "2": "3.93",
                                    "3": "11643"
                                },
                                {
                                    "0": "Curtis Sittenfeld",
                                    "1": "Prep",
                                    "2": "3.36",
                                    "3": "11643"
                                },
                                {
                                    "0": "Margaret Atwood, Brigitte Walitzek",
                                    "1": "Alias Grace",
                                    "2": "3.97",
                                    "3": "11643"
                                },
                                {
                                    "0": "Gail Carriger",
                                    "1": "Soulless (Parasol Protectorate, #1)",
                                    "2": "3.91",
                                    "3": "11643"
                                },
                                {
                                    "0": "Tamora Pierce",
                                    "1": "In the Hand of the Goddess (Song of the Lioness, #2)",
                                    "2": "4.25",
                                    "3": "11643"
                                },
                                {
                                    "0": "Tamora Pierce",
                                    "1": "Lioness Rampant (Song of the Lioness, #4)",
                                    "2": "4.28",
                                    "3": "11643"
                                },
                                {
                                    "0": "Emma Straub",
                                    "1": "The Vacationers",
                                    "2": "3.14",
                                    "3": "11643"
                                },
                                {
                                    "0": "Patricia C. Wrede, Peter de Sève",
                                    "1": "Dealing with Dragons (Enchanted Forest Chronicles, #1)",
                                    "2": "4.14",
                                    "3": "11643"
                                },
                                {
                                    "0": "Anne Fadiman",
                                    "1": "The Spirit Catches You and You Fall Down: A Hmong Child, Her American Doctors, and the Collision of Two Cultures",
                                    "2": "4.14",
                                    "3": "11643"
                                },
                                {
                                    "0": "Kate Atkinson",
                                    "1": "Case Histories (Jackson Brodie #1)",
                                    "2": "3.82",
                                    "3": "11643"
                                },
                                {
                                    "0": "Eleanor H. Porter",
                                    "1": "Pollyanna (Pollyanna, #1)",
                                    "2": "3.95",
                                    "3": "11643"
                                },
                                {
                                    "0": "Tana French",
                                    "1": "Faithful Place (Dublin Murder Squad, #3)",
                                    "2": "3.97",
                                    "3": "11643"
                                },
                                {
                                    "0": "Lily King",
                                    "1": "Euphoria",
                                    "2": "3.84",
                                    "3": "11643"
                                },
                                {
                                    "0": "Marian Keyes",
                                    "1": "Rachel's Holiday (Walsh Family, #2)",
                                    "2": "3.93",
                                    "3": "11643"
                                },
                                {
                                    "0": "Eleanor Catton",
                                    "1": "The Luminaries",
                                    "2": "3.7",
                                    "3": "11643"
                                },
                                {
                                    "0": "Zadie Smith",
                                    "1": "On Beauty",
                                    "2": "3.68",
                                    "3": "11643"
                                },
                                {
                                    "0": "Marisha Pessl",
                                    "1": "Night Film",
                                    "2": "3.78",
                                    "3": "11643"
                                },
                                {
                                    "0": "Shirley Jackson, Laura   Miller",
                                    "1": "The Haunting of Hill House",
                                    "2": "3.89",
                                    "3": "11643"
                                },
                                {
                                    "0": "Laura Ingalls Wilder, Garth Williams",
                                    "1": "Little Town on the Prairie  (Little House, #7)",
                                    "2": "4.18",
                                    "3": "11643"
                                },
                                {
                                    "0": "Dodie Smith",
                                    "1": "I Capture the Castle",
                                    "2": "4",
                                    "3": "11643"
                                },
                                {
                                    "0": "Robin Hobb",
                                    "1": "Fool's Errand (Tawny Man, #1)",
                                    "2": "4.29",
                                    "3": "11643"
                                },
                                {
                                    "0": "A.S. Byatt",
                                    "1": "Possession",
                                    "2": "3.88",
                                    "3": "11643"
                                },
                                {
                                    "0": "Mary Karr",
                                    "1": "The Liars' Club",
                                    "2": "3.92",
                                    "3": "11643"
                                },
                                {
                                    "0": "Hilary Mantel",
                                    "1": "Bring Up the Bodies (Thomas Cromwell, #2)",
                                    "2": "4.26",
                                    "3": "11643"
                                },
                                {
                                    "0": "Patricia Cornwell",
                                    "1": "Point of Origin (Kay Scarpetta, #9)",
                                    "2": "4.02",
                                    "3": "11643"
                                },
                                {
                                    "0": "Ann Patchett",
                                    "1": "Commonwealth",
                                    "2": "3.84",
                                    "3": "11643"
                                },
                                {
                                    "0": "Jean M. Auel",
                                    "1": "The Valley of Horses (Earth's Children, #2)",
                                    "2": "3.98",
                                    "3": "11643"
                                },
                                {
                                    "0": "Katherine Dunn",
                                    "1": "Geek Love",
                                    "2": "3.98",
                                    "3": "11643"
                                },
                                {
                                    "0": "Hannah Kent",
                                    "1": "Burial Rites",
                                    "2": "4.01",
                                    "3": "11643"
                                },
                                {
                                    "0": "Sarah Waters",
                                    "1": "Fingersmith",
                                    "2": "4.02",
                                    "3": "11643"
                                },
                                {
                                    "0": "Patricia Cornwell",
                                    "1": "The Body Farm (Kay Scarpetta, #5)",
                                    "2": "4.04",
                                    "3": "11643"
                                },
                                {
                                    "0": "Elizabeth Gilbert",
                                    "1": "Big Magic: Creative Living Beyond Fear",
                                    "2": "3.9",
                                    "3": "11643"
                                },
                                {
                                    "0": "Barbara Kingsolver",
                                    "1": "The Lacuna",
                                    "2": "3.76",
                                    "3": "11643"
                                },
                                {
                                    "0": "Laurell K. Hamilton",
                                    "1": "The Laughing Corpse (Anita Blake, Vampire Hunter, #2)",
                                    "2": "4.11",
                                    "3": "11643"
                                },
                                {
                                    "0": "J.K. Rowling, Mary GrandPré",
                                    "1": "The Harry Potter Collection 1-4 (Harry Potter, #1-4)",
                                    "2": "4.66",
                                    "3": "11643"
                                },
                                {
                                    "0": "V.E. Schwab, Victoria Schwab",
                                    "1": "A Darker Shade of Magic (Shades of Magic, #1)",
                                    "2": "4.07",
                                    "3": "11643"
                                },
                                {
                                    "0": "Trudi Canavan",
                                    "1": "The Magicians' Guild (Black Magician Trilogy, #1)",
                                    "2": "3.96",
                                    "3": "11643"
                                },
                                {
                                    "0": "Jane Smiley",
                                    "1": "A Thousand Acres",
                                    "2": "3.79",
                                    "3": "11643"
                                },
                                {
                                    "0": "Karen Joy Fowler",
                                    "1": "The Jane Austen Book Club",
                                    "2": "3.07",
                                    "3": "11643"
                                },
                                {
                                    "0": "Sarah Waters",
                                    "1": "Tipping the Velvet",
                                    "2": "4",
                                    "3": "11643"
                                },
                                {
                                    "0": "Patricia Cornwell",
                                    "1": "Body of Evidence (Kay Scarpetta, #2)",
                                    "2": "4",
                                    "3": "11643"
                                },
                                {
                                    "0": "Charlotte Perkins Gilman, Elaine Hedges",
                                    "1": "The Yellow Wall-Paper",
                                    "2": "4.11",
                                    "3": "11643"
                                },
                                {
                                    "0": "Gillian Flynn",
                                    "1": "The Grownup",
                                    "2": "3.54",
                                    "3": "11643"
                                },
                                {
                                    "0": "Barbara Kingsolver",
                                    "1": "Pigs in Heaven",
                                    "2": "3.97",
                                    "3": "11643"
                                },
                                {
                                    "0": "Shirley Jackson",
                                    "1": "The Lottery and Other Stories",
                                    "2": "4.06",
                                    "3": "11643"
                                },
                                {
                                    "0": "Tana French",
                                    "1": "Broken Harbour (Dublin Murder Squad, #4)",
                                    "2": "3.92",
                                    "3": "11643"
                                },
                                {
                                    "0": "Ursula K. Le Guin",
                                    "1": "The Dispossessed",
                                    "2": "4.18",
                                    "3": "11643"
                                },
                                {
                                    "0": "Ann Leckie",
                                    "1": "Ancillary Justice (Imperial Radch #1)",
                                    "2": "3.97",
                                    "3": "11643"
                                },
                                {
                                    "0": "Margaret Weis, Tracy Hickman",
                                    "1": "Dragons of Spring Dawning (Dragonlance: Chronicles, #3)",
                                    "2": "4.12",
                                    "3": "11643"
                                },
                                {
                                    "0": "Lorraine Hansberry",
                                    "1": "A Raisin in the Sun",
                                    "2": "3.72",
                                    "3": "11643"
                                },
                                {
                                    "0": "Jacqueline Carey",
                                    "1": "Kushiel's Dart (Phèdre's Trilogy, #1)",
                                    "2": "4.04",
                                    "3": "11643"
                                },
                                {
                                    "0": "Meg Cabot",
                                    "1": "All-American Girl (All-American Girl, #1)",
                                    "2": "3.73",
                                    "3": "11643"
                                },
                                {
                                    "0": "Robin McKinley",
                                    "1": "Beauty: A Retelling of the Story of Beauty and the Beast",
                                    "2": "4.05",
                                    "3": "11643"
                                },
                                {
                                    "0": "Dava Sobel, Neil Armstrong",
                                    "1": "Longitude: The True Story of a Lone Genius Who Solved the Greatest Scientific Problem of His Time",
                                    "2": "3.95",
                                    "3": "11643"
                                },
                                {
                                    "0": "Patricia Cornwell",
                                    "1": "Unnatural Exposure (Kay Scarpetta, #8)",
                                    "2": "4.05",
                                    "3": "11643"
                                },
                                {
                                    "0": "Robin Hobb",
                                    "1": "Fool's Fate (Tawny Man, #3)",
                                    "2": "4.38",
                                    "3": "11643"
                                },
                                {
                                    "0": "Laura Ingalls Wilder, Garth Williams",
                                    "1": "By the Shores of Silver Lake  (Little House, #5)",
                                    "2": "4.16",
                                    "3": "11643"
                                },
                                {
                                    "0": "Madeline Miller",
                                    "1": "The Song of Achilles",
                                    "2": "4.27",
                                    "3": "11643"
                                },
                                {
                                    "0": "Amy Schumer",
                                    "1": "The Girl with the Lower Back Tattoo",
                                    "2": "3.76",
                                    "3": "11643"
                                },
                                {
                                    "0": "Candace Bushnell",
                                    "1": "Sex and the City",
                                    "2": "3.37",
                                    "3": "11643"
                                },
                                {
                                    "0": "Patricia Cornwell",
                                    "1": "All That Remains (Kay Scarpetta, #3)",
                                    "2": "4.05",
                                    "3": "11643"
                                },
                                {
                                    "0": "Robin Hobb",
                                    "1": "Golden Fool (Tawny Man, #2)",
                                    "2": "4.32",
                                    "3": "11643"
                                },
                                {
                                    "0": "Marjane Satrapi",
                                    "1": "Persepolis, Volume 1",
                                    "2": "4.27",
                                    "3": "11643"
                                },
                                {
                                    "0": "Laurie R. King",
                                    "1": "The Beekeeper's Apprentice (Mary Russell, #1)",
                                    "2": "4.08",
                                    "3": "11643"
                                },
                                {
                                    "0": "Marjane Satrapi, Anjali Singh",
                                    "1": "Persepolis 2: The Story of a Return (Persepolis, #2)",
                                    "2": "4.23",
                                    "3": "11643"
                                },
                                {
                                    "0": "Elizabeth Gilbert",
                                    "1": "Committed: A Skeptic Makes Peace with Marriage",
                                    "2": "3.39",
                                    "3": "11643"
                                },
                                {
                                    "0": "Else Holmelund Minarik, Maurice Sendak",
                                    "1": "Little Bear",
                                    "2": "4.22",
                                    "3": "11643"
                                },
                                {
                                    "0": "Naomi Novik",
                                    "1": "His Majesty's Dragon (Temeraire, #1)",
                                    "2": "4.05",
                                    "3": "11643"
                                },
                                {
                                    "0": "Karen Russell",
                                    "1": "Swamplandia!",
                                    "2": "3.21",
                                    "3": "11643"
                                },
                                {
                                    "0": "Charlotte Brontë, A.S. Byatt, Μαρία Λαϊνά, Ignes Sodre",
                                    "1": "Villette",
                                    "2": "3.75",
                                    "3": "11643"
                                },
                                {
                                    "0": "Toni Morrison",
                                    "1": "Sula",
                                    "2": "3.86",
                                    "3": "11643"
                                },
                                {
                                    "0": "Sapphire",
                                    "1": "Push",
                                    "2": "3.82",
                                    "3": "11643"
                                },
                                {
                                    "0": "Elena Ferrante, Ann Goldstein",
                                    "1": "The Story of a New Name (The Neapolitan Novels #2)",
                                    "2": "4.37",
                                    "3": "11643"
                                },
                                {
                                    "0": "Octavia E. Butler",
                                    "1": "Kindred",
                                    "2": "4.18",
                                    "3": "11643"
                                },
                                {
                                    "0": "Laura Ingalls Wilder, Garth Williams",
                                    "1": "The Long Winter (Little House, #6)",
                                    "2": "4.16",
                                    "3": "11643"
                                },
                                {
                                    "0": "Margaret Atwood",
                                    "1": "Cat's Eye",
                                    "2": "3.92",
                                    "3": "11643"
                                },
                                {
                                    "0": "Margaret Atwood",
                                    "1": "MaddAddam (MaddAddam, #3)",
                                    "2": "3.98",
                                    "3": "11643"
                                },
                                {
                                    "0": "Laura Ingalls Wilder, Garth Williams",
                                    "1": "These Happy Golden Years (Little House, #8)",
                                    "2": "4.17",
                                    "3": "11643"
                                },
                                {
                                    "0": "Cheryl Strayed",
                                    "1": "Tiny Beautiful Things: Advice on Love and Life from Dear Sugar",
                                    "2": "4.29",
                                    "3": "11643"
                                },
                                {
                                    "0": "Ann Rule",
                                    "1": "The Stranger Beside Me: Ted Bundy The Shocking Inside Story",
                                    "2": "4.13",
                                    "3": "11643"
                                },
                                {
                                    "0": "Tamora Pierce",
                                    "1": "The Woman Who Rides Like a Man (Song of the Lioness, #3)",
                                    "2": "4.2",
                                    "3": "11643"
                                },
                                {
                                    "0": "Marian Keyes",
                                    "1": "Lucy Sullivan Is Getting Married",
                                    "2": "3.74",
                                    "3": "11643"
                                },
                                {
                                    "0": "Chimamanda Ngozi Adichie",
                                    "1": "We Should All Be Feminists",
                                    "2": "4.47",
                                    "3": "11643"
                                },
                                {
                                    "0": "Amy Sedaris",
                                    "1": "I Like You: Hospitality Under the Influence",
                                    "2": "3.87",
                                    "3": "11643"
                                },
                                {
                                    "0": "Anne Lamott",
                                    "1": "Traveling Mercies: Some Thoughts on Faith",
                                    "2": "4.15",
                                    "3": "11643"
                                },
                                {
                                    "0": "Tamora Pierce",
                                    "1": "Wild Magic (Immortals, #1)",
                                    "2": "4.32",
                                    "3": "11643"
                                },
                                {
                                    "0": "Curtis Sittenfeld",
                                    "1": "American Wife",
                                    "2": "3.72",
                                    "3": "11643"
                                },
                                {
                                    "0": "Mary Doria Russell",
                                    "1": "The Sparrow (The Sparrow, #1)",
                                    "2": "4.17",
                                    "3": "11643"
                                },
                                {
                                    "0": "Shirley Jackson, Jonathan Lethem",
                                    "1": "We Have Always Lived in the Castle",
                                    "2": "4.05",
                                    "3": "11643"
                                },
                                {
                                    "0": "Gail Carson Levine",
                                    "1": "The Two Princesses of Bamarre",
                                    "2": "4.02",
                                    "3": "11643"
                                },
                                {
                                    "0": "Helen Macdonald",
                                    "1": "H is for Hawk",
                                    "2": "3.74",
                                    "3": "11643"
                                },
                                {
                                    "0": "Mary Roach",
                                    "1": "Bonk: The Curious Coupling of Science and Sex",
                                    "2": "3.83",
                                    "3": "11643"
                                },
                                {
                                    "0": "Robin Hobb",
                                    "1": "Ship of Magic (Liveship Traders, #1)",
                                    "2": "4.12",
                                    "3": "11643"
                                },
                                {
                                    "0": "Rupi Kaur",
                                    "1": "Milk and Honey",
                                    "2": "4.27",
                                    "3": "11643"
                                },
                                {
                                    "0": "Jennifer Weiner",
                                    "1": "Then Came You",
                                    "2": "3.69",
                                    "3": "11643"
                                },
                                {
                                    "0": "Bev Vincent",
                                    "1": "The Road to the Dark Tower: Exploring Stephen King's Magnum Opus",
                                    "2": "4.29",
                                    "3": "11643"
                                },
                                {
                                    "0": "N.H. Kleinbaum",
                                    "1": "Dead Poets Society",
                                    "2": "4.21",
                                    "3": "11643"
                                },
                                {
                                    "0": "Karen Armstrong",
                                    "1": "A History of God: The 4,000-Year Quest of Judaism, Christianity, and Islam",
                                    "2": "3.85",
                                    "3": "11643"
                                },
                                {
                                    "0": "Aimee Bender",
                                    "1": "The Particular Sadness of Lemon Cake",
                                    "2": "3.19",
                                    "3": "11643"
                                },
                                {
                                    "0": "Roxane Gay",
                                    "1": "Bad Feminist",
                                    "2": "3.91",
                                    "3": "11643"
                                },
                                {
                                    "0": "V.C. Andrews",
                                    "1": "Petals on the Wind (Dollanganger, #2)",
                                    "2": "3.82",
                                    "3": "11643"
                                },
                                {
                                    "0": "Noelle Stevenson",
                                    "1": "Nimona",
                                    "2": "4.2",
                                    "3": "11643"
                                },
                                {
                                    "0": "Patricia Cornwell",
                                    "1": "From Potter's Field (Kay Scarpetta, #6)",
                                    "2": "4.02",
                                    "3": "11643"
                                },
                                {
                                    "0": "Jeanette Winterson",
                                    "1": "Oranges Are Not the Only Fruit",
                                    "2": "3.75",
                                    "3": "11643"
                                },
                                {
                                    "0": "Sena Jeter Naslund",
                                    "1": "Ahab's Wife, or The Star-Gazer",
                                    "2": "4.02",
                                    "3": "11643"
                                },
                                {
                                    "0": "Therese Anne Fowler",
                                    "1": "Z: A Novel of Zelda Fitzgerald",
                                    "2": "3.82",
                                    "3": "11643"
                                },
                                {
                                    "0": "Tamora Pierce",
                                    "1": "Emperor Mage (Immortals, #3)",
                                    "2": "4.3",
                                    "3": "11643"
                                },
                                {
                                    "0": "Helen Fielding",
                                    "1": "Mad About the Boy (Bridget Jones, #3)",
                                    "2": "3.32",
                                    "3": "11643"
                                },
                                {
                                    "0": "Tamora Pierce",
                                    "1": "Terrier (Beka Cooper, #1)",
                                    "2": "4.16",
                                    "3": "11643"
                                },
                                {
                                    "0": "Amanda Lindhout, Sara Corbett",
                                    "1": "A House in the Sky",
                                    "2": "4.2",
                                    "3": "11643"
                                },
                                {
                                    "0": "Vera Brosgol",
                                    "1": "Anya's Ghost",
                                    "2": "3.88",
                                    "3": "11643"
                                },
                                {
                                    "0": "Jean Rhys",
                                    "1": "Wide Sargasso Sea",
                                    "2": "3.56",
                                    "3": "11643"
                                },
                                {
                                    "0": "Mira Grant",
                                    "1": "Feed (Newsflesh Trilogy, #1)",
                                    "2": "3.86",
                                    "3": "11643"
                                },
                                {
                                    "0": "L.M. Montgomery",
                                    "1": "Anne's House of Dreams (Anne of Green Gables, #5)",
                                    "2": "4.12",
                                    "3": "11643"
                                },
                                {
                                    "0": "Isabel Wilkerson",
                                    "1": "The Warmth of Other Suns: The Epic Story of America's Great Migration",
                                    "2": "4.31",
                                    "3": "11643"
                                },
                                {
                                    "0": "Claire North",
                                    "1": "The First Fifteen Lives of Harry August",
                                    "2": "4.04",
                                    "3": "11643"
                                },
                                {
                                    "0": "Barbara W. Tuchman, Robert K. Massie",
                                    "1": "The Guns of August",
                                    "2": "4.18",
                                    "3": "11643"
                                },
                                {
                                    "0": "Yaa Gyasi",
                                    "1": "Homegoing",
                                    "2": "4.41",
                                    "3": "11643"
                                },
                                {
                                    "0": "Mary Roach",
                                    "1": "Packing for Mars: The Curious Science of Life in the Void",
                                    "2": "3.93",
                                    "3": "11643"
                                },
                                {
                                    "0": "Elizabeth Peters",
                                    "1": "Crocodile on the Sandbank (Amelia Peabody #1)",
                                    "2": "4.02",
                                    "3": "11643"
                                },
                                {
                                    "0": "Virginia Lee Burton",
                                    "1": "Mike Mulligan and His Steam Shovel",
                                    "2": "4.2",
                                    "3": "11643"
                                },
                                {
                                    "0": "Tana French",
                                    "1": "The Secret Place (Dublin Murder Squad, #5)",
                                    "2": "3.83",
                                    "3": "11643"
                                },
                                {
                                    "0": "Sarah Vowell",
                                    "1": "Assassination Vacation",
                                    "2": "3.98",
                                    "3": "11643"
                                },
                                {
                                    "0": "Marisha Pessl",
                                    "1": "Special Topics in Calamity Physics",
                                    "2": "3.7",
                                    "3": "11643"
                                },
                                {
                                    "0": "Sylvia Plath",
                                    "1": "Ariel",
                                    "2": "4.23",
                                    "3": "11643"
                                },
                                {
                                    "0": "Suzanne Collins",
                                    "1": "Gregor and the Code of Claw (Underland Chronicles, #5)",
                                    "2": "4.25",
                                    "3": "11643"
                                },
                                {
                                    "0": "Eleanor Brown",
                                    "1": "The Weird Sisters",
                                    "2": "3.36",
                                    "3": "11643"
                                },
                                {
                                    "0": "Margaret Weis, Tracy Hickman",
                                    "1": "Dragons of Winter Night (Dragonlance: Chronicles, #2)",
                                    "2": "4.13",
                                    "3": "11643"
                                },
                                {
                                    "0": "George Eliot, A.S. Byatt",
                                    "1": "The Mill on the Floss",
                                    "2": "3.77",
                                    "3": "11643"
                                },
                                {
                                    "0": "Robin McKinley",
                                    "1": "The Blue Sword (Damar, #1)",
                                    "2": "4.24",
                                    "3": "11643"
                                },
                                {
                                    "0": "Tamora Pierce",
                                    "1": "Trickster's Queen (Daughter of the Lioness, #2)",
                                    "2": "4.28",
                                    "3": "11643"
                                },
                                {
                                    "0": "Åsne Seierstad, Ingrid Christopherson",
                                    "1": "The Bookseller of Kabul",
                                    "2": "3.76",
                                    "3": "11643"
                                },
                                {
                                    "0": "Kathy Reichs",
                                    "1": "Fatal Voyage (Temperance Brennan, #4)",
                                    "2": "4.04",
                                    "3": "11643"
                                },
                                {
                                    "0": "Alison Goodman",
                                    "1": "Eon: Dragoneye Reborn (Eon, #1)",
                                    "2": "3.98",
                                    "3": "11643"
                                },
                                {
                                    "0": "Carolyn Keene, Russell H. Tandy, Sara Paretsky",
                                    "1": "The Secret of the Old Clock (Nancy Drew, #1)",
                                    "2": "3.98",
                                    "3": "11643"
                                },
                                {
                                    "0": "Shirley Jackson",
                                    "1": "The Lottery",
                                    "2": "4.09",
                                    "3": "11643"
                                },
                                {
                                    "0": "Robin McKinley",
                                    "1": "The Hero and the Crown (Damar, #2)",
                                    "2": "4.21",
                                    "3": "11643"
                                },
                                {
                                    "0": "Catherine Marshall",
                                    "1": "Christy",
                                    "2": "4.2",
                                    "3": "11643"
                                },
                                {
                                    "0": "Susan Cooper",
                                    "1": "The Dark Is Rising (The Dark is Rising, #2)",
                                    "2": "4.07",
                                    "3": "11643"
                                },
                                {
                                    "0": "Jacqueline Susann",
                                    "1": "Valley of the Dolls",
                                    "2": "3.7",
                                    "3": "11643"
                                },
                                {
                                    "0": "Patricia Cornwell",
                                    "1": "Cause of Death (Kay Scarpetta, #7)",
                                    "2": "3.93",
                                    "3": "11643"
                                },
                                {
                                    "0": "Trudi Canavan",
                                    "1": "The High Lord (Black Magician Trilogy, #3)",
                                    "2": "4.15",
                                    "3": "11643"
                                },
                                {
                                    "0": "L.M. Montgomery",
                                    "1": "Anne of Windy Poplars (Anne of Green Gables, #4)",
                                    "2": "4.04",
                                    "3": "11643"
                                },
                                {
                                    "0": "Lisa Genova",
                                    "1": "Inside the O'Briens",
                                    "2": "3.98",
                                    "3": "11643"
                                },
                                {
                                    "0": "Tamora Pierce",
                                    "1": "The Realms of the Gods (Immortals, #4)",
                                    "2": "4.32",
                                    "3": "11643"
                                },
                                {
                                    "0": "Chimamanda Ngozi Adichie",
                                    "1": "Purple Hibiscus",
                                    "2": "4.11",
                                    "3": "11643"
                                },
                                {
                                    "0": "Miranda July",
                                    "1": "No One Belongs Here More Than You",
                                    "2": "3.81",
                                    "3": "11643"
                                },
                                {
                                    "0": "Curtis Sittenfeld",
                                    "1": "Sisterland",
                                    "2": "3.35",
                                    "3": "11643"
                                },
                                {
                                    "0": "Virginia Woolf",
                                    "1": "Orlando",
                                    "2": "3.86",
                                    "3": "11643"
                                },
                                {
                                    "0": "Anne Brontë, Angeline Goreau",
                                    "1": "Agnes Grey",
                                    "2": "3.65",
                                    "3": "11643"
                                },
                                {
                                    "0": "Donna Tartt",
                                    "1": "The Little Friend",
                                    "2": "3.43",
                                    "3": "11643"
                                },
                                {
                                    "0": "Agatha Christie",
                                    "1": "The Body in the Library (Miss Marple, #3)",
                                    "2": "3.85",
                                    "3": "11643"
                                },
                                {
                                    "0": "Laura Ingalls Wilder, Garth Williams",
                                    "1": "Farmer Boy (Little House, #3)",
                                    "2": "4.05",
                                    "3": "11643"
                                },
                                {
                                    "0": "Dorothy Allison",
                                    "1": "Bastard Out of Carolina",
                                    "2": "4.09",
                                    "3": "11643"
                                },
                                {
                                    "0": "Libba Bray",
                                    "1": "Beauty Queens",
                                    "2": "3.6",
                                    "3": "11643"
                                },
                                {
                                    "0": "Joy Adamson",
                                    "1": "Born Free: A Lioness of Two Worlds (Story of Elsa, #1)",
                                    "2": "4.17",
                                    "3": "11643"
                                },
                                {
                                    "0": "Tamora Pierce",
                                    "1": "Trickster's Choice (Daughter of the Lioness, #1)",
                                    "2": "4.27",
                                    "3": "11643"
                                },
                                {
                                    "0": "Claire Messud",
                                    "1": "The Woman Upstairs",
                                    "2": "3.31",
                                    "3": "11643"
                                },
                                {
                                    "0": "Patricia Highsmith",
                                    "1": "The Talented Mr. Ripley (Ripley, #1)",
                                    "2": "3.93",
                                    "3": "11643"
                                },
                                {
                                    "0": "Lauren Beukes",
                                    "1": "The Shining Girls",
                                    "2": "3.49",
                                    "3": "11643"
                                },
                                {
                                    "0": "Robin Hobb",
                                    "1": "The Mad Ship (Liveship Traders, #2)",
                                    "2": "4.21",
                                    "3": "11643"
                                },
                                {
                                    "0": "Elena Ferrante, Ann Goldstein",
                                    "1": "Those Who Leave and Those Who Stay (The Neapolitan Novels #3)",
                                    "2": "4.29",
                                    "3": "11643"
                                },
                                {
                                    "0": "Trudi Canavan",
                                    "1": "The Novice (Black Magician Trilogy, #2)",
                                    "2": "4.07",
                                    "3": "11643"
                                },
                                {
                                    "0": "Robin Hobb",
                                    "1": "Ship of Destiny (Liveship Traders, #3)",
                                    "2": "4.21",
                                    "3": "11643"
                                },
                                {
                                    "0": "Juliet Marillier",
                                    "1": "Daughter of the Forest  (Sevenwaters, #1)",
                                    "2": "4.28",
                                    "3": "11643"
                                },
                                {
                                    "0": "Amy Tan",
                                    "1": "The Hundred Secret Senses",
                                    "2": "3.98",
                                    "3": "11643"
                                },
                                {
                                    "0": "Tracy Chevalier",
                                    "1": "The Lady and the Unicorn",
                                    "2": "3.67",
                                    "3": "11643"
                                },
                                {
                                    "0": "Margaret Atwood",
                                    "1": "The Heart Goes Last",
                                    "2": "3.37",
                                    "3": "11643"
                                },
                                {
                                    "0": "Elizabeth Gaskell, Pam Morris",
                                    "1": "Wives and Daughters",
                                    "2": "4.07",
                                    "3": "11643"
                                },
                                {
                                    "0": "Virginia Lee Burton",
                                    "1": "The Little House",
                                    "2": "4.29",
                                    "3": "11643"
                                },
                                {
                                    "0": "Susan Vreeland",
                                    "1": "Girl in Hyacinth Blue",
                                    "2": "3.72",
                                    "3": "11643"
                                },
                                {
                                    "0": "Emily Carroll",
                                    "1": "Through the Woods",
                                    "2": "3.92",
                                    "3": "11643"
                                },
                                {
                                    "0": "Ayana Mathis",
                                    "1": "The Twelve Tribes of Hattie",
                                    "2": "3.46",
                                    "3": "11643"
                                },
                                {
                                    "0": "Carol Ryrie Brink",
                                    "1": "Caddie Woodlawn  (Caddie Woodlawn #1)",
                                    "2": "3.99",
                                    "3": "11643"
                                },
                                {
                                    "0": "Ursula K. Le Guin",
                                    "1": "The Lathe of Heaven",
                                    "2": "4.09",
                                    "3": "11643"
                                },
                                {
                                    "0": "Anne McCaffrey",
                                    "1": "Dragonsong (Harper Hall, #1)",
                                    "2": "4.24",
                                    "3": "11643"
                                },
                                {
                                    "0": "Harriet Jacobs",
                                    "1": "Incidents in the Life of a Slave Girl",
                                    "2": "4.08",
                                    "3": "11643"
                                },
                                {
                                    "0": "Julie Otsuka",
                                    "1": "The Buddha in the Attic",
                                    "2": "3.59",
                                    "3": "11643"
                                },
                                {
                                    "0": "Marina Keegan",
                                    "1": "The Opposite of Loneliness: Essays and Stories",
                                    "2": "3.82",
                                    "3": "11643"
                                },
                                {
                                    "0": "G. Willow Wilson, Adrian Alphona",
                                    "1": "Ms. Marvel, Vol. 1: No Normal",
                                    "2": "4.13",
                                    "3": "11643"
                                },
                                {
                                    "0": "Megan Whalen Turner",
                                    "1": "The Thief (The Queen's Thief, #1)",
                                    "2": "3.92",
                                    "3": "11643"
                                },
                                {
                                    "0": "Sarah Winman",
                                    "1": "When God Was a Rabbit",
                                    "2": "3.67",
                                    "3": "11643"
                                },
                                {
                                    "0": "E. Nesbit",
                                    "1": "The Railway Children",
                                    "2": "3.99",
                                    "3": "11643"
                                },
                                {
                                    "0": "Flannery O'Connor",
                                    "1": "The Complete Stories",
                                    "2": "4.44",
                                    "3": "11643"
                                },
                                {
                                    "0": "Han Kang, Deborah     Smith",
                                    "1": "The Vegetarian",
                                    "2": "3.59",
                                    "3": "11643"
                                },
                                {
                                    "0": "Connie Willis",
                                    "1": "Doomsday Book (Oxford Time Travel, #1)",
                                    "2": "4.03",
                                    "3": "11643"
                                },
                                {
                                    "0": "Tamora Pierce",
                                    "1": "First Test (Protector of the Small, #1)",
                                    "2": "4.24",
                                    "3": "11643"
                                },
                                {
                                    "0": "Sue Townsend",
                                    "1": "The Secret Diary of Adrian Mole, Aged 13 3/4  (Adrian Mole, #1)",
                                    "2": "3.85",
                                    "3": "11643"
                                },
                                {
                                    "0": "Tamora Pierce",
                                    "1": "Lady Knight (Protector of the Small, #4)",
                                    "2": "4.3",
                                    "3": "11643"
                                },
                                {
                                    "0": "Mary Roach",
                                    "1": "Gulp: Adventures on the Alimentary Canal",
                                    "2": "3.92",
                                    "3": "11643"
                                },
                                {
                                    "0": "Ruth Reichl",
                                    "1": "Tender at the Bone: Growing Up at the Table",
                                    "2": "4.05",
                                    "3": "11643"
                                },
                                {
                                    "0": "P.D. James",
                                    "1": "The Children of Men",
                                    "2": "3.69",
                                    "3": "11643"
                                },
                                {
                                    "0": "Sloane Crosley",
                                    "1": "I Was Told There'd Be Cake",
                                    "2": "3.45",
                                    "3": "11643"
                                },
                                {
                                    "0": "Antonia Fraser",
                                    "1": "Marie Antoinette: The Journey",
                                    "2": "3.91",
                                    "3": "11643"
                                },
                                {
                                    "0": "Michelle Magorian",
                                    "1": "Good Night, Mr. Tom",
                                    "2": "4.28",
                                    "3": "11643"
                                },
                                {
                                    "0": "Marguerite Henry, Wesley Dennis",
                                    "1": "Misty of Chincoteague (Misty, #1)",
                                    "2": "4.04",
                                    "3": "11643"
                                },
                                {
                                    "0": "Nora Ephron",
                                    "1": "I Feel Bad about My Neck: And Other Thoughts on Being a Woman",
                                    "2": "3.65",
                                    "3": "11643"
                                },
                                {
                                    "0": "Louisa May Alcott",
                                    "1": "Little Men (Little Women, #2)",
                                    "2": "3.84",
                                    "3": "11643"
                                },
                                {
                                    "0": "Willa Cather",
                                    "1": "O Pioneers!",
                                    "2": "3.84",
                                    "3": "11643"
                                },
                                {
                                    "0": "Naomi Klein",
                                    "1": "The Shock Doctrine: The Rise of Disaster Capitalism",
                                    "2": "4.22",
                                    "3": "11643"
                                },
                                {
                                    "0": "Shannon Hale, James Noel Smith",
                                    "1": "Book of a Thousand Days",
                                    "2": "3.95",
                                    "3": "11643"
                                },
                                {
                                    "0": "Edith Hamilton, Steele Savage",
                                    "1": "Mythology: Timeless Tales of Gods and Heroes",
                                    "2": "3.98",
                                    "3": "11643"
                                },
                                {
                                    "0": "Ree Drummond",
                                    "1": "The Pioneer Woman Cooks: Recipes from an Accidental Country Girl",
                                    "2": "4.18",
                                    "3": "11643"
                                },
                                {
                                    "0": "Carrie Fisher",
                                    "1": "Wishful Drinking",
                                    "2": "3.71",
                                    "3": "11643"
                                },
                                {
                                    "0": "Marilynne Robinson",
                                    "1": "Housekeeping",
                                    "2": "3.82",
                                    "3": "11643"
                                },
                                {
                                    "0": "Tamora Pierce",
                                    "1": "Wolf-Speaker (Immortals, #2)",
                                    "2": "4.21",
                                    "3": "11643"
                                },
                                {
                                    "0": "Plum Sykes",
                                    "1": "Bergdorf Blondes",
                                    "2": "3.26",
                                    "3": "11643"
                                },
                                {
                                    "0": "Tamora Pierce",
                                    "1": "Squire (Protector of the Small, #3)",
                                    "2": "4.27",
                                    "3": "11643"
                                },
                                {
                                    "0": "Banana Yoshimoto, Megan Backus",
                                    "1": "Kitchen",
                                    "2": "3.83",
                                    "3": "11643"
                                },
                                {
                                    "0": "Elena Ferrante, Ann Goldstein",
                                    "1": "The Story of the Lost Child (The Neapolitan Novels, #4)",
                                    "2": "4.39",
                                    "3": "11643"
                                },
                                {
                                    "0": "Gabrielle Hamilton",
                                    "1": "Blood, Bones, and Butter: The Inadvertent Education of a Reluctant Chef",
                                    "2": "3.71",
                                    "3": "11643"
                                },
                                {
                                    "0": "Alice Hoffman",
                                    "1": "Practical Magic",
                                    "2": "3.8",
                                    "3": "11643"
                                },
                                {
                                    "0": "Susan Hill, John Lawrence",
                                    "1": "The Woman in Black",
                                    "2": "3.68",
                                    "3": "11643"
                                },
                                {
                                    "0": "Susan Sontag",
                                    "1": "On Photography",
                                    "2": "3.84",
                                    "3": "11643"
                                },
                                {
                                    "0": "Victoria Hislop",
                                    "1": "The Island",
                                    "2": "3.99",
                                    "3": "11643"
                                },
                                {
                                    "0": "Flannery O'Connor",
                                    "1": "A Good Man is Hard to Find and Other Stories",
                                    "2": "4.24",
                                    "3": "11643"
                                },
                                {
                                    "0": "Mary  Stewart",
                                    "1": "The Crystal Cave (Arthurian Saga, #1)",
                                    "2": "4.12",
                                    "3": "11643"
                                },
                                {
                                    "0": "Felicia Day, Joss Whedon",
                                    "1": "You're Never Weird on the Internet (Almost)",
                                    "2": "4.14",
                                    "3": "11643"
                                },
                                {
                                    "0": "Susan Cooper",
                                    "1": "Over Sea, Under Stone (The Dark Is Rising, #1)",
                                    "2": "3.85",
                                    "3": "11643"
                                },
                                {
                                    "0": "Anne McCaffrey",
                                    "1": "The White Dragon (Pern, #3)",
                                    "2": "4.17",
                                    "3": "11643"
                                },
                                {
                                    "0": "Margaret Atwood",
                                    "1": "The Robber Bride",
                                    "2": "3.82",
                                    "3": "11643"
                                },
                                {
                                    "0": "Patricia C. Wrede, Peter de Sève",
                                    "1": "Searching for Dragons (Enchanted Forest Chronicles, #2)",
                                    "2": "4.25",
                                    "3": "11643"
                                },
                                {
                                    "0": "Ntozake Shange",
                                    "1": "for colored girls who have considered suicide/when the rainbow is enuf",
                                    "2": "4.27",
                                    "3": "11643"
                                },
                                {
                                    "0": "Stella Gibbons, Lynne Truss, Roz Chast",
                                    "1": "Cold Comfort Farm",
                                    "2": "3.92",
                                    "3": "11643"
                                },
                                {
                                    "0": "L.M. Montgomery",
                                    "1": "Anne of Ingleside (Anne of Green Gables, #6)",
                                    "2": "4.05",
                                    "3": "11643"
                                },
                                {
                                    "0": "Mary Roach",
                                    "1": "Spook: Science Tackles the Afterlife",
                                    "2": "3.57",
                                    "3": "11643"
                                },
                                {
                                    "0": "Michelle Alexander",
                                    "1": "The New Jim Crow: Mass Incarceration in the Age of Colorblindness",
                                    "2": "4.49",
                                    "3": "11643"
                                },
                                {
                                    "0": "Cristina Henriquez",
                                    "1": "The Book of Unknown Americans",
                                    "2": "3.85",
                                    "3": "11643"
                                },
                                {
                                    "0": "Kate Atkinson",
                                    "1": "When Will There Be Good News? (Jackson Brodie, #3)",
                                    "2": "3.97",
                                    "3": "11643"
                                },
                                {
                                    "0": "Jenny Offill",
                                    "1": "Dept. of Speculation",
                                    "2": "3.72",
                                    "3": "11643"
                                },
                                {
                                    "0": "Anne McCaffrey",
                                    "1": "Dragonsinger (Harper Hall, #2)",
                                    "2": "4.26",
                                    "3": "11643"
                                },
                                {
                                    "0": "Rebecca Wells",
                                    "1": "Little Altars Everywhere",
                                    "2": "3.55",
                                    "3": "11643"
                                },
                                {
                                    "0": "Marian Keyes",
                                    "1": " Angels (Walsh Family, #3)",
                                    "2": "3.73",
                                    "3": "11643"
                                },
                                {
                                    "0": "Lolly Winston",
                                    "1": "Good Grief",
                                    "2": "3.72",
                                    "3": "11643"
                                },
                                {
                                    "0": "Candace Bushnell",
                                    "1": "Four Blondes",
                                    "2": "2.8",
                                    "3": "11643"
                                },
                                {
                                    "0": "Pam Adams",
                                    "1": "There Was An Old Lady Who Swallowed A Fly (Classic Books)",
                                    "2": "4.2",
                                    "3": "11643"
                                },
                                {
                                    "0": "L.M. Montgomery",
                                    "1": "Emily of New Moon (Emily, #1)",
                                    "2": "4.09",
                                    "3": "11643"
                                },
                                {
                                    "0": "Jacqueline Carey",
                                    "1": "Kushiel's Chosen (Phèdre's Trilogy, #2)",
                                    "2": "4.31",
                                    "3": "11643"
                                },
                                {
                                    "0": "Octavia E. Butler",
                                    "1": "Parable of the Sower (Earthseed, #1)",
                                    "2": "4.14",
                                    "3": "11643"
                                },
                                {
                                    "0": "Lisa Genova",
                                    "1": "Love Anthony",
                                    "2": "3.94",
                                    "3": "11643"
                                },
                                {
                                    "0": "Jean Webster",
                                    "1": "Daddy-Long-Legs (Daddy-Long-Legs, #1)",
                                    "2": "4.09",
                                    "3": "11643"
                                },
                                {
                                    "0": "Anne McCaffrey",
                                    "1": "Dragonquest (Pern, #2)",
                                    "2": "4.09",
                                    "3": "11643"
                                },
                                {
                                    "0": "Robin Hobb",
                                    "1": "Fool's Assassin (The Fitz and the Fool, #1)",
                                    "2": "4.35",
                                    "3": "11643"
                                },
                                {
                                    "0": "Stephenie Meyer",
                                    "1": "The Twilight Saga: The Official Illustrated Guide (Twilight, #4.5)",
                                    "2": "4.23",
                                    "3": "11643"
                                },
                                {
                                    "0": "Muriel Spark",
                                    "1": "The Prime of Miss Jean Brodie",
                                    "2": "3.76",
                                    "3": "11643"
                                },
                                {
                                    "0": "Mariko Tamaki, Jillian Tamaki",
                                    "1": "This One Summer",
                                    "2": "3.67",
                                    "3": "11643"
                                },
                                {
                                    "0": "Tana French",
                                    "1": "The Trespasser (Dublin Murder Squad #6)",
                                    "2": "3.98",
                                    "3": "11643"
                                },
                                {
                                    "0": "Elizabeth Kolbert",
                                    "1": "The Sixth Extinction: An Unnatural History",
                                    "2": "4.09",
                                    "3": "11643"
                                },
                                {
                                    "0": "Lian Hearn",
                                    "1": "Across the Nightingale Floor (Tales of the Otori, #1)",
                                    "2": "4.06",
                                    "3": "11643"
                                },
                                {
                                    "0": "Emma Donoghue",
                                    "1": "The Wonder",
                                    "2": "3.65",
                                    "3": "11643"
                                },
                                {
                                    "0": "Meg Rosoff",
                                    "1": "How I Live Now",
                                    "2": "3.58",
                                    "3": "11643"
                                },
                                {
                                    "0": "Maria Semple",
                                    "1": "Today Will Be Different",
                                    "2": "3.19",
                                    "3": "11643"
                                },
                                {
                                    "0": "Karen Cushman",
                                    "1": "Catherine, Called Birdy",
                                    "2": "3.7",
                                    "3": "11643"
                                },
                                {
                                    "0": "Tamora Pierce",
                                    "1": "Page (Protector of the Small, #2)",
                                    "2": "4.22",
                                    "3": "11643"
                                },
                                {
                                    "0": "N.K. Jemisin",
                                    "1": "The Hundred Thousand Kingdoms (Inheritance Trilogy, #1)",
                                    "2": "3.8",
                                    "3": "11643"
                                },
                                {
                                    "0": "Elizabeth Gaskell",
                                    "1": "Cranford",
                                    "2": "3.85",
                                    "3": "11643"
                                },
                                {
                                    "0": "Amanda Palmer",
                                    "1": "The Art of Asking; or, How I Learned to Stop Worrying and Let People Help",
                                    "2": "3.97",
                                    "3": "11643"
                                },
                                {
                                    "0": "Elizabeth  George",
                                    "1": "A Great Deliverance (Inspector Lynley, #1)",
                                    "2": "4.06",
                                    "3": "11643"
                                },
                                {
                                    "0": "Ann Patchett",
                                    "1": "The Magician's Assistant",
                                    "2": "3.64",
                                    "3": "11643"
                                },
                                {
                                    "0": "Mary O'Hara, Dave Blossom",
                                    "1": "My Friend Flicka (Flicka, #1)",
                                    "2": "4.15",
                                    "3": "11643"
                                },
                                {
                                    "0": "Caroline Myss",
                                    "1": "Anatomy of the Spirit: The Seven Stages of Power and Healing",
                                    "2": "4.12",
                                    "3": "11643"
                                },
                                {
                                    "0": "Nigella Lawson",
                                    "1": "How to Be a Domestic Goddess: Baking and the Art of Comfort Cooking",
                                    "2": "4",
                                    "3": "11643"
                                },
                                {
                                    "0": "Kate Douglas Wiggin",
                                    "1": "Rebecca of Sunnybrook Farm",
                                    "2": "3.85",
                                    "3": "11643"
                                },
                                {
                                    "0": "Dorothy L. Sayers",
                                    "1": "Whose Body?  (Lord Peter Wimsey, #1)",
                                    "2": "3.91",
                                    "3": "11643"
                                },
                                {
                                    "0": "Ayn Rand, Leonard Peikoff",
                                    "1": "We the Living",
                                    "2": "3.89",
                                    "3": "11643"
                                },
                                {
                                    "0": "Sarah Waters",
                                    "1": "The Little Stranger",
                                    "2": "3.51",
                                    "3": "11643"
                                },
                                {
                                    "0": "Anita Shreve",
                                    "1": "Fortune's Rocks",
                                    "2": "3.86",
                                    "3": "11643"
                                },
                                {
                                    "0": "Patricia Highsmith",
                                    "1": "The Price of Salt",
                                    "2": "3.93",
                                    "3": "11643"
                                },
                                {
                                    "0": "Zadie Smith",
                                    "1": "NW",
                                    "2": "3.41",
                                    "3": "11643"
                                },
                                {
                                    "0": "Ann Patchett",
                                    "1": "The Patron Saint of Liars",
                                    "2": "3.76",
                                    "3": "11643"
                                },
                                {
                                    "0": "V.E. Schwab, Victoria Schwab",
                                    "1": "A Gathering of Shadows (Shades of Magic, #2)",
                                    "2": "4.33",
                                    "3": "11643"
                                },
                                {
                                    "0": "Clarissa Pinkola Estés",
                                    "1": "Women Who Run With the Wolves: Myths and Stories of the Wild Woman Archetype",
                                    "2": "4.15",
                                    "3": "11643"
                                },
                                {
                                    "0": "Patricia C. Wrede, Peter de Sève",
                                    "1": "Calling on Dragons (Enchanted Forest Chronicles, #3)",
                                    "2": "4.2",
                                    "3": "11643"
                                },
                                {
                                    "0": "Sarah Vowell, Katherine Streeter",
                                    "1": "The Partly Cloudy Patriot",
                                    "2": "3.9",
                                    "3": "11643"
                                },
                                {
                                    "0": "Alice Munro",
                                    "1": "Dear Life: Stories",
                                    "2": "3.75",
                                    "3": "11643"
                                },
                                {
                                    "0": "Jacqueline Carey",
                                    "1": "Kushiel's Avatar (Phèdre's Trilogy, #3)",
                                    "2": "4.37",
                                    "3": "11643"
                                },
                                {
                                    "0": "Lilian Jackson Braun",
                                    "1": "The Cat Who Could Read Backwards (Cat Who..., #1)",
                                    "2": "3.84",
                                    "3": "11643"
                                },
                                {
                                    "0": "Kathy Reichs",
                                    "1": "Death du Jour (Temperance Brennan, #2)",
                                    "2": "3.96",
                                    "3": "11643"
                                },
                                {
                                    "0": "Cherie Priest",
                                    "1": "Boneshaker (The Clockwork Century, #1)",
                                    "2": "3.5",
                                    "3": "11643"
                                },
                                {
                                    "0": "Rita Mae Brown",
                                    "1": "Rubyfruit Jungle",
                                    "2": "3.88",
                                    "3": "11643"
                                },
                                {
                                    "0": "Monica Ali",
                                    "1": "Brick Lane",
                                    "2": "3.38",
                                    "3": "11643"
                                },
                                {
                                    "0": "Rachel Carson, Linda Lear, Edward O. Wilson",
                                    "1": "Silent Spring",
                                    "2": "3.94",
                                    "3": "11643"
                                },
                                {
                                    "0": "Nadia Hashimi",
                                    "1": "The Pearl That Broke Its Shell",
                                    "2": "4.12",
                                    "3": "11643"
                                },
                                {
                                    "0": "Joanne Harris",
                                    "1": "Five Quarters of the Orange",
                                    "2": "3.83",
                                    "3": "11643"
                                },
                                {
                                    "0": "Susan Cooper",
                                    "1": "Silver on the Tree (The Dark is Rising, #5)",
                                    "2": "4.16",
                                    "3": "11643"
                                },
                                {
                                    "0": "Enid Bagnold",
                                    "1": "National Velvet",
                                    "2": "4.09",
                                    "3": "11643"
                                },
                                {
                                    "0": "Emma Straub",
                                    "1": "Modern Lovers",
                                    "2": "3.45",
                                    "3": "11643"
                                },
                                {
                                    "0": "Lauren Graham",
                                    "1": "Talking as Fast as I Can: From Gilmore Girls to Gilmore Girls, and Everything in Between",
                                    "2": "4.04",
                                    "3": "11643"
                                },
                                {
                                    "0": "P.D. James",
                                    "1": "Cover Her Face (Adam Dalgliesh #1)",
                                    "2": "3.94",
                                    "3": "11643"
                                },
                                {
                                    "0": "Hannah  Green, Joanne Greenberg",
                                    "1": "I Never Promised You a Rose Garden",
                                    "2": "3.85",
                                    "3": "11643"
                                },
                                {
                                    "0": "Marguerite Duras, Barbara Bray, Maxine Hong Kingston",
                                    "1": "The Lover",
                                    "2": "3.76",
                                    "3": "11643"
                                },
                                {
                                    "0": "Claire Messud",
                                    "1": "The Emperor's Children",
                                    "2": "2.93",
                                    "3": "11643"
                                },
                                {
                                    "0": "Ann Leckie",
                                    "1": "Ancillary Sword (Imperial Radch, #2)",
                                    "2": "4.03",
                                    "3": "11643"
                                },
                                {
                                    "0": "Catherynne M. Valente, Ana Juan",
                                    "1": "The Girl Who Circumnavigated Fairyland in a Ship of Her Own Making (Fairyland, #1)",
                                    "2": "3.97",
                                    "3": "11643"
                                },
                                {
                                    "0": "Kathy Reichs",
                                    "1": "Bare Bones (Temperance Brennan, #6)",
                                    "2": "3.95",
                                    "3": "11643"
                                },
                                {
                                    "0": "Louisa May Alcott",
                                    "1": "Eight Cousins (Eight Cousins, #1)",
                                    "2": "4.02",
                                    "3": "11643"
                                },
                                {
                                    "0": "Susan Cooper",
                                    "1": "The Grey King (The Dark Is Rising, #4)",
                                    "2": "4.18",
                                    "3": "11643"
                                },
                                {
                                    "0": "Edwidge Danticat",
                                    "1": "Breath, Eyes, Memory",
                                    "2": "3.86",
                                    "3": "11643"
                                },
                                {
                                    "0": "L.M. Montgomery",
                                    "1": "Rilla of Ingleside (Anne of Green Gables, #8)",
                                    "2": "4.16",
                                    "3": "11643"
                                },
                                {
                                    "0": "Jeanette Winterson",
                                    "1": "Why Be Happy When You Could Be Normal?",
                                    "2": "3.94",
                                    "3": "11643"
                                },
                                {
                                    "0": "Roz Chast",
                                    "1": "Can't We Talk about Something More Pleasant?",
                                    "2": "4.1",
                                    "3": "11643"
                                },
                                {
                                    "0": "Tamora Pierce",
                                    "1": "Sandry's Book (Circle of Magic, #1)",
                                    "2": "3.99",
                                    "3": "11643"
                                },
                                {
                                    "0": "Agatha Christie",
                                    "1": "A Murder Is Announced (Miss Marple, #5)",
                                    "2": "3.96",
                                    "3": "11643"
                                },
                                {
                                    "0": "Elif Shafak",
                                    "1": "The Bastard of Istanbul",
                                    "2": "3.79",
                                    "3": "11643"
                                },
                                {
                                    "0": "Tamora Pierce",
                                    "1": "Bloodhound (Beka Cooper, #2)",
                                    "2": "4.26",
                                    "3": "11643"
                                },
                                {
                                    "0": "Ellis Peters",
                                    "1": "A Morbid Taste for Bones (Chronicles of Brother Cadfael, #1)",
                                    "2": "3.99",
                                    "3": "11643"
                                },
                                {
                                    "0": "Myla Goldberg",
                                    "1": "Bee Season",
                                    "2": "3.55",
                                    "3": "11643"
                                },
                                {
                                    "0": "A.N. Roquelaure, Anne Rice",
                                    "1": "Beauty's Release (Sleeping Beauty, #3)",
                                    "2": "3.71",
                                    "3": "11643"
                                },
                                {
                                    "0": "Caitlin Doughty",
                                    "1": "Smoke Gets in Your Eyes: And Other Lessons from the Crematory",
                                    "2": "4.04",
                                    "3": "11643"
                                },
                                {
                                    "0": "Caitlin Moran",
                                    "1": "How to Build a Girl",
                                    "2": "3.69",
                                    "3": "11643"
                                },
                                {
                                    "0": "Helene Hanff",
                                    "1": "84, Charing Cross Road",
                                    "2": "4.19",
                                    "3": "11643"
                                },
                                {
                                    "0": "Anna Kendrick",
                                    "1": "Scrappy Little Nobody",
                                    "2": "3.91",
                                    "3": "11643"
                                },
                                {
                                    "0": "Kate Atkinson",
                                    "1": "Started Early, Took My Dog (Jackson Brodie, #4)",
                                    "2": "3.89",
                                    "3": "11643"
                                },
                                {
                                    "0": "Lisa Lutz",
                                    "1": "The Spellman Files (The Spellmans, #1)",
                                    "2": "3.88",
                                    "3": "11643"
                                },
                                {
                                    "0": "Charlotte Brontë, Lucasta Miller, collaborative, Jessica Cox",
                                    "1": "Shirley",
                                    "2": "3.71",
                                    "3": "11643"
                                },
                                {
                                    "0": "Diane Muldrow, J.P. Miller",
                                    "1": "The Little Red Hen (Little Golden Book)",
                                    "2": "4.2",
                                    "3": "11643"
                                },
                                {
                                    "0": "Joni Eareckson Tada, Joe Musser",
                                    "1": "Joni: An Unforgettable Story",
                                    "2": "4.23",
                                    "3": "11643"
                                },
                                {
                                    "0": "Margaret Weis, Tracy Hickman",
                                    "1": "War of the Twins (Dragonlance: Legends, #2)",
                                    "2": "4.11",
                                    "3": "11643"
                                },
                                {
                                    "0": "Shakti Gawain",
                                    "1": "Creative Visualization: Use the Power of Your Imagination to Create What You Want in Your Life",
                                    "2": "4.13",
                                    "3": "11643"
                                },
                                {
                                    "0": "Marina Lewycka",
                                    "1": "A Short History of Tractors in Ukrainian",
                                    "2": "3.37",
                                    "3": "11643"
                                },
                                {
                                    "0": "Anne McCaffrey",
                                    "1": "Dragonsdawn (Pern, #9)",
                                    "2": "4.17",
                                    "3": "11643"
                                },
                                {
                                    "0": "Kaye Gibbons",
                                    "1": "Ellen Foster",
                                    "2": "3.75",
                                    "3": "11643"
                                },
                                {
                                    "0": "Isa Chandra Moskowitz, Terry Hope Romero",
                                    "1": "Veganomicon: The Ultimate Vegan Cookbook",
                                    "2": "3.98",
                                    "3": "11643"
                                },
                                {
                                    "0": "Flannery O'Connor",
                                    "1": "Wise Blood",
                                    "2": "3.88",
                                    "3": "11643"
                                },
                                {
                                    "0": "N.K. Jemisin",
                                    "1": "The Fifth Season (The Broken Earth, #1)",
                                    "2": "4.31",
                                    "3": "11643"
                                },
                                {
                                    "0": "Patricia C. Wrede, Peter de Sève",
                                    "1": "Talking to Dragons (Enchanted Forest Chronicles, #4)",
                                    "2": "4.19",
                                    "3": "11643"
                                },
                                {
                                    "0": "A.N. Roquelaure, Anne Rice",
                                    "1": "Beauty's Punishment (Sleeping Beauty, #2)",
                                    "2": "3.62",
                                    "3": "11643"
                                },
                                {
                                    "0": "Willa Cather",
                                    "1": "Death Comes for the Archbishop",
                                    "2": "3.88",
                                    "3": "11643"
                                },
                                {
                                    "0": "Jeanette Winterson",
                                    "1": "Written on the Body",
                                    "2": "4.08",
                                    "3": "11643"
                                },
                                {
                                    "0": "Agatha Christie",
                                    "1": "4:50 from Paddington (Miss Marple, #8)",
                                    "2": "3.92",
                                    "3": "11643"
                                },
                                {
                                    "0": "Isabel Allende, Margaret Sayers Peden",
                                    "1": "City of the Beasts (Eagle and Jaguar, #1)",
                                    "2": "3.69",
                                    "3": "11643"
                                },
                                {
                                    "0": "Meg Cabot",
                                    "1": "Haunted (The Mediator, #5)",
                                    "2": "4.15",
                                    "3": "11643"
                                },
                                {
                                    "0": "Anne McCaffrey",
                                    "1": "Dragondrums (Harper Hall, #3)",
                                    "2": "4.04",
                                    "3": "11643"
                                },
                                {
                                    "0": "Dava Sobel",
                                    "1": "Galileo's Daughter: A Historical Memoir of Science, Faith and Love",
                                    "2": "3.74",
                                    "3": "11643"
                                },
                                {
                                    "0": "Melinda Long, David Shannon",
                                    "1": "How I Became a Pirate",
                                    "2": "4.07",
                                    "3": "11643"
                                },
                                {
                                    "0": "Robin Hobb",
                                    "1": "The Dragon Keeper (Rain Wild Chronicles, #1)",
                                    "2": "3.93",
                                    "3": "11643"
                                },
                                {
                                    "0": "Julia Donaldson, Axel Scheffler",
                                    "1": "The Gruffalo",
                                    "2": "4.47",
                                    "3": "11643"
                                },
                                {
                                    "0": "Mary Higgins Clark",
                                    "1": "All Around the Town",
                                    "2": "3.94",
                                    "3": "11643"
                                },
                                {
                                    "0": "Anita Shreve",
                                    "1": "The Weight of Water",
                                    "2": "3.62",
                                    "3": "11643"
                                },
                                {
                                    "0": "Maeve Binchy",
                                    "1": "Scarlet Feather",
                                    "2": "3.93",
                                    "3": "11643"
                                },
                                {
                                    "0": "Agatha Christie",
                                    "1": "The Secret Adversary (Tommy and Tuppence #1)",
                                    "2": "3.82",
                                    "3": "11643"
                                },
                                {
                                    "0": "Naomi Klein",
                                    "1": "No Logo",
                                    "2": "3.86",
                                    "3": "11643"
                                },
                                {
                                    "0": "Mary Higgins Clark",
                                    "1": "Loves Music, Loves to Dance",
                                    "2": "3.89",
                                    "3": "11643"
                                },
                                {
                                    "0": "Mercedes Lackey",
                                    "1": "Arrows of the Queen (Heralds of Valdemar, #1)",
                                    "2": "4.16",
                                    "3": "11643"
                                },
                                {
                                    "0": "Joan Didion",
                                    "1": "Slouching Towards Bethlehem",
                                    "2": "4.24",
                                    "3": "11643"
                                },
                                {
                                    "0": "Robin McKinley",
                                    "1": "Sunshine",
                                    "2": "3.85",
                                    "3": "11643"
                                },
                                {
                                    "0": "Jesmyn Ward",
                                    "1": "Salvage the Bones",
                                    "2": "3.81",
                                    "3": "11643"
                                },
                                {
                                    "0": "Naomi Novik",
                                    "1": "Throne of Jade (Temeraire, #2)",
                                    "2": "3.89",
                                    "3": "11643"
                                },
                                {
                                    "0": "Meg Cabot",
                                    "1": "Ninth Key (The Mediator, #2)",
                                    "2": "4.07",
                                    "3": "11643"
                                },
                                {
                                    "0": "Isabel Allende, Margaret Sayers Peden",
                                    "1": "Of Love and Shadows",
                                    "2": "3.96",
                                    "3": "11643"
                                },
                                {
                                    "0": "Anita Shreve",
                                    "1": "Sea Glass",
                                    "2": "3.65",
                                    "3": "11643"
                                },
                                {
                                    "0": "Laline Paull",
                                    "1": "The Bees",
                                    "2": "3.67",
                                    "3": "11643"
                                },
                                {
                                    "0": "Margaret Atwood",
                                    "1": "The Edible Woman",
                                    "2": "3.67",
                                    "3": "11643"
                                },
                                {
                                    "0": "Sarah Simblet",
                                    "1": "Anatomy for the Artist",
                                    "2": "3.97",
                                    "3": "11643"
                                },
                                {
                                    "0": "Angela Carter",
                                    "1": "The Bloody Chamber and Other Stories",
                                    "2": "4.02",
                                    "3": "11643"
                                },
                                {
                                    "0": "Kim Gordon",
                                    "1": "Girl in a Band",
                                    "2": "3.58",
                                    "3": "11643"
                                },
                                {
                                    "0": "Anne Bishop",
                                    "1": "Daughter of the Blood (The Black Jewels #1)",
                                    "2": "4.12",
                                    "3": "11643"
                                },
                                {
                                    "0": "Kathy Reichs",
                                    "1": "Monday Mourning (Temperance Brennan, #7)",
                                    "2": "4.02",
                                    "3": "11643"
                                },
                                {
                                    "0": "Joan Didion, David Thomson",
                                    "1": "Play It as It Lays",
                                    "2": "3.86",
                                    "3": "11643"
                                },
                                {
                                    "0": "Simone de Beauvoir, H.M. Parshley, Deirdre Bair",
                                    "1": "The Second Sex",
                                    "2": "4.09",
                                    "3": "11643"
                                },
                                {
                                    "0": "Margaret Weis, Tracy Hickman",
                                    "1": "Dragon Wing (The Death Gate Cycle, #1)",
                                    "2": "3.93",
                                    "3": "11643"
                                },
                                {
                                    "0": "Noelle Stevenson, Grace Ellis, Shannon Waters, Shannon Watters, Brooke A. Allen, Faith Hicks, Kat Leyh, Brooke Allen, Carolyn Nowak, Various, Carey Pietsch",
                                    "1": "Lumberjanes, Vol. 1: Beware the Kitten Holy",
                                    "2": "3.94",
                                    "3": "11643"
                                },
                                {
                                    "0": "Chitra Banerjee Divakaruni",
                                    "1": "The Palace of Illusions",
                                    "2": "4.11",
                                    "3": "11643"
                                },
                                {
                                    "0": "Connie Willis",
                                    "1": "To Say Nothing of the Dog (Oxford Time Travel, #2)",
                                    "2": "4.13",
                                    "3": "11643"
                                },
                                {
                                    "0": "Lucy Grealy",
                                    "1": "Autobiography of a Face",
                                    "2": "3.96",
                                    "3": "11643"
                                },
                                {
                                    "0": "Meg Cabot",
                                    "1": "Reunion (The Mediator, #3)",
                                    "2": "4.09",
                                    "3": "11643"
                                },
                                {
                                    "0": "Kate Beaton",
                                    "1": "Hark! A Vagrant",
                                    "2": "4.27",
                                    "3": "11643"
                                },
                                {
                                    "0": "Ann Packer",
                                    "1": "The Dive From Clausen's Pier",
                                    "2": "3.41",
                                    "3": "11643"
                                },
                                {
                                    "0": "Pat Barker",
                                    "1": "Regeneration (Regeneration, #1)",
                                    "2": "4.03",
                                    "3": "11643"
                                },
                                {
                                    "0": "Margaret Atwood",
                                    "1": "The Penelopiad",
                                    "2": "3.66",
                                    "3": "11643"
                                },
                                {
                                    "0": "Erika Swyler",
                                    "1": "The Book of Speculation",
                                    "2": "3.59",
                                    "3": "11643"
                                },
                                {
                                    "0": "Helen Oyeyemi",
                                    "1": "Boy, Snow, Bird",
                                    "2": "3.34",
                                    "3": "11643"
                                },
                                {
                                    "0": "Andrea Levy",
                                    "1": "Small Island",
                                    "2": "3.89",
                                    "3": "11643"
                                },
                                {
                                    "0": "Lois McMaster Bujold",
                                    "1": "The Curse of Chalion (World of the Five Gods, #1)",
                                    "2": "4.16",
                                    "3": "11643"
                                },
                                {
                                    "0": "Malinda Lo",
                                    "1": "Ash",
                                    "2": "3.62",
                                    "3": "11643"
                                },
                                {
                                    "0": "Julia Alvarez",
                                    "1": "How the García Girls Lost Their Accents ",
                                    "2": "3.62",
                                    "3": "11643"
                                },
                                {
                                    "0": "Susan Cooper",
                                    "1": "Greenwitch (The Dark Is Rising, #3)",
                                    "2": "4",
                                    "3": "11643"
                                },
                                {
                                    "0": "Kate Atkinson",
                                    "1": "One Good Turn (Jackson Brodie, #2)",
                                    "2": "3.79",
                                    "3": "11643"
                                },
                                {
                                    "0": "Katherine Paterson",
                                    "1": "Jacob Have I Loved",
                                    "2": "3.64",
                                    "3": "11643"
                                },
                                {
                                    "0": "Isak Dinesen, Karen Blixen",
                                    "1": "Out of Africa",
                                    "2": "3.96",
                                    "3": "11643"
                                },
                                {
                                    "0": "Miranda July, Brigitte Sire",
                                    "1": "It Chooses You",
                                    "2": "3.88",
                                    "3": "11643"
                                },
                                {
                                    "0": "Miranda July",
                                    "1": "The First Bad Man",
                                    "2": "3.58",
                                    "3": "11643"
                                },
                                {
                                    "0": "Gail Carriger",
                                    "1": "Changeless (Parasol Protectorate, #2)",
                                    "2": "4",
                                    "3": "11643"
                                },
                                {
                                    "0": "L.M. Montgomery",
                                    "1": "Rainbow Valley (Anne of Green Gables, #7)",
                                    "2": "4",
                                    "3": "11643"
                                },
                                {
                                    "0": "Raymond E. Feist, Janny Wurts",
                                    "1": "Servant of the Empire (The Empire Trilogy, #2)",
                                    "2": "4.27",
                                    "3": "11643"
                                },
                                {
                                    "0": "Sarah Vowell",
                                    "1": "The Wordy Shipmates",
                                    "2": "3.66",
                                    "3": "11643"
                                },
                                {
                                    "0": "Toni Morrison",
                                    "1": "Paradise",
                                    "2": "3.77",
                                    "3": "11643"
                                },
                                {
                                    "0": "Diana Wynne Jones",
                                    "1": "Castle in the Air (Howl's Moving Castle, #2)",
                                    "2": "3.93",
                                    "3": "11643"
                                },
                                {
                                    "0": "Deborah Blum",
                                    "1": "The Poisoner's Handbook: Murder and the Birth of Forensic Medicine in Jazz Age New York",
                                    "2": "4",
                                    "3": "11643"
                                },
                                {
                                    "0": "Kathy Reichs",
                                    "1": "Deadly Decisions (Temperance Brennan, #3)",
                                    "2": "3.93",
                                    "3": "11643"
                                },
                                {
                                    "0": "Ursula K. Le Guin",
                                    "1": "Tehanu (Earthsea Cycle, #4)",
                                    "2": "3.89",
                                    "3": "11643"
                                },
                                {
                                    "0": "Carrie Brownstein",
                                    "1": "Hunger Makes Me a Modern Girl",
                                    "2": "3.88",
                                    "3": "11643"
                                },
                                {
                                    "0": "Agatha Christie",
                                    "1": "Murder in Mesopotamia (Hercule Poirot, #14)",
                                    "2": "3.86",
                                    "3": "11643"
                                },
                                {
                                    "0": "Trudi Canavan",
                                    "1": "The Magician's Apprentice (Black Magician, #0.5)",
                                    "2": "3.94",
                                    "3": "11643"
                                },
                                {
                                    "0": "Rachel Kushner",
                                    "1": "The Flamethrowers",
                                    "2": "3.46",
                                    "3": "11643"
                                },
                                {
                                    "0": "Louise Erdrich",
                                    "1": "The Master Butchers Singing Club",
                                    "2": "4.02",
                                    "3": "11643"
                                },
                                {
                                    "0": "Becky  Chambers",
                                    "1": "The Long Way to a Small, Angry Planet (Wayfarers, #1)",
                                    "2": "4.18",
                                    "3": "11643"
                                },
                                {
                                    "0": "Mira Grant",
                                    "1": "Deadline (Newsflesh Trilogy, #2)",
                                    "2": "4.1",
                                    "3": "11643"
                                },
                                {
                                    "0": "Karin Slaughter",
                                    "1": "Faithless (Grant County, #5)",
                                    "2": "4.11",
                                    "3": "11643"
                                },
                                {
                                    "0": "Emma Donoghue",
                                    "1": "Frog Music",
                                    "2": "3.13",
                                    "3": "11643"
                                },
                                {
                                    "0": "Alison Bechdel",
                                    "1": "Are You My Mother?",
                                    "2": "3.66",
                                    "3": "11643"
                                },
                                {
                                    "0": "Loung Ung",
                                    "1": "First They Killed My Father: A Daughter of Cambodia Remembers",
                                    "2": "4.29",
                                    "3": "11643"
                                },
                                {
                                    "0": "Mary Higgins Clark",
                                    "1": "You Belong To Me",
                                    "2": "3.85",
                                    "3": "11643"
                                },
                                {
                                    "0": "Tamora Pierce",
                                    "1": "Tris's Book (Circle of Magic, #2)",
                                    "2": "4.07",
                                    "3": "11643"
                                },
                                {
                                    "0": "Rebecca Solnit",
                                    "1": "Men Explain Things to Me",
                                    "2": "3.93",
                                    "3": "11643"
                                },
                                {
                                    "0": "Kathy Reichs",
                                    "1": "Grave Secrets (Temperance Brennan, #5)",
                                    "2": "3.98",
                                    "3": "11643"
                                },
                                {
                                    "0": "Brit Bennett",
                                    "1": "The Mothers",
                                    "2": "3.87",
                                    "3": "11643"
                                },
                                {
                                    "0": "Maxine Hong Kingston",
                                    "1": "The Woman Warrior",
                                    "2": "3.72",
                                    "3": "11643"
                                },
                                {
                                    "0": "Anne McCaffrey",
                                    "1": "Moreta: Dragonlady of Pern (Pern, #7)",
                                    "2": "3.97",
                                    "3": "11643"
                                },
                                {
                                    "0": "Megan Whalen Turner",
                                    "1": "The Queen of Attolia (The Queen's Thief, #2)",
                                    "2": "4.23",
                                    "3": "11643"
                                },
                                {
                                    "0": "Ann Leckie",
                                    "1": "Ancillary Mercy (Imperial Radch #3)",
                                    "2": "4.2",
                                    "3": "11643"
                                },
                                {
                                    "0": "Eve Ensler, Gloria Steinem",
                                    "1": "The Vagina Monologues",
                                    "2": "3.86",
                                    "3": "11643"
                                },
                                {
                                    "0": "George Eliot, Edmund White",
                                    "1": "Daniel Deronda",
                                    "2": "3.82",
                                    "3": "11643"
                                },
                                {
                                    "0": "Sarah Waters",
                                    "1": "The Night Watch",
                                    "2": "3.67",
                                    "3": "11643"
                                },
                                {
                                    "0": "George Eliot, Joanna Trollope, Hugh Osborne",
                                    "1": "Adam Bede",
                                    "2": "3.77",
                                    "3": "11643"
                                },
                                {
                                    "0": "Yōko Ogawa, Stephen Snyder",
                                    "1": "The Housekeeper and the Professor",
                                    "2": "3.94",
                                    "3": "11643"
                                },
                                {
                                    "0": "Denise Kiernan",
                                    "1": "The Girls of Atomic City: The Untold Story of the Women Who Helped Win World War II",
                                    "2": "3.66",
                                    "3": "11643"
                                },
                                {
                                    "0": "Tess Gerritsen",
                                    "1": "The Bone Garden ",
                                    "2": "4.02",
                                    "3": "11643"
                                },
                                {
                                    "0": "Robin Hobb",
                                    "1": "Dragon Haven (Rain Wild Chronicles, #2)",
                                    "2": "4.06",
                                    "3": "11643"
                                },
                                {
                                    "0": "Erin Hunter",
                                    "1": "Moonrise (Warriors: The New Prophecy, #2)",
                                    "2": "4.31",
                                    "3": "11643"
                                },
                                {
                                    "0": "Catherine McKenzie",
                                    "1": "Hidden",
                                    "2": "3.44",
                                    "3": "11643"
                                },
                                {
                                    "0": "Harriet Lerner",
                                    "1": "The Dance Of Anger: A Woman's Guide to Changing the Patterns of Intimate Relationships",
                                    "2": "4.02",
                                    "3": "11643"
                                },
                                {
                                    "0": "Megan Whalen Turner",
                                    "1": "The King of Attolia (The Queen's Thief, #3)",
                                    "2": "4.37",
                                    "3": "11643"
                                },
                                {
                                    "0": "Jami Attenberg",
                                    "1": "The Middlesteins",
                                    "2": "3.42",
                                    "3": "11643"
                                },
                                {
                                    "0": "Kay Thompson, Hilary Knight",
                                    "1": "Eloise ",
                                    "2": "4.2",
                                    "3": "11643"
                                },
                                {
                                    "0": "Annie Proulx",
                                    "1": "Brokeback Mountain",
                                    "2": "3.93",
                                    "3": "11643"
                                },
                                {
                                    "0": "Lian Hearn",
                                    "1": "Grass for His Pillow (Tales of the Otori, #2)",
                                    "2": "4.01",
                                    "3": "11643"
                                },
                                {
                                    "0": "Edan Lepucki",
                                    "1": "California",
                                    "2": "3.22",
                                    "3": "11643"
                                },
                                {
                                    "0": "Agatha Christie",
                                    "1": "Hercule Poirot's Christmas (Hercule Poirot, #20)",
                                    "2": "3.9",
                                    "3": "11643"
                                },
                                {
                                    "0": "Enid Blyton",
                                    "1": "The Enchanted Wood (The Faraway Tree, #1)",
                                    "2": "4.24",
                                    "3": "11643"
                                },
                                {
                                    "0": "Lauren Groff",
                                    "1": "Arcadia",
                                    "2": "3.65",
                                    "3": "11643"
                                },
                                {
                                    "0": "Dian Fossey",
                                    "1": "Gorillas in the Mist",
                                    "2": "4.16",
                                    "3": "11643"
                                },
                                {
                                    "0": "Adelle Waldman",
                                    "1": "The Love Affairs of Nathaniel P.",
                                    "2": "3.3",
                                    "3": "11643"
                                },
                                {
                                    "0": "Carolyn Keene, Mildred Benson",
                                    "1": "The Hidden Staircase (Nancy Drew #2)",
                                    "2": "3.94",
                                    "3": "11643"
                                },
                                {
                                    "0": "Laura McHugh",
                                    "1": "The Weight of Blood",
                                    "2": "3.73",
                                    "3": "11643"
                                },
                                {
                                    "0": "Joan Didion",
                                    "1": "Blue Nights",
                                    "2": "3.75",
                                    "3": "11643"
                                },
                                {
                                    "0": "Anne Tyler",
                                    "1": "Dinner at the Homesick Restaurant",
                                    "2": "3.82",
                                    "3": "11643"
                                },
                                {
                                    "0": "Diana Wynne Jones",
                                    "1": "Charmed Life (Chrestomanci, #1)",
                                    "2": "3.95",
                                    "3": "11643"
                                },
                                {
                                    "0": "Erin Hunter",
                                    "1": "Sunset (Warriors: The New Prophecy, #6)",
                                    "2": "4.35",
                                    "3": "11643"
                                },
                                {
                                    "0": "Agatha Christie",
                                    "1": "The Big Four (Hercule Poirot, #5)",
                                    "2": "3.6",
                                    "3": "11643"
                                },
                                {
                                    "0": "Agatha Christie",
                                    "1": "Peril at End House (Hercule Poirot, #8)",
                                    "2": "3.89",
                                    "3": "11643"
                                },
                                {
                                    "0": "Robin Hobb",
                                    "1": "Fool's Quest  (The Fitz and The Fool, #2)",
                                    "2": "4.53",
                                    "3": "11643"
                                },
                                {
                                    "0": "Patti Smith",
                                    "1": "M Train",
                                    "2": "3.94",
                                    "3": "11643"
                                },
                                {
                                    "0": "Louise Erdrich",
                                    "1": "Love Medicine",
                                    "2": "3.98",
                                    "3": "11643"
                                },
                                {
                                    "0": "Carrie Fisher",
                                    "1": "The Princess Diarist",
                                    "2": "3.66",
                                    "3": "11643"
                                },
                                {
                                    "0": "Rachel Renée Russell",
                                    "1": "Tales from a Not-So-Graceful Ice Princess (Dork Diaries, #4)",
                                    "2": "4.38",
                                    "3": "11643"
                                },
                                {
                                    "0": "Gail Carriger",
                                    "1": "Blameless (Parasol Protectorate, #3)",
                                    "2": "4.01",
                                    "3": "11643"
                                },
                                {
                                    "0": "Maeve Binchy",
                                    "1": "The Copper Beech",
                                    "2": "3.89",
                                    "3": "11643"
                                },
                                {
                                    "0": "Daphne du Maurier",
                                    "1": "Jamaica Inn",
                                    "2": "3.85",
                                    "3": "11643"
                                },
                                {
                                    "0": "Margaret Weis, Tracy Hickman",
                                    "1": "Serpent Mage (The Death Gate Cycle, #4)",
                                    "2": "4.06",
                                    "3": "11643"
                                },
                                {
                                    "0": "Tracy Chevalier",
                                    "1": "Falling Angels",
                                    "2": "3.55",
                                    "3": "11643"
                                },
                                {
                                    "0": "Jane Austen, Robert William Chapman",
                                    "1": "Lady Susan",
                                    "2": "3.56",
                                    "3": "11643"
                                },
                                {
                                    "0": "Keri Hulme",
                                    "1": "The Bone People",
                                    "2": "4.06",
                                    "3": "11643"
                                },
                                {
                                    "0": "Michelle Paver, Geoff Taylor",
                                    "1": "Wolf Brother (Chronicles of Ancient Darkness, #1)",
                                    "2": "4.15",
                                    "3": "11643"
                                },
                                {
                                    "0": "Marguerite Henry",
                                    "1": "Stormy, Misty's Foal (Misty, #3)",
                                    "2": "4.06",
                                    "3": "11643"
                                },
                                {
                                    "0": "Virginia Woolf",
                                    "1": "The Waves",
                                    "2": "4.14",
                                    "3": "11643"
                                },
                                {
                                    "0": "Kyung-Sook Shin, 신경숙, Chi-Young Kim",
                                    "1": "Please Look After Mom",
                                    "2": "3.76",
                                    "3": "11643"
                                },
                                {
                                    "0": "Lois McMaster Bujold",
                                    "1": "Shards of Honour  (Vorkosigan Saga, #1)",
                                    "2": "4.13",
                                    "3": "11643"
                                },
                                {
                                    "0": "Gertrude Crampton",
                                    "1": "Scuffy the Tugboat (Big Little Golden Book)",
                                    "2": "4.11",
                                    "3": "11643"
                                },
                                {
                                    "0": "Erin Hunter",
                                    "1": "Dawn (Warriors: The New Prophecy, #3)",
                                    "2": "4.31",
                                    "3": "11643"
                                },
                                {
                                    "0": "Tamora Pierce",
                                    "1": "Daja's Book (Circle of Magic, #3)",
                                    "2": "4.06",
                                    "3": "11643"
                                },
                                {
                                    "0": "Anne McCaffrey",
                                    "1": "All the Weyrs of Pern (Pern, #11)",
                                    "2": "4.15",
                                    "3": "11643"
                                },
                                {
                                    "0": "Naomi Novik",
                                    "1": "Black Powder War (Temeraire, #3)",
                                    "2": "3.9",
                                    "3": "11643"
                                },
                                {
                                    "0": "Tamora Pierce",
                                    "1": "Briar's Book (Circle of Magic, #4)",
                                    "2": "4.14",
                                    "3": "11643"
                                },
                                {
                                    "0": "Tomoko Hayakawa, David Ury",
                                    "1": "The Wallflower, Vol. 1 (The Wallflower, #1)",
                                    "2": "4.15",
                                    "3": "11643"
                                },
                                {
                                    "0": "Toni Morrison",
                                    "1": "Jazz",
                                    "2": "3.78",
                                    "3": "11643"
                                },
                                {
                                    "0": "Megan Abbott",
                                    "1": "The Fever",
                                    "2": "3.12",
                                    "3": "11643"
                                },
                                {
                                    "0": "Alison Croggon",
                                    "1": "The Naming (The Books of Pellinor, #1)",
                                    "2": "4",
                                    "3": "11643"
                                },
                                {
                                    "0": "Sharon Kay Penman",
                                    "1": "Here be Dragons (Welsh Princes, #1)",
                                    "2": "4.3",
                                    "3": "11643"
                                },
                                {
                                    "0": "Byron Katie, Stephen Mitchell",
                                    "1": "Loving What Is: Four Questions That Can Change Your Life",
                                    "2": "4.15",
                                    "3": "11643"
                                },
                                {
                                    "0": "J.K. Rowling, MinaLima",
                                    "1": "Short Stories from Hogwarts of Heroism, Hardship and Dangerous Hobbies (Pottermore Presents, #1)",
                                    "2": "4.22",
                                    "3": "11643"
                                },
                                {
                                    "0": "Julie Maroh",
                                    "1": "Le bleu est une couleur chaude",
                                    "2": "3.92",
                                    "3": "11643"
                                },
                                {
                                    "0": "Emily Dickinson",
                                    "1": "Selected Poems",
                                    "2": "4.16",
                                    "3": "11643"
                                },
                                {
                                    "0": "Toni Morrison",
                                    "1": "God Help the Child",
                                    "2": "3.7",
                                    "3": "11643"
                                },
                                {
                                    "0": "G. Willow Wilson, Adrian Alphona, Jacob Wyatt",
                                    "1": "Ms. Marvel, Vol. 2: Generation Why",
                                    "2": "4.14",
                                    "3": "11643"
                                },
                                {
                                    "0": "Maggie Shipstead",
                                    "1": "Seating Arrangements",
                                    "2": "3.02",
                                    "3": "11643"
                                },
                                {
                                    "0": "Megan Abbott",
                                    "1": "You Will Know Me",
                                    "2": "3.45",
                                    "3": "11643"
                                },
                                {
                                    "0": "Sharon Kay Penman",
                                    "1": "The Sunne in Splendour",
                                    "2": "4.4",
                                    "3": "11643"
                                },
                                {
                                    "0": "Anne McCaffrey",
                                    "1": "The Masterharper of Pern (Pern, #15)",
                                    "2": "4.22",
                                    "3": "11643"
                                },
                                {
                                    "0": "Lindy West",
                                    "1": "Shrill: Notes from a Loud Woman",
                                    "2": "4.23",
                                    "3": "11643"
                                },
                                {
                                    "0": "Anne Bishop",
                                    "1": "Queen of the Darkness (The Black Jewels, #3)",
                                    "2": "4.37",
                                    "3": "11643"
                                },
                                {
                                    "0": "L.M. Montgomery",
                                    "1": "The Blue Castle ",
                                    "2": "4.23",
                                    "3": "11643"
                                },
                                {
                                    "0": "Margaret Weis, Tracy Hickman",
                                    "1": "Into the Labyrinth (The Death Gate Cycle, #6)",
                                    "2": "4.09",
                                    "3": "11643"
                                },
                                {
                                    "0": "Jacqueline Winspear",
                                    "1": "Birds of a Feather (Maisie Dobbs, #2)",
                                    "2": "3.95",
                                    "3": "11643"
                                },
                                {
                                    "0": "Robin Hobb",
                                    "1": "Shaman's Crossing (Soldier Son, #1)",
                                    "2": "3.42",
                                    "3": "11643"
                                },
                                {
                                    "0": "Sarah Waters",
                                    "1": "Affinity",
                                    "2": "3.73",
                                    "3": "11643"
                                },
                                {
                                    "0": "Natsuo Kirino, Stephen Snyder",
                                    "1": "Out",
                                    "2": "3.93",
                                    "3": "11643"
                                },
                                {
                                    "0": "Philippa Pearce, Susan Einzig",
                                    "1": "Tom's Midnight Garden",
                                    "2": "4.05",
                                    "3": "11643"
                                },
                                {
                                    "0": "Annie Dillard",
                                    "1": "Pilgrim at Tinker Creek",
                                    "2": "4.1",
                                    "3": "11643"
                                },
                                {
                                    "0": "Isabel Allende, Margaret Sayers Peden",
                                    "1": "Zorro",
                                    "2": "3.75",
                                    "3": "11643"
                                },
                                {
                                    "0": "Megan Abbott",
                                    "1": "Dare Me",
                                    "2": "3.23",
                                    "3": "11643"
                                },
                                {
                                    "0": "Anne Enright",
                                    "1": "The Gathering",
                                    "2": "3.04",
                                    "3": "11643"
                                },
                                {
                                    "0": "Lois McMaster Bujold",
                                    "1": "Barrayar (Vorkosigan Saga, #7)",
                                    "2": "4.31",
                                    "3": "11643"
                                },
                                {
                                    "0": "Margaret Atwood",
                                    "1": "Surfacing",
                                    "2": "3.45",
                                    "3": "11643"
                                },
                                {
                                    "0": "Mhairi McFarlane",
                                    "1": "You Had Me At Hello",
                                    "2": "3.79",
                                    "3": "11643"
                                },
                                {
                                    "0": "Diane Duane",
                                    "1": "So You Want to Be a Wizard (Young Wizards, #1)",
                                    "2": "3.8",
                                    "3": "11643"
                                },
                                {
                                    "0": "Lisa Lutz",
                                    "1": "The Passenger",
                                    "2": "3.71",
                                    "3": "11643"
                                },
                                {
                                    "0": "Leslie Feinberg",
                                    "1": "Stone Butch Blues",
                                    "2": "4.27",
                                    "3": "11643"
                                },
                                {
                                    "0": "Amy  Stewart",
                                    "1": "Girl Waits with Gun (Kopp Sisters, #1)",
                                    "2": "3.78",
                                    "3": "11643"
                                },
                                {
                                    "0": "Rajaa Alsanea",
                                    "1": "Girls of Riyadh",
                                    "2": "3.17",
                                    "3": "11643"
                                },
                                {
                                    "0": "Judith Guest",
                                    "1": "Ordinary People",
                                    "2": "3.9",
                                    "3": "11643"
                                },
                                {
                                    "0": "Mary Higgins Clark",
                                    "1": "On the Street Where You Live",
                                    "2": "3.85",
                                    "3": "11643"
                                },
                                {
                                    "0": "Charlie Jane Anders",
                                    "1": "All the Birds in the Sky",
                                    "2": "3.58",
                                    "3": "11643"
                                },
                                {
                                    "0": "Heather O'Neill",
                                    "1": "Lullabies for Little Criminals",
                                    "2": "3.95",
                                    "3": "11643"
                                },
                                {
                                    "0": "Miriam Toews",
                                    "1": "A Complicated Kindness",
                                    "2": "3.64",
                                    "3": "11643"
                                },
                                {
                                    "0": "Sara Nović",
                                    "1": "Girl at War",
                                    "2": "3.98",
                                    "3": "11643"
                                },
                                {
                                    "0": "Rachel Maddow",
                                    "1": "Drift: The Unmooring of American Military Power",
                                    "2": "4.07",
                                    "3": "11643"
                                },
                                {
                                    "0": "Jeanette Winterson",
                                    "1": "The Passion",
                                    "2": "4.12",
                                    "3": "11643"
                                },
                                {
                                    "0": "Karen Russell",
                                    "1": "Vampires in the Lemon Grove",
                                    "2": "3.67",
                                    "3": "11643"
                                },
                                {
                                    "0": "Alice McDermott",
                                    "1": "Someone",
                                    "2": "3.76",
                                    "3": "11643"
                                },
                                {
                                    "0": "Lian Hearn",
                                    "1": "Brilliance of the Moon (Tales of the Otori, #3)",
                                    "2": "4.04",
                                    "3": "11643"
                                },
                                {
                                    "0": "Elizabeth Ross, ROFry",
                                    "1": "The Three Little Pigs",
                                    "2": "4.26",
                                    "3": "11643"
                                },
                                {
                                    "0": "Margaret Weis, Tracy Hickman",
                                    "1": "The Seventh Gate (The Death Gate Cycle, #7)",
                                    "2": "4.09",
                                    "3": "11643"
                                },
                                {
                                    "0": "Karen Miller",
                                    "1": "The Innocent Mage (Kingmaker, Kingbreaker, #1)",
                                    "2": "3.65",
                                    "3": "11643"
                                },
                                {
                                    "0": "Nora Ephron",
                                    "1": "I Remember Nothing: and Other Reflections",
                                    "2": "3.73",
                                    "3": "11643"
                                },
                                {
                                    "0": "Mineko Iwasaki, Rande Brown",
                                    "1": "Geisha, a Life",
                                    "2": "3.92",
                                    "3": "11643"
                                },
                                {
                                    "0": "Mercedes Lackey",
                                    "1": "Magic's Pawn (Valdemar: Last Herald-Mage #1)",
                                    "2": "4.21",
                                    "3": "11643"
                                },
                                {
                                    "0": "Irin Carmon, Shana Knizhnik",
                                    "1": "Notorious RBG: The Life and Times of Ruth Bader Ginsburg",
                                    "2": "4.22",
                                    "3": "11643"
                                },
                                {
                                    "0": "Georgette Heyer",
                                    "1": "The Grand Sophy",
                                    "2": "4.16",
                                    "3": "11643"
                                },
                                {
                                    "0": "Toni Morrison",
                                    "1": "Tar Baby",
                                    "2": "3.91",
                                    "3": "11643"
                                },
                                {
                                    "0": "Margaret Peterson Haddix",
                                    "1": "Running Out of Time",
                                    "2": "3.98",
                                    "3": "11643"
                                },
                                {
                                    "0": "Beverly Cleary",
                                    "1": "Runaway Ralph (Ralph S. Mouse, #2)",
                                    "2": "3.95",
                                    "3": "11643"
                                },
                                {
                                    "0": "Deb Perelman",
                                    "1": "The Smitten Kitchen Cookbook",
                                    "2": "4.14",
                                    "3": "11643"
                                },
                                {
                                    "0": "Seanan McGuire",
                                    "1": "Rosemary and Rue (October Daye, #1)",
                                    "2": "3.74",
                                    "3": "11643"
                                },
                                {
                                    "0": "Ann Patchett",
                                    "1": "This is the Story of a Happy Marriage",
                                    "2": "4.03",
                                    "3": "11643"
                                },
                                {
                                    "0": "Betty Friedan, Anna Quindlen",
                                    "1": "The Feminine Mystique",
                                    "2": "3.85",
                                    "3": "11643"
                                },
                                {
                                    "0": "Toni Morrison",
                                    "1": "A Mercy",
                                    "2": "3.65",
                                    "3": "11643"
                                },
                                {
                                    "0": "Françoise Sagan",
                                    "1": "Bonjour tristesse",
                                    "2": "3.62",
                                    "3": "11643"
                                },
                                {
                                    "0": "Astrid Lindgren, Ilon Wikland, Jill M. Morgan",
                                    "1": "The Brothers Lionheart",
                                    "2": "4.35",
                                    "3": "11643"
                                },
                                {
                                    "0": "Jacqueline Wilson, Nick Sharratt",
                                    "1": "The Story of Tracy Beaker",
                                    "2": "3.69",
                                    "3": "11643"
                                },
                                {
                                    "0": "Lorrie Moore",
                                    "1": "A Gate at the Stairs",
                                    "2": "3.14",
                                    "3": "11643"
                                },
                                {
                                    "0": "Diana Wynne Jones",
                                    "1": "The Lives of Christopher Chant (Chrestomanci, #2)",
                                    "2": "4.22",
                                    "3": "11643"
                                },
                                {
                                    "0": "Suzanne Rindell",
                                    "1": "The Other Typist",
                                    "2": "3.55",
                                    "3": "11643"
                                },
                                {
                                    "0": "Lois McMaster Bujold",
                                    "1": "The Warrior's Apprentice (Vorkosigan Saga, #2)",
                                    "2": "4.29",
                                    "3": "11643"
                                },
                                {
                                    "0": "Anne McCaffrey",
                                    "1": "The Ship Who Sang (Brainship, #1)",
                                    "2": "4",
                                    "3": "11643"
                                },
                                {
                                    "0": "Mira Grant",
                                    "1": "Blackout (Newsflesh Trilogy, #3)",
                                    "2": "4.11",
                                    "3": "11643"
                                },
                                {
                                    "0": "Jacqueline Carey",
                                    "1": "Kushiel's Scion (Imriel's Trilogy, #1)",
                                    "2": "4.19",
                                    "3": "11643"
                                },
                                {
                                    "0": "Miriam Toews",
                                    "1": "All My Puny Sorrows",
                                    "2": "3.93",
                                    "3": "11643"
                                },
                                {
                                    "0": "Octavia E. Butler",
                                    "1": "Dawn (Xenogenesis, #1)",
                                    "2": "4.1",
                                    "3": "11643"
                                },
                                {
                                    "0": "Louise Doughty",
                                    "1": "Apple Tree Yard",
                                    "2": "3.71",
                                    "3": "11643"
                                },
                                {
                                    "0": "Gail Carriger",
                                    "1": "Heartless (Parasol Protectorate, #4)",
                                    "2": "4.07",
                                    "3": "11643"
                                },
                                {
                                    "0": "Lucy Knisley",
                                    "1": "Relish: My Life in the Kitchen",
                                    "2": "3.89",
                                    "3": "11643"
                                },
                                {
                                    "0": "Beatriz Williams",
                                    "1": "The Secret Life of Violet Grant",
                                    "2": "3.97",
                                    "3": "11643"
                                },
                                {
                                    "0": "Gloria Steinem",
                                    "1": "My Life on the Road",
                                    "2": "4.08",
                                    "3": "11643"
                                },
                                {
                                    "0": "Agatha Christie",
                                    "1": "Cat Among the Pigeons (Hercule Poirot, #32)",
                                    "2": "3.82",
                                    "3": "11643"
                                },
                                {
                                    "0": "Katharine Graham",
                                    "1": "Personal History",
                                    "2": "4.13",
                                    "3": "11643"
                                },
                                {
                                    "0": "Jane Harper",
                                    "1": "The Dry (Aaron Falk, #1)",
                                    "2": "4.07",
                                    "3": "11643"
                                },
                                {
                                    "0": "Sonali Deraniyagala",
                                    "1": "Wave",
                                    "2": "3.7",
                                    "3": "11643"
                                },
                                {
                                    "0": "Margaret Weis, Tracy Hickman",
                                    "1": "Fire Sea (The Death Gate Cycle, #3)",
                                    "2": "4.05",
                                    "3": "11643"
                                },
                                {
                                    "0": "Maud Hart Lovelace, Lois Lenski",
                                    "1": "Betsy-Tacy (Betsy-Tacy, #1)",
                                    "2": "4.07",
                                    "3": "11643"
                                },
                                {
                                    "0": "Meg Cabot",
                                    "1": "Jinx",
                                    "2": "3.72",
                                    "3": "11643"
                                },
                                {
                                    "0": "Zoë Heller",
                                    "1": "What Was She Thinking? [Notes on a Scandal]",
                                    "2": "3.69",
                                    "3": "11643"
                                },
                                {
                                    "0": "Elizabeth Haydon",
                                    "1": "Rhapsody: Child of Blood (Symphony of Ages, #1)",
                                    "2": "3.95",
                                    "3": "11643"
                                },
                                {
                                    "0": "NoViolet Bulawayo",
                                    "1": "We Need New Names",
                                    "2": "3.71",
                                    "3": "11643"
                                },
                                {
                                    "0": "Lois McMaster Bujold",
                                    "1": "Paladin of Souls (World of the Five Gods, #2)",
                                    "2": "4.13",
                                    "3": "11643"
                                },
                                {
                                    "0": "Cynthia Voigt",
                                    "1": "Homecoming (Tillerman Cycle, #1)",
                                    "2": "3.92",
                                    "3": "11643"
                                },
                                {
                                    "0": "Margaret Weis, Tracy Hickman",
                                    "1": "The Hand of Chaos (The Death Gate Cycle, #5)",
                                    "2": "4.05",
                                    "3": "11643"
                                },
                                {
                                    "0": "Kathleen Winsor",
                                    "1": "Forever Amber ",
                                    "2": "3.98",
                                    "3": "11643"
                                },
                                {
                                    "0": "Zadie Smith",
                                    "1": "Swing Time",
                                    "2": "3.6",
                                    "3": "11643"
                                },
                                {
                                    "0": "Nina LaCour",
                                    "1": "Everything Leads to You",
                                    "2": "3.89",
                                    "3": "11643"
                                },
                                {
                                    "0": "Alice Munro",
                                    "1": "Too Much Happiness",
                                    "2": "3.82",
                                    "3": "11643"
                                },
                                {
                                    "0": "Liz Moore",
                                    "1": "Heft",
                                    "2": "3.96",
                                    "3": "11643"
                                },
                                {
                                    "0": "Amelia Atwater-Rhodes",
                                    "1": "Hawksong (The Kiesha'ra, #1)",
                                    "2": "4.15",
                                    "3": "11643"
                                },
                                {
                                    "0": "Janet Stevens, Hans Christian Andersen",
                                    "1": "The Princess and the Pea",
                                    "2": "4.1",
                                    "3": "11643"
                                },
                                {
                                    "0": "Laura Lippman",
                                    "1": "What the Dead Know",
                                    "2": "3.54",
                                    "3": "11643"
                                },
                                {
                                    "0": "Emily M. Danforth",
                                    "1": "The Miseducation of Cameron Post",
                                    "2": "3.99",
                                    "3": "11643"
                                },
                                {
                                    "0": "Diana Wynne Jones",
                                    "1": "House of Many Ways (Howl's Moving Castle, #3)",
                                    "2": "4.03",
                                    "3": "11643"
                                },
                                {
                                    "0": "Louisa May Alcott",
                                    "1": "Rose in Bloom (Eight Cousins, #2)",
                                    "2": "4.03",
                                    "3": "11643"
                                },
                                {
                                    "0": "Barbara Claypole White",
                                    "1": "The Perfect Son",
                                    "2": "3.97",
                                    "3": "11643"
                                },
                                {
                                    "0": "J.K. Rowling, MinaLima",
                                    "1": "Short Stories from Hogwarts of Power, Politics and Pesky Poltergeists (Pottermore Presents, #2)",
                                    "2": "4.2",
                                    "3": "11643"
                                },
                                {
                                    "0": "Gail Tsukiyama",
                                    "1": "Women of the Silk",
                                    "2": "3.94",
                                    "3": "11643"
                                },
                                {
                                    "0": "Nicole Krauss",
                                    "1": "Great House",
                                    "2": "3.45",
                                    "3": "11643"
                                },
                                {
                                    "0": "Doris Lessing",
                                    "1": "The Golden Notebook",
                                    "2": "3.75",
                                    "3": "11643"
                                },
                                {
                                    "0": "Jennifer Donnelly",
                                    "1": "The Winter Rose (The Tea Rose, #2)",
                                    "2": "4.29",
                                    "3": "11643"
                                },
                                {
                                    "0": "Susan Coolidge",
                                    "1": "What Katy Did (Carr Family, #1)",
                                    "2": "3.89",
                                    "3": "11643"
                                },
                                {
                                    "0": "Tamora Pierce",
                                    "1": "Shatterglass (The Circle Opens, #4)",
                                    "2": "4.16",
                                    "3": "11643"
                                },
                                {
                                    "0": "Alice Waters",
                                    "1": "The Art of Simple Food: Notes, Lessons, and Recipes from a Delicious Revolution",
                                    "2": "4.11",
                                    "3": "11643"
                                },
                                {
                                    "0": "J.K. Rowling",
                                    "1": "Hogwarts: An Incomplete and Unreliable Guide (Pottermore Presents, #3)",
                                    "2": "4.21",
                                    "3": "11643"
                                },
                                {
                                    "0": "Astrid Lindgren, Patricia Crampton, Trina Schart Hyman",
                                    "1": "Ronia, the Robber's Daughter",
                                    "2": "4.27",
                                    "3": "11643"
                                },
                                {
                                    "0": "Claudia Rankine",
                                    "1": "Citizen: An American Lyric",
                                    "2": "4.3",
                                    "3": "11643"
                                },
                                {
                                    "0": "Marian Keyes",
                                    "1": "The Woman Who Stole My Life",
                                    "2": "3.52",
                                    "3": "11643"
                                },
                                {
                                    "0": "Sue Grafton",
                                    "1": "P is for Peril (Kinsey Millhone, #16)",
                                    "2": "3.85",
                                    "3": "11643"
                                },
                                {
                                    "0": "Sarah Andersen",
                                    "1": "Adulthood Is a Myth (Sarah's Scribbles, #1)",
                                    "2": "4.14",
                                    "3": "11643"
                                },
                                {
                                    "0": "Chimamanda Ngozi Adichie",
                                    "1": "The Thing Around Your Neck",
                                    "2": "4.18",
                                    "3": "11643"
                                },
                                {
                                    "0": "Kate Chopin",
                                    "1": "The Story of an Hour",
                                    "2": "4.08",
                                    "3": "11643"
                                },
                                {
                                    "0": "Naomi Novik",
                                    "1": "Empire of Ivory (Temeraire, #4)",
                                    "2": "3.93",
                                    "3": "11643"
                                },
                                {
                                    "0": "Jo Walton",
                                    "1": "Among Others",
                                    "2": "3.68",
                                    "3": "11643"
                                },
                                {
                                    "0": "Lois McMaster Bujold",
                                    "1": "The Vor Game (Vorkosigan Saga, #6)",
                                    "2": "4.28",
                                    "3": "11643"
                                },
                                {
                                    "0": "Lauren Beukes",
                                    "1": "Broken Monsters",
                                    "2": "3.59",
                                    "3": "11643"
                                },
                                {
                                    "0": "Tamora Pierce",
                                    "1": "Mastiff (Beka Cooper, #3)",
                                    "2": "4.24",
                                    "3": "11643"
                                },
                                {
                                    "0": "Agatha Christie",
                                    "1": "A Pocket Full of Rye (Miss Marple, #7)",
                                    "2": "3.83",
                                    "3": "11643"
                                },
                                {
                                    "0": "Margaret Atwood",
                                    "1": "Stone Mattress: Nine Tales",
                                    "2": "3.93",
                                    "3": "11643"
                                },
                                {
                                    "0": "Mary Elizabeth Braddon",
                                    "1": "Lady Audley's Secret",
                                    "2": "3.73",
                                    "3": "11643"
                                },
                                {
                                    "0": "Poppy Z. Brite",
                                    "1": "Lost Souls",
                                    "2": "3.89",
                                    "3": "11643"
                                },
                                {
                                    "0": "Agatha Christie",
                                    "1": "Elephants Can Remember (Hercule Poirot, #37)",
                                    "2": "3.62",
                                    "3": "11643"
                                },
                                {
                                    "0": "Gail Carriger",
                                    "1": "Timeless (Parasol Protectorate, #5)",
                                    "2": "4.12",
                                    "3": "11643"
                                },
                                {
                                    "0": "Jan Karon",
                                    "1": "These High, Green Hills (Mitford Years, #3)",
                                    "2": "4.27",
                                    "3": "11643"
                                },
                                {
                                    "0": "Miranda Hart",
                                    "1": "Is It Just Me?",
                                    "2": "3.8",
                                    "3": "11643"
                                },
                                {
                                    "0": "Ursula K. Le Guin",
                                    "1": "The Earthsea Trilogy",
                                    "2": "4.25",
                                    "3": "11643"
                                },
                                {
                                    "0": "Kate Summerscale",
                                    "1": "The Suspicions of Mr. Whicher: A Shocking Murder and the Undoing of a Great Victorian Detective",
                                    "2": "3.43",
                                    "3": "11643"
                                },
                                {
                                    "0": "Rita Golden Gelman",
                                    "1": "Tales of a Female Nomad: Living at Large in the World",
                                    "2": "3.84",
                                    "3": "11643"
                                },
                                {
                                    "0": "Eleanor Coerr, Ronald Himler",
                                    "1": "Sadako and the Thousand Paper Cranes",
                                    "2": "4.09",
                                    "3": "11643"
                                },
                                {
                                    "0": "Josephine Tey",
                                    "1": "The Daughter of Time (Inspector Alan Grant, #5)",
                                    "2": "3.95",
                                    "3": "11643"
                                },
                                {
                                    "0": "Anaïs Nin",
                                    "1": "Delta of Venus",
                                    "2": "3.69",
                                    "3": "11643"
                                },
                                {
                                    "0": "Anne Tyler",
                                    "1": "The Beginner's Goodbye",
                                    "2": "3.58",
                                    "3": "11643"
                                },
                                {
                                    "0": "Dorothy L. Sayers",
                                    "1": "Murder Must Advertise  (Lord Peter Wimsey, #10)",
                                    "2": "4.21",
                                    "3": "11643"
                                },
                                {
                                    "0": "Julia Child",
                                    "1": "The Way to Cook",
                                    "2": "4.31",
                                    "3": "11643"
                                },
                                {
                                    "0": "Alice Munro",
                                    "1": "Hateship, Friendship, Courtship, Loveship, Marriage: Stories",
                                    "2": "4.06",
                                    "3": "11643"
                                },
                                {
                                    "0": "Jacqueline Wilson, Nick Sharratt, Sue Heap",
                                    "1": "Double Act",
                                    "2": "3.69",
                                    "3": "11643"
                                },
                                {
                                    "0": "Deborah Rodriguez",
                                    "1": "The Little Coffee Shop of Kabul",
                                    "2": "3.57",
                                    "3": "11643"
                                },
                                {
                                    "0": "Mercedes Lackey",
                                    "1": "By the Sword (Valdemar)",
                                    "2": "4.24",
                                    "3": "11643"
                                },
                                {
                                    "0": "Jennifer Crusie",
                                    "1": "Anyone But You",
                                    "2": "3.8",
                                    "3": "11643"
                                },
                                {
                                    "0": "Mercedes Lackey",
                                    "1": "Arrow's Fall (Heralds of Valdemar, #3)",
                                    "2": "4.18",
                                    "3": "11643"
                                },
                                {
                                    "0": "Tamora Pierce",
                                    "1": "Street Magic (The Circle Opens, #2)",
                                    "2": "4.12",
                                    "3": "11643"
                                },
                                {
                                    "0": "Katherine Addison",
                                    "1": "The Goblin Emperor",
                                    "2": "4.05",
                                    "3": "11643"
                                },
                                {
                                    "0": "J.K. Rowling, Joel Holland",
                                    "1": "Very Good Lives: The Fringe Benefits of Failure and the Importance of Imagination",
                                    "2": "4.26",
                                    "3": "11643"
                                },
                                {
                                    "0": "Robin McKinley",
                                    "1": "Spindle's End",
                                    "2": "3.79",
                                    "3": "11643"
                                },
                                {
                                    "0": "Isa Chandra Moskowitz, Terry Hope Romero, Sara Quin",
                                    "1": "Vegan Cupcakes Take Over the World: 75 Dairy-Free Recipes for Cupcakes that Rule",
                                    "2": "4.08",
                                    "3": "11643"
                                },
                                {
                                    "0": "A.M. Homes",
                                    "1": "May We Be Forgiven",
                                    "2": "3.66",
                                    "3": "11643"
                                },
                                {
                                    "0": "Naomi Wolf",
                                    "1": "The Beauty Myth",
                                    "2": "3.89",
                                    "3": "11643"
                                },
                                {
                                    "0": "Annie Proulx",
                                    "1": "Close Range",
                                    "2": "3.99",
                                    "3": "11643"
                                },
                                {
                                    "0": "Tamora Pierce",
                                    "1": "Cold Fire (The Circle Opens, #3)",
                                    "2": "4.05",
                                    "3": "11643"
                                },
                                {
                                    "0": "Margot Lee Shetterly",
                                    "1": "Hidden Figures: The American Dream and the Untold Story of the Black Women Mathematicians Who Helped Win the Space Race",
                                    "2": "3.92",
                                    "3": "11643"
                                },
                                {
                                    "0": "Jacqueline Carey",
                                    "1": "Kushiel's Justice (Imriel's Trilogy, #2)",
                                    "2": "4.24",
                                    "3": "11643"
                                },
                                {
                                    "0": "Agatha Christie",
                                    "1": "Hallowe'en Party (Hercule Poirot, #36)",
                                    "2": "3.66",
                                    "3": "11643"
                                },
                                {
                                    "0": "Mary Higgins Clark",
                                    "1": "Where Are You Now?",
                                    "2": "3.77",
                                    "3": "11643"
                                },
                                {
                                    "0": "Mary Higgins Clark",
                                    "1": "I Heard That Song Before",
                                    "2": "3.81",
                                    "3": "11643"
                                },
                                {
                                    "0": "Mary Lawson",
                                    "1": "Crow Lake",
                                    "2": "3.85",
                                    "3": "11643"
                                },
                                {
                                    "0": "Toni Morrison",
                                    "1": "Home",
                                    "2": "3.71",
                                    "3": "11643"
                                },
                                {
                                    "0": "Anne Frank, Susan Massotty",
                                    "1": "Anne Frank's Tales from the Secret Annex",
                                    "2": "4.23",
                                    "3": "11643"
                                },
                                {
                                    "0": "Mary Higgins Clark",
                                    "1": "The Cradle Will Fall",
                                    "2": "3.89",
                                    "3": "11643"
                                },
                                {
                                    "0": "C.S. Friedman",
                                    "1": "Black Sun Rising (The Coldfire Trilogy, #1)",
                                    "2": "3.93",
                                    "3": "11643"
                                },
                                {
                                    "0": "Sarah Vowell",
                                    "1": "Take the Cannoli",
                                    "2": "3.86",
                                    "3": "11643"
                                },
                                {
                                    "0": "Bethany McLean, Peter Elkind",
                                    "1": "The Smartest Guys in the Room: The Amazing Rise and Scandalous Fall of Enron",
                                    "2": "4.14",
                                    "3": "11643"
                                },
                                {
                                    "0": "Jacqueline Woodson",
                                    "1": "Another Brooklyn",
                                    "2": "3.87",
                                    "3": "11643"
                                },
                                {
                                    "0": "Maeve Binchy",
                                    "1": "Light a Penny Candle",
                                    "2": "3.88",
                                    "3": "11643"
                                },
                                {
                                    "0": "Alice Walker",
                                    "1": "Possessing the Secret of Joy",
                                    "2": "4.06",
                                    "3": "11643"
                                },
                                {
                                    "0": "Tamora Pierce",
                                    "1": "Magic Steps (The Circle Opens, #1)",
                                    "2": "3.98",
                                    "3": "11643"
                                },
                                {
                                    "0": "Janne Teller, Martin Aitken",
                                    "1": "Nothing",
                                    "2": "3.76",
                                    "3": "11643"
                                },
                                {
                                    "0": "Karen Miller",
                                    "1": "The Awakened Mage (Kingmaker, Kingbreaker, #2)",
                                    "2": "3.71",
                                    "3": "11643"
                                },
                                {
                                    "0": "Mercedes Lackey",
                                    "1": "Arrow's Flight (Heralds of Valdemar, #2)",
                                    "2": "4.13",
                                    "3": "11643"
                                },
                                {
                                    "0": "Sarah Hepola",
                                    "1": "Blackout: Remembering the Things I Drank to Forget",
                                    "2": "3.96",
                                    "3": "11643"
                                },
                                {
                                    "0": "Mary Doria Russell",
                                    "1": "Children of God (The Sparrow, #2)",
                                    "2": "4.05",
                                    "3": "11643"
                                },
                                {
                                    "0": "Marion Zimmer Bradley, Diana L. Paxson",
                                    "1": "The Forest House (Avalon, #2)",
                                    "2": "3.85",
                                    "3": "11643"
                                },
                                {
                                    "0": "Pauline Réage, Sabine d'Estree",
                                    "1": "Story of O (Story of O #1)",
                                    "2": "3.34",
                                    "3": "11643"
                                },
                                {
                                    "0": "Agatha Christie",
                                    "1": "After the Funeral (Hercule Poirot, #29)",
                                    "2": "3.84",
                                    "3": "11643"
                                },
                                {
                                    "0": "Astrid Lindgren, Gerry Bothmer",
                                    "1": "Pippi in the South Seas",
                                    "2": "4.1",
                                    "3": "11643"
                                },
                                {
                                    "0": "Erica Jong",
                                    "1": "Fear of Flying",
                                    "2": "3.44",
                                    "3": "11643"
                                },
                                {
                                    "0": "Charlotte Brontë",
                                    "1": "The Professor",
                                    "2": "3.56",
                                    "3": "11643"
                                },
                                {
                                    "0": "Agatha Christie",
                                    "1": "The Moving Finger (Miss Marple, #4)",
                                    "2": "3.84",
                                    "3": "11643"
                                },
                                {
                                    "0": "Ali Smith",
                                    "1": "How to Be Both",
                                    "2": "3.61",
                                    "3": "11643"
                                },
                                {
                                    "0": "Anne Lamott, Sam Lamott",
                                    "1": "Some Assembly Required: A Journal of My Son's First Son",
                                    "2": "3.61",
                                    "3": "11643"
                                },
                                {
                                    "0": "Erin Hunter",
                                    "1": "Starlight (Warriors: The New Prophecy, #4)",
                                    "2": "4.28",
                                    "3": "11643"
                                },
                                {
                                    "0": "Ottessa Moshfegh",
                                    "1": "Eileen",
                                    "2": "3.38",
                                    "3": "11643"
                                },
                                {
                                    "0": "Anita Amirrezvani",
                                    "1": "The Blood of Flowers",
                                    "2": "3.95",
                                    "3": "11643"
                                },
                                {
                                    "0": "E. Nesbit",
                                    "1": "Five Children and It (Five Children, #1)",
                                    "2": "3.88",
                                    "3": "11643"
                                },
                                {
                                    "0": "G. Willow Wilson",
                                    "1": "Alif the Unseen",
                                    "2": "3.84",
                                    "3": "11643"
                                },
                                {
                                    "0": "Kate Chopin, Cynthia Brantley Johnson, Alyssa  Harad",
                                    "1": "The Awakening and Selected Stories",
                                    "2": "3.84",
                                    "3": "11643"
                                },
                                {
                                    "0": "Alice Hoffman",
                                    "1": "Faithful",
                                    "2": "4.02",
                                    "3": "11643"
                                },
                                {
                                    "0": "Elizabeth Little",
                                    "1": "Dear Daughter",
                                    "2": "3.44",
                                    "3": "11643"
                                },
                                {
                                    "0": "Margaret Weis, Tracy Hickman",
                                    "1": "Dragons of Summer Flame (Dragonlance: The Second Generation, #2)",
                                    "2": "3.84",
                                    "3": "11643"
                                },
                                {
                                    "0": "Rene Denfeld",
                                    "1": "The Enchanted",
                                    "2": "3.96",
                                    "3": "11643"
                                },
                                {
                                    "0": "Tamora Pierce",
                                    "1": "The Will of the Empress (Circle Reforged, #1)",
                                    "2": "4.15",
                                    "3": "11643"
                                },
                                {
                                    "0": "Isabel Allende, Oliver Brock, Frank Wynne",
                                    "1": "Ripper",
                                    "2": "3.24",
                                    "3": "11643"
                                },
                                {
                                    "0": "Erin Hunter",
                                    "1": "Twilight (Warriors: The New Prophecy, #5)",
                                    "2": "4.3",
                                    "3": "11643"
                                },
                                {
                                    "0": "Genevieve Cogman",
                                    "1": "The Invisible Library (The Invisible Library, #1)",
                                    "2": "3.73",
                                    "3": "11643"
                                },
                                {
                                    "0": "Anne Tyler",
                                    "1": "Saint Maybe",
                                    "2": "3.88",
                                    "3": "11643"
                                },
                                {
                                    "0": "Marjane Satrapi, Anjali Singh",
                                    "1": "Embroideries",
                                    "2": "3.82",
                                    "3": "11643"
                                },
                                {
                                    "0": "Melissa Anelli, J.K. Rowling",
                                    "1": "Harry, a History: The True Story of a Boy Wizard, His Fans, and Life Inside the Harry Potter Phenomenon",
                                    "2": "4.09",
                                    "3": "11643"
                                },
                                {
                                    "0": "Jill Alexander Essbaum",
                                    "1": "Hausfrau",
                                    "2": "3.24",
                                    "3": "11643"
                                },
                                {
                                    "0": "Nora Ephron",
                                    "1": "Heartburn",
                                    "2": "3.57",
                                    "3": "11643"
                                },
                                {
                                    "0": "Margaret Weis, Tracy Hickman",
                                    "1": "Elven Star (The Death Gate Cycle, #2)",
                                    "2": "3.98",
                                    "3": "11643"
                                },
                                {
                                    "0": "Elaine Pagels",
                                    "1": "The Gnostic Gospels",
                                    "2": "3.93",
                                    "3": "11643"
                                },
                                {
                                    "0": "Roxane Gay",
                                    "1": "An Untamed State",
                                    "2": "4.05",
                                    "3": "11643"
                                },
                                {
                                    "0": "Laurie R. King",
                                    "1": "A Monstrous Regiment of Women (Mary Russell, #2)",
                                    "2": "4.04",
                                    "3": "11643"
                                },
                                {
                                    "0": "Sara Ryan",
                                    "1": "Empress of the World (Battle Hall Davies, #1)",
                                    "2": "3.73",
                                    "3": "11643"
                                },
                                {
                                    "0": "Connie Willis",
                                    "1": "Blackout (All Clear, #1)",
                                    "2": "3.83",
                                    "3": "11643"
                                },
                                {
                                    "0": "Anita Brookner",
                                    "1": "Hotel du Lac",
                                    "2": "3.56",
                                    "3": "11643"
                                },
                                {
                                    "0": "Pat Barker",
                                    "1": "The Ghost Road (Regeneration, #3)",
                                    "2": "4.11",
                                    "3": "11643"
                                },
                                {
                                    "0": "Jill Murphy",
                                    "1": "The Worst Witch (Worst Witch, #1)",
                                    "2": "3.94",
                                    "3": "11643"
                                },
                                {
                                    "0": "Siri Hustvedt",
                                    "1": "What I Loved",
                                    "2": "4.02",
                                    "3": "11643"
                                },
                                {
                                    "0": "Lois McMaster Bujold",
                                    "1": "Mirror Dance (Vorkosigan Saga, #8)",
                                    "2": "4.32",
                                    "3": "11643"
                                },
                                {
                                    "0": "Iris Murdoch, Mary Kinzie",
                                    "1": "The Sea, the Sea",
                                    "2": "3.9",
                                    "3": "11643"
                                },
                                {
                                    "0": "Mary Higgins Clark",
                                    "1": "I'll Be Seeing You",
                                    "2": "3.79",
                                    "3": "11643"
                                },
                                {
                                    "0": "Ruth Ozeki",
                                    "1": "My Year of Meats",
                                    "2": "3.93",
                                    "3": "11643"
                                },
                                {
                                    "0": "Octavia E. Butler",
                                    "1": "Fledgling",
                                    "2": "3.9",
                                    "3": "11643"
                                },
                                {
                                    "0": "Anne McCaffrey",
                                    "1": "The Renegades of Pern (Pern, #10)",
                                    "2": "3.84",
                                    "3": "11643"
                                },
                                {
                                    "0": "Rose Levy Beranbaum, Maria Guarnaschelli, Vincent Lee, Manuela Paul, Dean G. Bornstein",
                                    "1": "The Cake Bible",
                                    "2": "4.2",
                                    "3": "11643"
                                },
                                {
                                    "0": "Elizabeth Gaskell, Shirley Foster",
                                    "1": "Mary Barton",
                                    "2": "3.7",
                                    "3": "11643"
                                },
                                {
                                    "0": "Maggie Nelson",
                                    "1": "The Argonauts",
                                    "2": "3.99",
                                    "3": "11643"
                                },
                                {
                                    "0": "L.M. Montgomery",
                                    "1": "Emily Climbs (Emily, #2)",
                                    "2": "4.14",
                                    "3": "11643"
                                },
                                {
                                    "0": "Jacqueline Carey",
                                    "1": "Kushiel's Mercy (Imriel's Trilogy, #3)",
                                    "2": "4.3",
                                    "3": "11643"
                                },
                                {
                                    "0": "Antonia Fraser",
                                    "1": "The Wives of Henry VIII",
                                    "2": "4.15",
                                    "3": "11643"
                                },
                                {
                                    "0": "Dorothy L. Sayers",
                                    "1": "Gaudy Night (Lord Peter Wimsey, #12)",
                                    "2": "4.26",
                                    "3": "11643"
                                },
                                {
                                    "0": "Frances Mayes",
                                    "1": "Bella Tuscany",
                                    "2": "3.74",
                                    "3": "11643"
                                },
                                {
                                    "0": "Octavia E. Butler",
                                    "1": "Parable of the Talents (Earthseed, #2)",
                                    "2": "4.21",
                                    "3": "11643"
                                },
                                {
                                    "0": "Anne McCaffrey",
                                    "1": "Crystal Singer (Crystal Singer, #1)",
                                    "2": "4.07",
                                    "3": "11643"
                                },
                                {
                                    "0": "Anderson Cooper, Gloria Vanderbilt",
                                    "1": "The Rainbow Comes and Goes: A Mother and Son On Life, Love, and Loss",
                                    "2": "3.79",
                                    "3": "11643"
                                },
                                {
                                    "0": "Ann Cleeves",
                                    "1": "Raven Black (Shetland Island, #1)",
                                    "2": "3.85",
                                    "3": "11643"
                                },
                                {
                                    "0": "Sarah L. Delany, A. Elizabeth Delany, Amy Hill Hearth",
                                    "1": "Having Our Say: The Delany Sisters' First 100 Years",
                                    "2": "4.14",
                                    "3": "11643"
                                },
                                {
                                    "0": "Gail Carriger",
                                    "1": "Curtsies & Conspiracies (Finishing School, #2)",
                                    "2": "4.11",
                                    "3": "11643"
                                },
                                {
                                    "0": "Sarah Pinborough",
                                    "1": "Behind Her Eyes",
                                    "2": "3.77",
                                    "3": "11643"
                                },
                                {
                                    "0": "Jeanette Winterson",
                                    "1": "Sexing the Cherry",
                                    "2": "3.83",
                                    "3": "11643"
                                },
                                {
                                    "0": "Tessa Dare",
                                    "1": "Romancing the Duke (Castles Ever After, #1)",
                                    "2": "3.91",
                                    "3": "11643"
                                },
                                {
                                    "0": "Lucie Whitehouse",
                                    "1": "Before We Met",
                                    "2": "3.43",
                                    "3": "11643"
                                },
                                {
                                    "0": "Melanie Rawn",
                                    "1": "Dragon Prince (Dragon Prince, #1)",
                                    "2": "3.94",
                                    "3": "11643"
                                },
                                {
                                    "0": "Louisa May Alcott",
                                    "1": "Good Wives (Little Women, #1.5)",
                                    "2": "3.92",
                                    "3": "11643"
                                },
                                {
                                    "0": "Yangsze Choo",
                                    "1": "The Ghost Bride",
                                    "2": "3.74",
                                    "3": "11643"
                                },
                                {
                                    "0": "Jacqueline Wilson",
                                    "1": "Girls in Love (Girls, #1)",
                                    "2": "3.53",
                                    "3": "11643"
                                },
                                {
                                    "0": "Twyla Tharp",
                                    "1": "The Creative Habit: Learn It and Use It for Life",
                                    "2": "4",
                                    "3": "11643"
                                },
                                {
                                    "0": "Marion Zimmer Bradley, Diana L. Paxson",
                                    "1": "Lady of Avalon (Avalon, #3)",
                                    "2": "3.88",
                                    "3": "11643"
                                },
                                {
                                    "0": "Jan Karon",
                                    "1": "Out to Canaan (Mitford Years, #4)",
                                    "2": "4.28",
                                    "3": "11643"
                                },
                                {
                                    "0": "Rosamund Lupton",
                                    "1": "Afterwards",
                                    "2": "3.79",
                                    "3": "11643"
                                },
                                {
                                    "0": "Christiane Northrup",
                                    "1": "Women's Bodies, Women's Wisdom: Creating Physical and Emotional Health and Healing",
                                    "2": "4.32",
                                    "3": "11643"
                                },
                                {
                                    "0": "Nella Larsen, Ntozake Shange, Thadious M. Davis",
                                    "1": "Passing",
                                    "2": "3.8",
                                    "3": "11643"
                                },
                                {
                                    "0": "Val McDermid",
                                    "1": "The Mermaids Singing (Tony Hill & Carol Jordan, #1)",
                                    "2": "3.98",
                                    "3": "11643"
                                },
                                {
                                    "0": "Louisa May Alcott",
                                    "1": "An Old-Fashioned Girl",
                                    "2": "4.05",
                                    "3": "11643"
                                },
                                {
                                    "0": "Ursula K. Le Guin",
                                    "1": "The Other Wind (Earthsea Cycle, #6)",
                                    "2": "4.06",
                                    "3": "11643"
                                },
                                {
                                    "0": "Alissa Nutting",
                                    "1": "Tampa",
                                    "2": "3.34",
                                    "3": "11643"
                                },
                                {
                                    "0": "Susanna Clarke, Charles Vess",
                                    "1": "The Ladies of Grace Adieu and Other Stories",
                                    "2": "3.85",
                                    "3": "11643"
                                },
                                {
                                    "0": "Jill Leovy",
                                    "1": "Ghettoside: A True Story of Murder in America",
                                    "2": "4.12",
                                    "3": "11643"
                                },
                                {
                                    "0": "Nancy Farmer",
                                    "1": "The Ear, the Eye, and the Arm",
                                    "2": "3.85",
                                    "3": "11643"
                                },
                                {
                                    "0": "Lois McMaster Bujold",
                                    "1": "Falling Free (Vorkosigan Saga, #4)",
                                    "2": "3.82",
                                    "3": "11643"
                                },
                                {
                                    "0": "Naomi Novik",
                                    "1": "Victory of Eagles (Temeraire, #5)",
                                    "2": "4.01",
                                    "3": "11643"
                                },
                                {
                                    "0": "Robin McKinley",
                                    "1": "Deerskin",
                                    "2": "3.88",
                                    "3": "11643"
                                },
                                {
                                    "0": "Diablo Cody",
                                    "1": "Candy Girl: A Year in the Life of an Unlikely Stripper",
                                    "2": "3.54",
                                    "3": "11643"
                                },
                                {
                                    "0": "J.K. Rowling",
                                    "1": "Harry Potter Schoolbooks Box Set: Two Classic Books from the Library of Hogwarts School of Witchcraft and Wizardry",
                                    "2": "4.4",
                                    "3": "11643"
                                },
                                {
                                    "0": "Audre Lorde",
                                    "1": "Zami: A New Spelling of My Name",
                                    "2": "4.2",
                                    "3": "11643"
                                },
                                {
                                    "0": "Alice Hoffman",
                                    "1": "The Ice Queen",
                                    "2": "3.51",
                                    "3": "11643"
                                },
                                {
                                    "0": "Lynn Flewelling",
                                    "1": "Luck in the Shadows (Nightrunner, #1)",
                                    "2": "4.08",
                                    "3": "11643"
                                },
                                {
                                    "0": "Naomi Klein",
                                    "1": "This Changes Everything: Capitalism vs. The Climate",
                                    "2": "4.17",
                                    "3": "11643"
                                },
                                {
                                    "0": "Agatha Christie",
                                    "1": "A Caribbean Mystery (Miss Marple, #10)",
                                    "2": "3.77",
                                    "3": "11643"
                                },
                                {
                                    "0": "Jenna Jameson, Neil Strauss",
                                    "1": "How to Make Love Like a Porn Star: A Cautionary Tale",
                                    "2": "3.75",
                                    "3": "11643"
                                },
                                {
                                    "0": "Rachel Joyce",
                                    "1": "Perfect",
                                    "2": "3.54",
                                    "3": "11643"
                                },
                                {
                                    "0": "Mary Hoffman, Caroline Binch",
                                    "1": "Amazing Grace",
                                    "2": "4.33",
                                    "3": "11643"
                                },
                                {
                                    "0": "Emma Donoghue",
                                    "1": "Slammerkin",
                                    "2": "3.69",
                                    "3": "11643"
                                },
                                {
                                    "0": "Rachel Bertsche",
                                    "1": "MWF Seeking BFF: My Yearlong Search For A New Best Friend",
                                    "2": "3.44",
                                    "3": "11643"
                                },
                                {
                                    "0": "Jennifer Crusie",
                                    "1": "Faking It (Dempseys, #2)",
                                    "2": "3.9",
                                    "3": "11643"
                                },
                                {
                                    "0": "Lionel Shriver",
                                    "1": "The Post-Birthday World",
                                    "2": "3.52",
                                    "3": "11643"
                                },
                                {
                                    "0": "Beatrix Potter",
                                    "1": "The Tale of Mrs. Tiggy-Winkle",
                                    "2": "4.19",
                                    "3": "11643"
                                },
                                {
                                    "0": "Esi Edugyan",
                                    "1": "Half Blood Blues",
                                    "2": "3.63",
                                    "3": "11643"
                                },
                                {
                                    "0": "Anne Michaels",
                                    "1": "Fugitive Pieces",
                                    "2": "3.95",
                                    "3": "11643"
                                },
                                {
                                    "0": "Phyllis T. Smith",
                                    "1": "I Am Livia",
                                    "2": "3.93",
                                    "3": "11643"
                                },
                                {
                                    "0": "Robin Hobb",
                                    "1": "Renegade's Magic (Soldier Son, #3)",
                                    "2": "3.46",
                                    "3": "11643"
                                },
                                {
                                    "0": "Frances Hodgson Burnett",
                                    "1": "Little Lord Fauntleroy",
                                    "2": "3.81",
                                    "3": "11643"
                                },
                                {
                                    "0": "Robin McKinley",
                                    "1": "Rose Daughter",
                                    "2": "3.77",
                                    "3": "11643"
                                },
                                {
                                    "0": "Alice  Miller, Ruth Ward",
                                    "1": "The Drama of the Gifted Child: The Search for the True Self",
                                    "2": "4.09",
                                    "3": "11643"
                                },
                                {
                                    "0": "Bisco Hatori",
                                    "1": "Ouran High School Host Club, Vol. 15 (Ouran High School Host Club, #15)",
                                    "2": "4.54",
                                    "3": "11643"
                                },
                                {
                                    "0": "Iris Murdoch",
                                    "1": "Under the Net",
                                    "2": "3.76",
                                    "3": "11643"
                                },
                                {
                                    "0": "Trudi Canavan",
                                    "1": "Priestess of the White (Age of the Five, #1)",
                                    "2": "3.84",
                                    "3": "11643"
                                },
                                {
                                    "0": "Susan S. Adler, Renée Graef, Nancy Niles",
                                    "1": "Meet Samantha: An American Girl (American Girls: Samantha, #1)",
                                    "2": "3.95",
                                    "3": "11643"
                                },
                                {
                                    "0": "Julie Otsuka",
                                    "1": "When the Emperor Was Divine",
                                    "2": "3.7",
                                    "3": "11643"
                                },
                                {
                                    "0": "Dorothy L. Sayers",
                                    "1": "Clouds of Witness (Lord Peter Wimsey, #2)",
                                    "2": "4.04",
                                    "3": "11643"
                                },
                                {
                                    "0": "Enid Blyton",
                                    "1": "Five Go to Smuggler's Top (Famous Five, #4)",
                                    "2": "4.03",
                                    "3": "11643"
                                },
                                {
                                    "0": "Sara Paretsky",
                                    "1": "Indemnity Only (V.I. Warshawski, #1)",
                                    "2": "3.89",
                                    "3": "11643"
                                },
                                {
                                    "0": "Judy Schachner",
                                    "1": "Skippyjon Jones in Mummy Trouble (Skippyjon Jones, #3)",
                                    "2": "4.25",
                                    "3": "11643"
                                },
                                {
                                    "0": "Ursula K. Le Guin",
                                    "1": "Tales from Earthsea (Earthsea Cycle, #5)",
                                    "2": "4",
                                    "3": "11643"
                                },
                                {
                                    "0": "Anne McCaffrey",
                                    "1": "Nerilka's Story (Pern, #8)",
                                    "2": "3.78",
                                    "3": "11643"
                                },
                                {
                                    "0": "Lynley Dodd",
                                    "1": "Hairy Maclary from Donaldson's Dairy",
                                    "2": "4.28",
                                    "3": "11643"
                                },
                                {
                                    "0": "Donna Leon",
                                    "1": "Death at La Fenice (Commissario Brunetti, #1)",
                                    "2": "3.81",
                                    "3": "11643"
                                },
                                {
                                    "0": "Virginia M. Axline",
                                    "1": "Dibs in Search of Self",
                                    "2": "4.13",
                                    "3": "11643"
                                },
                                {
                                    "0": "Agatha Christie, Robin Bailey",
                                    "1": "The Clocks (Hercule Poirot, #34)",
                                    "2": "3.71",
                                    "3": "11643"
                                },
                                {
                                    "0": "Anne McCaffrey",
                                    "1": "The Dolphins of Pern (Pern, #13)",
                                    "2": "3.94",
                                    "3": "11643"
                                },
                                {
                                    "0": "S.A.R.K.",
                                    "1": "Succulent Wild Woman",
                                    "2": "4.12",
                                    "3": "11643"
                                },
                                {
                                    "0": "Agatha Christie",
                                    "1": "They Do It with Mirrors (Miss Marple, #6)",
                                    "2": "3.74",
                                    "3": "11643"
                                },
                                {
                                    "0": "N.K. Jemisin",
                                    "1": "The Obelisk Gate (The Broken Earth, #2)",
                                    "2": "4.36",
                                    "3": "11643"
                                },
                                {
                                    "0": "A.S. Byatt",
                                    "1": "The Children's Book",
                                    "2": "3.66",
                                    "3": "11643"
                                },
                                {
                                    "0": "Helen Fielding",
                                    "1": "Olivia Joules and the Overactive Imagination",
                                    "2": "3.1",
                                    "3": "11643"
                                },
                                {
                                    "0": "Sarah Vowell",
                                    "1": "Unfamiliar Fishes",
                                    "2": "3.6",
                                    "3": "11643"
                                },
                                {
                                    "0": "Louise Erdrich",
                                    "1": "The Beet Queen",
                                    "2": "3.89",
                                    "3": "11643"
                                },
                                {
                                    "0": "Helen Hooven Santmyer",
                                    "1": "And Ladies of the Club",
                                    "2": "4.12",
                                    "3": "11643"
                                },
                                {
                                    "0": "Zadie Smith",
                                    "1": "The Autograph Man",
                                    "2": "3.14",
                                    "3": "11643"
                                },
                                {
                                    "0": "Cynthia Bond",
                                    "1": "Ruby",
                                    "2": "3.63",
                                    "3": "11643"
                                },
                                {
                                    "0": "Jacqueline Winspear",
                                    "1": "Messenger of Truth (Maisie Dobbs, #4)",
                                    "2": "3.99",
                                    "3": "11643"
                                },
                                {
                                    "0": "Jennifer Egan",
                                    "1": "The Keep",
                                    "2": "3.43",
                                    "3": "11643"
                                },
                                {
                                    "0": "Geraldine Brooks",
                                    "1": "Nine Parts of Desire: The Hidden World of Islamic Women",
                                    "2": "4.04",
                                    "3": "11643"
                                },
                                {
                                    "0": "Jessi Klein",
                                    "1": "You'll Grow Out of It",
                                    "2": "3.83",
                                    "3": "11643"
                                },
                                {
                                    "0": "Rebecca Wells",
                                    "1": "Ya Yas in Bloom",
                                    "2": "3.6",
                                    "3": "11643"
                                },
                                {
                                    "0": "N.K. Jemisin",
                                    "1": "The Broken Kingdoms (Inheritance, #2)",
                                    "2": "4.04",
                                    "3": "11643"
                                },
                                {
                                    "0": "Sarah Lotz",
                                    "1": "The Three (The Three, #1)",
                                    "2": "3.32",
                                    "3": "11643"
                                },
                                {
                                    "0": "Enid Blyton",
                                    "1": "Five Go Adventuring Again (Famous Five, #2)",
                                    "2": "3.99",
                                    "3": "11643"
                                },
                                {
                                    "0": "Pema Chödrön",
                                    "1": "The Places That Scare You: A Guide to Fearlessness in Difficult Times",
                                    "2": "4.3",
                                    "3": "11643"
                                },
                                {
                                    "0": "Chitra Banerjee Divakaruni",
                                    "1": "The Mistress of Spices",
                                    "2": "3.48",
                                    "3": "11643"
                                },
                                {
                                    "0": "Claudia Gray",
                                    "1": "Lost Stars (Star Wars: Journey to the Force Awakens)",
                                    "2": "4.25",
                                    "3": "11643"
                                },
                                {
                                    "0": "Margaret Edson",
                                    "1": "Wit",
                                    "2": "4.2",
                                    "3": "11643"
                                },
                                {
                                    "0": "Leslie Jamison",
                                    "1": "The Empathy Exams: Essays",
                                    "2": "3.62",
                                    "3": "11643"
                                },
                                {
                                    "0": "Courtney Milan",
                                    "1": "The Duchess War (Brothers Sinister, #1)",
                                    "2": "3.82",
                                    "3": "11643"
                                },
                                {
                                    "0": "Octavia E. Butler",
                                    "1": "Wild Seed (Patternmaster, #1)",
                                    "2": "4.22",
                                    "3": "11643"
                                },
                                {
                                    "0": "Anne Tyler",
                                    "1": "The Amateur Marriage",
                                    "2": "3.59",
                                    "3": "11643"
                                },
                                {
                                    "0": "Patricia Highsmith",
                                    "1": "Strangers on a Train",
                                    "2": "3.82",
                                    "3": "11643"
                                },
                                {
                                    "0": "Carol Shields",
                                    "1": "Unless",
                                    "2": "3.63",
                                    "3": "11643"
                                },
                                {
                                    "0": "Else Holmelund Minarik, Maurice Sendak",
                                    "1": "A Kiss for Little Bear (An I Can Read Book) by Minarik, Else Holmelund [1984]",
                                    "2": "4.31",
                                    "3": "11643"
                                },
                                {
                                    "0": "Diana Gabaldon",
                                    "1": "The Space Between (Outlander, #7.5)",
                                    "2": "4.22",
                                    "3": "11643"
                                },
                                {
                                    "0": "Marie Kondō",
                                    "1": "Spark Joy: An Illustrated Master Class on the Art of Organizing and Tidying Up",
                                    "2": "3.82",
                                    "3": "11643"
                                },
                                {
                                    "0": "Georgette Heyer",
                                    "1": "Frederica",
                                    "2": "4.15",
                                    "3": "11643"
                                },
                                {
                                    "0": "Angela Flournoy",
                                    "1": "The Turner House",
                                    "2": "3.64",
                                    "3": "11643"
                                },
                                {
                                    "0": "Maeve Binchy",
                                    "1": "Whitethorn Woods",
                                    "2": "3.59",
                                    "3": "11643"
                                },
                                {
                                    "0": "Judith Kerr",
                                    "1": "The Tiger Who Came to Tea",
                                    "2": "4.23",
                                    "3": "11643"
                                },
                                {
                                    "0": "Lois McMaster Bujold",
                                    "1": "A Civil Campaign (Vorkosigan Saga, #12)",
                                    "2": "4.43",
                                    "3": "11643"
                                },
                                {
                                    "0": "Joan Aiken, Pat Marriott",
                                    "1": "The Wolves of Willoughby Chase (The Wolves Chronicles, #1)",
                                    "2": "4.08",
                                    "3": "11643"
                                },
                                {
                                    "0": "Jacqueline Wilson, Nick Sharratt",
                                    "1": "The Illustrated Mum",
                                    "2": "3.74",
                                    "3": "11643"
                                },
                                {
                                    "0": "Mary Hoffman",
                                    "1": "City of Masks (Stravaganza, #1)",
                                    "2": "3.9",
                                    "3": "11643"
                                },
                                {
                                    "0": "Inga Muscio, Betty Dodson",
                                    "1": "Cunt: A Declaration of Independence",
                                    "2": "3.88",
                                    "3": "11643"
                                },
                                {
                                    "0": "Giulia Enders, Jill Enders",
                                    "1": "Gut: The Inside Story of Our Body’s Most Underrated Organ",
                                    "2": "3.99",
                                    "3": "11643"
                                },
                                {
                                    "0": "Lois Lowry",
                                    "1": "Anastasia Krupnik (Anastasia Krupnik, #1)",
                                    "2": "3.89",
                                    "3": "11643"
                                },
                                {
                                    "0": "Anne Tyler",
                                    "1": "Ladder of Years",
                                    "2": "3.72",
                                    "3": "11643"
                                },
                                {
                                    "0": "Peggy Orenstein",
                                    "1": "Cinderella Ate My Daughter: Dispatches from the Frontlines of the New Girlie-Girl Culture",
                                    "2": "3.65",
                                    "3": "11643"
                                }
                            ]
                        },
                        "text/html": [
                            "<table>",
                            "<tr><th>authors</th><th>title</th><th>average_rating</th><th>tag_id</th></tr>",
                            "<tr><td>J.K. Rowling, Mary GrandPré</td><td>Harry Potter and the Order of the Phoenix (Harry Potter, #5)</td><td>4.46</td><td>11643</td></tr>",
                            "<tr><td>Lois Lowry</td><td>The Giver (The Giver, #1)</td><td>4.12</td><td>11643</td></tr>",
                            "<tr><td>Charlotte Brontë, Michael Mason</td><td>Jane Eyre</td><td>4.1</td><td>11643</td></tr>",
                            "<tr><td>Sara Gruen</td><td>Water for Elephants</td><td>4.07</td><td>11643</td></tr>",
                            "<tr><td>Emily Brontë, Richard J. Dunn</td><td>Wuthering Heights</td><td>3.82</td><td>11643</td></tr>",
                            "<tr><td>Mary Wollstonecraft Shelley, Percy Bysshe Shelley, Maurice Hindle</td><td>Frankenstein</td><td>3.75</td><td>11643</td></tr>",
                            "<tr><td>Helen Fielding</td><td>Bridget Jones's Diary (Bridget Jones, #1)</td><td>3.75</td><td>11643</td></tr>",
                            "<tr><td>Jane Austen, Tony Tanner, Ros Ballaster</td><td>Sense and Sensibility</td><td>4.06</td><td>11643</td></tr>",
                            "<tr><td>Lauren Weisberger</td><td>The Devil Wears Prada (The Devil Wears Prada, #1)</td><td>3.7</td><td>11643</td></tr>",
                            "<tr><td>Barbara Kingsolver</td><td>The Poisonwood Bible</td><td>4.02</td><td>11643</td></tr>",
                            "<tr><td>Tina Fey</td><td>Bossypants</td><td>3.94</td><td>11643</td></tr>",
                            "<tr><td>Amy Tan</td><td>The Joy Luck Club</td><td>3.9</td><td>11643</td></tr>",
                            "<tr><td>Margaret Atwood</td><td>The Handmaid's Tale</td><td>4.06</td><td>11643</td></tr>",
                            "<tr><td>Emma Donoghue</td><td>Room</td><td>4.03</td><td>11643</td></tr>",
                            "<tr><td>Rebecca Wells</td><td>Divine Secrets of the Ya-Ya Sisterhood</td><td>3.79</td><td>11643</td></tr>",
                            "<tr><td>Tracy Chevalier</td><td>Girl with a Pearl Earring</td><td>3.85</td><td>11643</td></tr>",
                            "<tr><td>Anita Diamant</td><td>The Red Tent</td><td>4.16</td><td>11643</td></tr>",
                            "<tr><td>Jane Austen, Fiona Stafford</td><td>Emma</td><td>3.99</td><td>11643</td></tr>",
                            "<tr><td>Philippa Gregory</td><td>The Other Boleyn Girl (The Plantagenet and Tudor Novels, #9)</td><td>4.04</td><td>11643</td></tr>",
                            "<tr><td>Alice Walker</td><td>The Color Purple</td><td>4.17</td><td>11643</td></tr>",
                            "<tr><td>Agatha Christie</td><td>And Then There Were None</td><td>4.23</td><td>11643</td></tr>",
                            "<tr><td>Anne Rice</td><td>Interview with the Vampire (The Vampire Chronicles, #1)</td><td>3.97</td><td>11643</td></tr>",
                            "<tr><td>Rebecca Skloot</td><td>The Immortal Life of Henrietta Lacks</td><td>4.04</td><td>11643</td></tr>",
                            "<tr><td>Emma McLaughlin, Nicola Kraus</td><td>The Nanny Diaries (Nanny, #1)</td><td>3.4</td><td>11643</td></tr>",
                            "<tr><td>Jane Austen, James Kinsley, Deidre Shauna Lynch</td><td>Persuasion</td><td>4.13</td><td>11643</td></tr>",
                            "<tr><td>Robert Galbraith, J.K. Rowling</td><td>The Cuckoo's Calling (Cormoran Strike, #1)</td><td>3.83</td><td>11643</td></tr>",
                            "<tr><td>Daphne du Maurier, Sally Beauman</td><td>Rebecca</td><td>4.2</td><td>11643</td></tr>",
                            "<tr><td>Lisa See</td><td>Snow Flower and the Secret Fan</td><td>4.05</td><td>11643</td></tr>",
                            "<tr><td>Mindy Kaling</td><td>Is Everyone Hanging Out Without Me? (And Other Concerns)</td><td>3.84</td><td>11643</td></tr>",
                            "<tr><td>Maya Angelou</td><td>I Know Why the Caged Bird Sings</td><td>4.19</td><td>11643</td></tr>",
                            "<tr><td>Maria Semple</td><td>Where'd You Go, Bernadette</td><td>3.9</td><td>11643</td></tr>",
                            "<tr><td>Janet Fitch</td><td>White Oleander</td><td>3.93</td><td>11643</td></tr>",
                            "<tr><td>J.K. Rowling</td><td>The Casual Vacancy</td><td>3.28</td><td>11643</td></tr>",
                            "<tr><td>Amy Poehler</td><td>Yes Please</td><td>3.81</td><td>11643</td></tr>",
                            "<tr><td>Toni Morrison</td><td>Beloved</td><td>3.77</td><td>11643</td></tr>",
                            "<tr><td>J.K. Rowling</td><td>The Tales of Beedle the Bard</td><td>4.06</td><td>11643</td></tr>",
                            "<tr><td>Fannie Flagg</td><td>Fried Green Tomatoes at the Whistle Stop Cafe</td><td>4.26</td><td>11643</td></tr>",
                            "<tr><td>Diane Setterfield</td><td>The Thirteenth Tale</td><td>3.95</td><td>11643</td></tr>",
                            "<tr><td>Arundhati Roy</td><td>The God of Small Things</td><td>3.91</td><td>11643</td></tr>",
                            "<tr><td>Jane Austen, Alfred MacAdam</td><td>Northanger Abbey</td><td>3.8</td><td>11643</td></tr>",
                            "<tr><td>Elizabeth Kostova</td><td>The Historian</td><td>3.77</td><td>11643</td></tr>",
                            "<tr><td>Emily St. John Mandel</td><td>Station Eleven</td><td>4.02</td><td>11643</td></tr>",
                            "<tr><td>Pearl S. Buck</td><td>The Good Earth (House of Earth, #1)</td><td>3.97</td><td>11643</td></tr>",
                            "<tr><td>Jennifer Weiner</td><td>In Her Shoes</td><td>3.78</td><td>11643</td></tr>",
                            "<tr><td>Zora Neale Hurston</td><td>Their Eyes Were Watching God</td><td>3.87</td><td>11643</td></tr>",
                            "<tr><td>Newt Scamander, J.K. Rowling, Albus Dumbledore</td><td>Fantastic Beasts and Where to Find Them</td><td>3.95</td><td>11643</td></tr>",
                            "<tr><td>Jane Austen, Kathryn Sutherland, Tony Tanner, Claire Lamont</td><td>Mansfield Park</td><td>3.84</td><td>11643</td></tr>",
                            "<tr><td>Tana French</td><td>In the Woods (Dublin Murder Squad, #1)</td><td>3.74</td><td>11643</td></tr>",
                            "<tr><td>Donna Tartt</td><td>The Secret History</td><td>4.07</td><td>11643</td></tr>",
                            "<tr><td>Jean M. Auel</td><td>The Clan of the Cave Bear (Earth's Children, #1)</td><td>4.02</td><td>11643</td></tr>",
                            "<tr><td>Barbara Ehrenreich</td><td>Nickel and Dimed: On (Not) Getting By in America</td><td>3.6</td><td>11643</td></tr>",
                            "<tr><td>Patricia Cornwell</td><td>Postmortem (Kay Scarpetta, #1)</td><td>4.01</td><td>11643</td></tr>",
                            "<tr><td>Harper Lee</td><td>Go Set a Watchman</td><td>3.31</td><td>11643</td></tr>",
                            "<tr><td>Laura Ingalls Wilder, Garth Williams</td><td>Little House on the Prairie (Little House, #2)</td><td>4.18</td><td>11643</td></tr>",
                            "<tr><td>Kate Atkinson</td><td>Life After Life</td><td>3.74</td><td>11643</td></tr>",
                            "<tr><td>Vanessa Diffenbaugh</td><td>The Language of Flowers</td><td>4.07</td><td>11643</td></tr>",
                            "<tr><td>Margaret Atwood</td><td>Oryx and Crake (MaddAddam, #1)</td><td>4</td><td>11643</td></tr>",
                            "<tr><td>Ursula K. Le Guin</td><td>A Wizard of Earthsea (Earthsea Cycle, #1)</td><td>3.99</td><td>11643</td></tr>",
                            "<tr><td>Robin Hobb</td><td>Assassin's Apprentice (Farseer Trilogy, #1)</td><td>4.14</td><td>11643</td></tr>",
                            "<tr><td>Susanna Kaysen</td><td>Girl, Interrupted</td><td>3.9</td><td>11643</td></tr>",
                            "<tr><td>Piper Kerman</td><td>Orange Is the New Black</td><td>3.7</td><td>11643</td></tr>",
                            "<tr><td>Marion Zimmer Bradley</td><td>The Mists of Avalon (Avalon, #1)</td><td>4.12</td><td>11643</td></tr>",
                            "<tr><td>Jennifer Egan</td><td>A Visit from the Goon Squad</td><td>3.64</td><td>11643</td></tr>",
                            "<tr><td>Johanna Spyri, Angelo  Rinaldi, Beverly Cleary</td><td>Heidi</td><td>3.97</td><td>11643</td></tr>",
                            "<tr><td>Jhumpa Lahiri</td><td>Interpreter of Maladies</td><td>4.12</td><td>11643</td></tr>",
                            "<tr><td>Celeste Ng</td><td>Everything I Never Told You</td><td>3.78</td><td>11643</td></tr>",
                            "<tr><td>Isabel Allende, Magda Bogin</td><td>The House of the Spirits</td><td>4.2</td><td>11643</td></tr>",
                            "<tr><td>Agatha Christie, Ροζίτα Σώκου</td><td>The Mysterious Affair at Styles (Hercule Poirot, #1)</td><td>3.98</td><td>11643</td></tr>",
                            "<tr><td>Agatha Christie</td><td>Murder on the Orient Express (Hercule Poirot, #10)</td><td>4.16</td><td>11643</td></tr>",
                            "<tr><td>Chimamanda Ngozi Adichie</td><td>Americanah</td><td>4.26</td><td>11643</td></tr>",
                            "<tr><td>Laura Ingalls Wilder, Garth Williams</td><td>Little House in the Big Woods (Little House, #1)</td><td>4.16</td><td>11643</td></tr>",
                            "<tr><td>Susanna Clarke</td><td>Jonathan Strange &amp; Mr Norrell</td><td>3.8</td><td>11643</td></tr>",
                            "<tr><td>Robert Galbraith, J.K. Rowling</td><td>The Silkworm (Cormoran Strike, #2)</td><td>4.03</td><td>11643</td></tr>",
                            "<tr><td>Virginia Woolf, Maureen Howard</td><td>Mrs. Dalloway</td><td>3.78</td><td>11643</td></tr>",
                            "<tr><td>Julie Powell</td><td>Julie and Julia: 365 Days, 524 Recipes, 1 Tiny Apartment Kitchen: How One Girl Risked Her Marriage, Her Job, and Her Sanity to Master the Art of Living</td><td>3.67</td><td>11643</td></tr>",
                            "<tr><td>Allie Brosh</td><td>Hyperbole and a Half: Unfortunate Situations, Flawed Coping Mechanisms, Mayhem, and Other Things That Happened</td><td>4.17</td><td>11643</td></tr>",
                            "<tr><td>Melissa Bank</td><td>The Girls' Guide to Hunting and Fishing</td><td>3.29</td><td>11643</td></tr>",
                            "<tr><td>Mary Roach</td><td>Stiff: The Curious Lives of Human Cadavers</td><td>4.05</td><td>11643</td></tr>",
                            "<tr><td>Toni Morrison</td><td>The Bluest Eye</td><td>3.99</td><td>11643</td></tr>",
                            "<tr><td>Patti Smith</td><td>Just Kids</td><td>4.14</td><td>11643</td></tr>",
                            "<tr><td>Kate Chopin</td><td>The Awakening</td><td>3.63</td><td>11643</td></tr>",
                            "<tr><td>Helen Keller</td><td>The Story of My Life</td><td>4.07</td><td>11643</td></tr>",
                            "<tr><td>Hilary Mantel</td><td>Wolf Hall (Thomas Cromwell, #1)</td><td>3.85</td><td>11643</td></tr>",
                            "<tr><td>Diana Wynne Jones</td><td>Howl's Moving Castle (Howl's Moving Castle, #1)</td><td>4.3</td><td>11643</td></tr>",
                            "<tr><td>Marjane Satrapi, Mattias Ripa</td><td>Persepolis: The Story of a Childhood (Persepolis, #1)</td><td>4.23</td><td>11643</td></tr>",
                            "<tr><td>Amy Tan</td><td>The Bonesetter's Daughter</td><td>3.98</td><td>11643</td></tr>",
                            "<tr><td>Barbara Kingsolver</td><td>The Bean Trees (Greer Family, #1)</td><td>3.94</td><td>11643</td></tr>",
                            "<tr><td>Nicole Krauss</td><td>The History of Love</td><td>3.91</td><td>11643</td></tr>",
                            "<tr><td>Astrid Lindgren, Lauren Child, Florence Lamborn, Nancy Seligsohn</td><td>Pippi Longstocking</td><td>4.11</td><td>11643</td></tr>",
                            "<tr><td>Muriel Barbery, Alison Anderson</td><td>The Elegance of the Hedgehog</td><td>3.73</td><td>11643</td></tr>",
                            "<tr><td>Margaret Atwood</td><td>The Blind Assassin</td><td>3.95</td><td>11643</td></tr>",
                            "<tr><td>Joan Didion</td><td>The Year of Magical Thinking</td><td>3.86</td><td>11643</td></tr>",
                            "<tr><td>Lionel Shriver</td><td>We Need to Talk About Kevin</td><td>4.07</td><td>11643</td></tr>",
                            "<tr><td>Edith Wharton, Maureen Howard</td><td>The Age of Innocence</td><td>3.93</td><td>11643</td></tr>",
                            "<tr><td>Geraldine Brooks</td><td>Year of Wonders</td><td>4</td><td>11643</td></tr>",
                            "<tr><td>Ayn Rand</td><td>Anthem</td><td>3.62</td><td>11643</td></tr>",
                            "<tr><td>Azar Nafisi</td><td>Reading Lolita in Tehran</td><td>3.57</td><td>11643</td></tr>",
                            "<tr><td>Annie Proulx</td><td>The Shipping News</td><td>3.83</td><td>11643</td></tr>",
                            "<tr><td>Marie Kondō, Cathy Hirano</td><td>The Life-Changing Magic of Tidying Up: The Japanese Art of Decluttering and Organizing</td><td>3.77</td><td>11643</td></tr>",
                            "<tr><td>Kathy Reichs</td><td>Déjà Dead (Temperance Brennan, #1)</td><td>3.86</td><td>11643</td></tr>",
                            "<tr><td>Lena Dunham, Joana Avillez</td><td>Not That Kind of Girl: A Young Woman Tells You What She's &quot;Learned&quot;</td><td>3.33</td><td>11643</td></tr>",
                            "<tr><td>George Eliot, Michel Faber</td><td>Middlemarch</td><td>3.93</td><td>11643</td></tr>",
                            "<tr><td>Stacy Schiff</td><td>Cleopatra: A Life</td><td>3.62</td><td>11643</td></tr>",
                            "<tr><td>Carol Rifka Brunt</td><td>Tell the Wolves I'm Home</td><td>4.04</td><td>11643</td></tr>",
                            "<tr><td>Emmuska Orczy</td><td>The Scarlet Pimpernel</td><td>4.06</td><td>11643</td></tr>",
                            "<tr><td>Zadie Smith</td><td>White Teeth</td><td>3.75</td><td>11643</td></tr>",
                            "<tr><td>Meg Wolitzer</td><td>The Interestings</td><td>3.54</td><td>11643</td></tr>",
                            "<tr><td>Robin Hobb</td><td>Royal Assassin (Farseer Trilogy, #2)</td><td>4.21</td><td>11643</td></tr>",
                            "<tr><td>Barbara Kingsolver, Steven L. Hopp, Camille Kingsolver, Richard A. Houser</td><td>Animal, Vegetable, Miracle: A Year of Food Life</td><td>4.03</td><td>11643</td></tr>",
                            "<tr><td>Mindy Kaling</td><td>Why Not Me?</td><td>3.89</td><td>11643</td></tr>",
                            "<tr><td>Agatha Christie</td><td>Murder at the Vicarage (Miss Marple, #1)</td><td>4.03</td><td>11643</td></tr>",
                            "<tr><td>Robert Galbraith, J.K. Rowling</td><td>Career of Evil (Cormoran Strike, #3)</td><td>4.21</td><td>11643</td></tr>",
                            "<tr><td>Cynthia D'Aprix Sweeney</td><td>The Nest</td><td>3.45</td><td>11643</td></tr>",
                            "<tr><td>Virginia Woolf</td><td>To the Lighthouse</td><td>3.76</td><td>11643</td></tr>",
                            "<tr><td>Patricia Cornwell</td><td>Cruel &amp; Unusual (Kay Scarpetta, #4)</td><td>4.11</td><td>11643</td></tr>",
                            "<tr><td>Willa Cather</td><td>My Ántonia</td><td>3.76</td><td>11643</td></tr>",
                            "<tr><td>Jennifer Weiner</td><td>Little Earthquakes</td><td>3.76</td><td>11643</td></tr>",
                            "<tr><td>L.M. Montgomery</td><td>Anne of the Island (Anne of Green Gables, #3)</td><td>4.21</td><td>11643</td></tr>",
                            "<tr><td>Elizabeth Gaskell, Alan Shelston</td><td>North and South</td><td>4.13</td><td>11643</td></tr>",
                            "<tr><td>Anne McCaffrey, Teodor Panasiński</td><td>Dragonflight (Dragonriders of Pern, #1)</td><td>4.1</td><td>11643</td></tr>",
                            "<tr><td>Joanne Harris</td><td>Chocolat (Chocolat, #1)</td><td>3.95</td><td>11643</td></tr>",
                            "<tr><td>Barbara Kingsolver</td><td>Prodigal Summer</td><td>3.98</td><td>11643</td></tr>",
                            "<tr><td>Joyce Carol Oates</td><td>We Were the Mulvaneys</td><td>3.7</td><td>11643</td></tr>",
                            "<tr><td>Eowyn Ivey</td><td>The Snow Child</td><td>3.95</td><td>11643</td></tr>",
                            "<tr><td>Emma Cline</td><td>The Girls</td><td>3.49</td><td>11643</td></tr>",
                            "<tr><td>Olive Ann Burns</td><td>Cold Sassy Tree</td><td>3.99</td><td>11643</td></tr>",
                            "<tr><td>Elena Ferrante, Ann Goldstein</td><td>My Brilliant Friend (The Neapolitan Novels #1)</td><td>3.88</td><td>11643</td></tr>",
                            "<tr><td>Louise Erdrich</td><td>The Round House</td><td>3.91</td><td>11643</td></tr>",
                            "<tr><td>Madeleine L'Engle</td><td>A Wind in the Door (A Wrinkle in Time Quintet, #2)</td><td>4.07</td><td>11643</td></tr>",
                            "<tr><td>Hanya Yanagihara</td><td>A Little Life</td><td>4.27</td><td>11643</td></tr>",
                            "<tr><td>Anne Tyler, Jennifer Bassett</td><td>The Accidental Tourist</td><td>3.9</td><td>11643</td></tr>",
                            "<tr><td>L.M. Montgomery</td><td>Anne of Avonlea (Anne of Green Gables, #2)</td><td>4.21</td><td>11643</td></tr>",
                            "<tr><td>Karen Joy Fowler</td><td>We Are All Completely Beside Ourselves</td><td>3.71</td><td>11643</td></tr>",
                            "<tr><td>Lauren Groff</td><td>Fates and Furies</td><td>3.56</td><td>11643</td></tr>",
                            "<tr><td>Rosamunde Pilcher</td><td>The Shell Seekers</td><td>4.13</td><td>11643</td></tr>",
                            "<tr><td>Jhumpa Lahiri</td><td>The Lowland</td><td>3.82</td><td>11643</td></tr>",
                            "<tr><td>Robin Hobb</td><td>Assassin's Quest (Farseer Trilogy, #3)</td><td>4.18</td><td>11643</td></tr>",
                            "<tr><td>Katherine Boo</td><td>Behind the Beautiful Forevers: Life, Death, and Hope in a Mumbai Undercity</td><td>3.97</td><td>11643</td></tr>",
                            "<tr><td>P.L. Travers, Mary Shepard</td><td>Mary Poppins (Mary Poppins, #1)</td><td>4.05</td><td>11643</td></tr>",
                            "<tr><td>Sandra Cisneros</td><td>The House on Mango Street</td><td>3.57</td><td>11643</td></tr>",
                            "<tr><td>Elizabeth Gilbert</td><td>The Signature of All Things</td><td>3.81</td><td>11643</td></tr>",
                            "<tr><td>Lynne Truss</td><td>Eats, Shoots &amp; Leaves: The Zero Tolerance Approach to Punctuation</td><td>3.86</td><td>11643</td></tr>",
                            "<tr><td>Kennilworthy Whisp, J.K. Rowling</td><td>Quidditch Through the Ages</td><td>3.85</td><td>11643</td></tr>",
                            "<tr><td>A.S.A. Harrison</td><td>The Silent Wife</td><td>3.3</td><td>11643</td></tr>",
                            "<tr><td>Caitlin Moran</td><td>How to Be a Woman</td><td>3.73</td><td>11643</td></tr>",
                            "<tr><td>Jhumpa Lahiri</td><td>Unaccustomed Earth</td><td>4.11</td><td>11643</td></tr>",
                            "<tr><td>Christina Schwarz</td><td>Drowning Ruth</td><td>3.73</td><td>11643</td></tr>",
                            "<tr><td>Tana French</td><td>The Likeness (Dublin Murder Squad, #2)</td><td>4.05</td><td>11643</td></tr>",
                            "<tr><td>Téa Obreht</td><td>The Tiger's Wife</td><td>3.37</td><td>11643</td></tr>",
                            "<tr><td>Carson McCullers</td><td>The Heart is a Lonely Hunter</td><td>3.97</td><td>11643</td></tr>",
                            "<tr><td>Alison Bechdel</td><td>Fun Home: A Family Tragicomic</td><td>4.12</td><td>11643</td></tr>",
                            "<tr><td>Lynne Reid Banks</td><td>The Indian in the Cupboard (The Indian in the Cupboard, #1)</td><td>3.89</td><td>11643</td></tr>",
                            "<tr><td>Jessie Burton</td><td>The Miniaturist</td><td>3.58</td><td>11643</td></tr>",
                            "<tr><td>Margaret Atwood</td><td>The Year of the Flood  (MaddAddam, #2)</td><td>4.05</td><td>11643</td></tr>",
                            "<tr><td>Agatha Christie</td><td>The Murder of Roger Ackroyd (Hercule Poirot, #4)</td><td>4.2</td><td>11643</td></tr>",
                            "<tr><td>Lauren Weisberger</td><td>Chasing Harry Winston</td><td>3.32</td><td>11643</td></tr>",
                            "<tr><td>Lauren Weisberger</td><td>Everyone Worth Knowing</td><td>3.39</td><td>11643</td></tr>",
                            "<tr><td>Karen Thompson Walker</td><td>The Age of Miracles</td><td>3.64</td><td>11643</td></tr>",
                            "<tr><td>Helen Fielding</td><td>Bridget Jones: The Edge of Reason (Bridget Jones, #2)</td><td>3.53</td><td>11643</td></tr>",
                            "<tr><td>Marjane Satrapi, Mattias Ripa, Blake Ferris, Anjali Singh</td><td>The Complete Persepolis</td><td>4.36</td><td>11643</td></tr>",
                            "<tr><td>Helene Wecker</td><td>The Golem and the Jinni (The Golem and the Jinni, #1)</td><td>4.1</td><td>11643</td></tr>",
                            "<tr><td>Tamora Pierce</td><td>Alanna: The First Adventure (Song of the Lioness, #1)</td><td>4.27</td><td>11643</td></tr>",
                            "<tr><td>Audrey Niffenegger</td><td>Her Fearful Symmetry</td><td>3.23</td><td>11643</td></tr>",
                            "<tr><td>Jung Chang</td><td>Wild Swans: Three Daughters of China</td><td>4.23</td><td>11643</td></tr>",
                            "<tr><td>Laura Ingalls Wilder, Garth Williams</td><td>On the Banks of Plum Creek  (Little House, #4)</td><td>4.19</td><td>11643</td></tr>",
                            "<tr><td>Mary Norton, Beth Krush, Joe Krush</td><td>The Borrowers (The Borrowers, #1)</td><td>4.02</td><td>11643</td></tr>",
                            "<tr><td>Ruth Ware</td><td>In a Dark, Dark Wood</td><td>3.65</td><td>11643</td></tr>",
                            "<tr><td>Edith Wharton, Nina Bawden</td><td>The House of Mirth</td><td>3.94</td><td>11643</td></tr>",
                            "<tr><td>Madeleine L'Engle</td><td>A Swiftly Tilting Planet (A Wrinkle in Time Quintet, #3)</td><td>4.13</td><td>11643</td></tr>",
                            "<tr><td>P.D. James</td><td>Death Comes to Pemberley</td><td>3.21</td><td>11643</td></tr>",
                            "<tr><td>Edith Wharton</td><td>Ethan Frome</td><td>3.35</td><td>11643</td></tr>",
                            "<tr><td>Ursula K. Le Guin, Lech Jęczmyk</td><td>The Left Hand of Darkness</td><td>4.05</td><td>11643</td></tr>",
                            "<tr><td>Ursula K. Le Guin</td><td>The Farthest Shore (Earthsea Cycle, #3)</td><td>4.11</td><td>11643</td></tr>",
                            "<tr><td>Ursula K. Le Guin</td><td>The Tombs of Atuan (Earthsea Cycle, #2)</td><td>4.07</td><td>11643</td></tr>",
                            "<tr><td>Toni Morrison</td><td>Song of Solomon</td><td>4.01</td><td>11643</td></tr>",
                            "<tr><td>Maeve Binchy</td><td>Tara Road</td><td>3.88</td><td>11643</td></tr>",
                            "<tr><td>Virginia Woolf</td><td>A Room of One's Own</td><td>4.1</td><td>11643</td></tr>",
                            "<tr><td>Elizabeth Strout, Goran Skrobonja</td><td>My Name Is Lucy Barton</td><td>3.51</td><td>11643</td></tr>",
                            "<tr><td>Ruth Ozeki</td><td>A Tale for the Time Being</td><td>3.98</td><td>11643</td></tr>",
                            "<tr><td>Louise Fitzhugh</td><td>Harriet the Spy (Harriet the Spy #1)</td><td>3.96</td><td>11643</td></tr>",
                            "<tr><td>Sarah Waters</td><td>The Paying Guests</td><td>3.39</td><td>11643</td></tr>",
                            "<tr><td>Naomi Novik</td><td>Uprooted</td><td>4.13</td><td>11643</td></tr>",
                            "<tr><td>Agatha Christie</td><td>The Man in the Brown Suit</td><td>3.97</td><td>11643</td></tr>",
                            "<tr><td>Agatha Christie</td><td>Death on the Nile (Hercule Poirot, #17)</td><td>4.06</td><td>11643</td></tr>",
                            "<tr><td>Barbara Kingsolver</td><td>Animal Dreams</td><td>4.05</td><td>11643</td></tr>",
                            "<tr><td>Anne Brontë, Stevie Davies</td><td>The Tenant of Wildfell Hall</td><td>3.91</td><td>11643</td></tr>",
                            "<tr><td>Charlotte Perkins Gilman</td><td>The Yellow Wallpaper and Other Stories</td><td>4.02</td><td>11643</td></tr>",
                            "<tr><td>B.A. Shapiro</td><td>The Art Forger</td><td>3.69</td><td>11643</td></tr>",
                            "<tr><td>Chimamanda Ngozi Adichie</td><td>Half of a Yellow Sun</td><td>4.28</td><td>11643</td></tr>",
                            "<tr><td>Marilynne Robinson</td><td>Gilead (Gilead, #1)</td><td>3.84</td><td>11643</td></tr>",
                            "<tr><td>Jenny  Lawson</td><td>Furiously Happy: A Funny Book About Horrible Things</td><td>3.93</td><td>11643</td></tr>",
                            "<tr><td>Curtis Sittenfeld</td><td>Prep</td><td>3.36</td><td>11643</td></tr>",
                            "<tr><td>Margaret Atwood, Brigitte Walitzek</td><td>Alias Grace</td><td>3.97</td><td>11643</td></tr>",
                            "<tr><td>Gail Carriger</td><td>Soulless (Parasol Protectorate, #1)</td><td>3.91</td><td>11643</td></tr>",
                            "<tr><td>Tamora Pierce</td><td>In the Hand of the Goddess (Song of the Lioness, #2)</td><td>4.25</td><td>11643</td></tr>",
                            "<tr><td>Tamora Pierce</td><td>Lioness Rampant (Song of the Lioness, #4)</td><td>4.28</td><td>11643</td></tr>",
                            "<tr><td>Emma Straub</td><td>The Vacationers</td><td>3.14</td><td>11643</td></tr>",
                            "<tr><td>Patricia C. Wrede, Peter de Sève</td><td>Dealing with Dragons (Enchanted Forest Chronicles, #1)</td><td>4.14</td><td>11643</td></tr>",
                            "<tr><td>Anne Fadiman</td><td>The Spirit Catches You and You Fall Down: A Hmong Child, Her American Doctors, and the Collision of Two Cultures</td><td>4.14</td><td>11643</td></tr>",
                            "<tr><td>Kate Atkinson</td><td>Case Histories (Jackson Brodie #1)</td><td>3.82</td><td>11643</td></tr>",
                            "<tr><td>Eleanor H. Porter</td><td>Pollyanna (Pollyanna, #1)</td><td>3.95</td><td>11643</td></tr>",
                            "<tr><td>Tana French</td><td>Faithful Place (Dublin Murder Squad, #3)</td><td>3.97</td><td>11643</td></tr>",
                            "<tr><td>Lily King</td><td>Euphoria</td><td>3.84</td><td>11643</td></tr>",
                            "<tr><td>Marian Keyes</td><td>Rachel's Holiday (Walsh Family, #2)</td><td>3.93</td><td>11643</td></tr>",
                            "<tr><td>Eleanor Catton</td><td>The Luminaries</td><td>3.7</td><td>11643</td></tr>",
                            "<tr><td>Zadie Smith</td><td>On Beauty</td><td>3.68</td><td>11643</td></tr>",
                            "<tr><td>Marisha Pessl</td><td>Night Film</td><td>3.78</td><td>11643</td></tr>",
                            "<tr><td>Shirley Jackson, Laura   Miller</td><td>The Haunting of Hill House</td><td>3.89</td><td>11643</td></tr>",
                            "<tr><td>Laura Ingalls Wilder, Garth Williams</td><td>Little Town on the Prairie  (Little House, #7)</td><td>4.18</td><td>11643</td></tr>",
                            "<tr><td>Dodie Smith</td><td>I Capture the Castle</td><td>4</td><td>11643</td></tr>",
                            "<tr><td>Robin Hobb</td><td>Fool's Errand (Tawny Man, #1)</td><td>4.29</td><td>11643</td></tr>",
                            "<tr><td>A.S. Byatt</td><td>Possession</td><td>3.88</td><td>11643</td></tr>",
                            "<tr><td>Mary Karr</td><td>The Liars' Club</td><td>3.92</td><td>11643</td></tr>",
                            "<tr><td>Hilary Mantel</td><td>Bring Up the Bodies (Thomas Cromwell, #2)</td><td>4.26</td><td>11643</td></tr>",
                            "<tr><td>Patricia Cornwell</td><td>Point of Origin (Kay Scarpetta, #9)</td><td>4.02</td><td>11643</td></tr>",
                            "<tr><td>Ann Patchett</td><td>Commonwealth</td><td>3.84</td><td>11643</td></tr>",
                            "<tr><td>Jean M. Auel</td><td>The Valley of Horses (Earth's Children, #2)</td><td>3.98</td><td>11643</td></tr>",
                            "<tr><td>Katherine Dunn</td><td>Geek Love</td><td>3.98</td><td>11643</td></tr>",
                            "<tr><td>Hannah Kent</td><td>Burial Rites</td><td>4.01</td><td>11643</td></tr>",
                            "<tr><td>Sarah Waters</td><td>Fingersmith</td><td>4.02</td><td>11643</td></tr>",
                            "<tr><td>Patricia Cornwell</td><td>The Body Farm (Kay Scarpetta, #5)</td><td>4.04</td><td>11643</td></tr>",
                            "<tr><td>Elizabeth Gilbert</td><td>Big Magic: Creative Living Beyond Fear</td><td>3.9</td><td>11643</td></tr>",
                            "<tr><td>Barbara Kingsolver</td><td>The Lacuna</td><td>3.76</td><td>11643</td></tr>",
                            "<tr><td>Laurell K. Hamilton</td><td>The Laughing Corpse (Anita Blake, Vampire Hunter, #2)</td><td>4.11</td><td>11643</td></tr>",
                            "<tr><td>J.K. Rowling, Mary GrandPré</td><td>The Harry Potter Collection 1-4 (Harry Potter, #1-4)</td><td>4.66</td><td>11643</td></tr>",
                            "<tr><td>V.E. Schwab, Victoria Schwab</td><td>A Darker Shade of Magic (Shades of Magic, #1)</td><td>4.07</td><td>11643</td></tr>",
                            "<tr><td>Trudi Canavan</td><td>The Magicians' Guild (Black Magician Trilogy, #1)</td><td>3.96</td><td>11643</td></tr>",
                            "<tr><td>Jane Smiley</td><td>A Thousand Acres</td><td>3.79</td><td>11643</td></tr>",
                            "<tr><td>Karen Joy Fowler</td><td>The Jane Austen Book Club</td><td>3.07</td><td>11643</td></tr>",
                            "<tr><td>Sarah Waters</td><td>Tipping the Velvet</td><td>4</td><td>11643</td></tr>",
                            "<tr><td>Patricia Cornwell</td><td>Body of Evidence (Kay Scarpetta, #2)</td><td>4</td><td>11643</td></tr>",
                            "<tr><td>Charlotte Perkins Gilman, Elaine Hedges</td><td>The Yellow Wall-Paper</td><td>4.11</td><td>11643</td></tr>",
                            "<tr><td>Gillian Flynn</td><td>The Grownup</td><td>3.54</td><td>11643</td></tr>",
                            "<tr><td>Barbara Kingsolver</td><td>Pigs in Heaven</td><td>3.97</td><td>11643</td></tr>",
                            "<tr><td>Shirley Jackson</td><td>The Lottery and Other Stories</td><td>4.06</td><td>11643</td></tr>",
                            "<tr><td>Tana French</td><td>Broken Harbour (Dublin Murder Squad, #4)</td><td>3.92</td><td>11643</td></tr>",
                            "<tr><td>Ursula K. Le Guin</td><td>The Dispossessed</td><td>4.18</td><td>11643</td></tr>",
                            "<tr><td>Ann Leckie</td><td>Ancillary Justice (Imperial Radch #1)</td><td>3.97</td><td>11643</td></tr>",
                            "<tr><td>Margaret Weis, Tracy Hickman</td><td>Dragons of Spring Dawning (Dragonlance: Chronicles, #3)</td><td>4.12</td><td>11643</td></tr>",
                            "<tr><td>Lorraine Hansberry</td><td>A Raisin in the Sun</td><td>3.72</td><td>11643</td></tr>",
                            "<tr><td>Jacqueline Carey</td><td>Kushiel's Dart (Phèdre's Trilogy, #1)</td><td>4.04</td><td>11643</td></tr>",
                            "<tr><td>Meg Cabot</td><td>All-American Girl (All-American Girl, #1)</td><td>3.73</td><td>11643</td></tr>",
                            "<tr><td>Robin McKinley</td><td>Beauty: A Retelling of the Story of Beauty and the Beast</td><td>4.05</td><td>11643</td></tr>",
                            "<tr><td>Dava Sobel, Neil Armstrong</td><td>Longitude: The True Story of a Lone Genius Who Solved the Greatest Scientific Problem of His Time</td><td>3.95</td><td>11643</td></tr>",
                            "<tr><td>Patricia Cornwell</td><td>Unnatural Exposure (Kay Scarpetta, #8)</td><td>4.05</td><td>11643</td></tr>",
                            "<tr><td>Robin Hobb</td><td>Fool's Fate (Tawny Man, #3)</td><td>4.38</td><td>11643</td></tr>",
                            "<tr><td>Laura Ingalls Wilder, Garth Williams</td><td>By the Shores of Silver Lake  (Little House, #5)</td><td>4.16</td><td>11643</td></tr>",
                            "<tr><td>Madeline Miller</td><td>The Song of Achilles</td><td>4.27</td><td>11643</td></tr>",
                            "<tr><td>Amy Schumer</td><td>The Girl with the Lower Back Tattoo</td><td>3.76</td><td>11643</td></tr>",
                            "<tr><td>Candace Bushnell</td><td>Sex and the City</td><td>3.37</td><td>11643</td></tr>",
                            "<tr><td>Patricia Cornwell</td><td>All That Remains (Kay Scarpetta, #3)</td><td>4.05</td><td>11643</td></tr>",
                            "<tr><td>Robin Hobb</td><td>Golden Fool (Tawny Man, #2)</td><td>4.32</td><td>11643</td></tr>",
                            "<tr><td>Marjane Satrapi</td><td>Persepolis, Volume 1</td><td>4.27</td><td>11643</td></tr>",
                            "<tr><td>Laurie R. King</td><td>The Beekeeper's Apprentice (Mary Russell, #1)</td><td>4.08</td><td>11643</td></tr>",
                            "<tr><td>Marjane Satrapi, Anjali Singh</td><td>Persepolis 2: The Story of a Return (Persepolis, #2)</td><td>4.23</td><td>11643</td></tr>",
                            "<tr><td>Elizabeth Gilbert</td><td>Committed: A Skeptic Makes Peace with Marriage</td><td>3.39</td><td>11643</td></tr>",
                            "<tr><td>Else Holmelund Minarik, Maurice Sendak</td><td>Little Bear</td><td>4.22</td><td>11643</td></tr>",
                            "<tr><td>Naomi Novik</td><td>His Majesty's Dragon (Temeraire, #1)</td><td>4.05</td><td>11643</td></tr>",
                            "<tr><td>Karen Russell</td><td>Swamplandia!</td><td>3.21</td><td>11643</td></tr>",
                            "<tr><td>Charlotte Brontë, A.S. Byatt, Μαρία Λαϊνά, Ignes Sodre</td><td>Villette</td><td>3.75</td><td>11643</td></tr>",
                            "<tr><td>Toni Morrison</td><td>Sula</td><td>3.86</td><td>11643</td></tr>",
                            "<tr><td>Sapphire</td><td>Push</td><td>3.82</td><td>11643</td></tr>",
                            "<tr><td>Elena Ferrante, Ann Goldstein</td><td>The Story of a New Name (The Neapolitan Novels #2)</td><td>4.37</td><td>11643</td></tr>",
                            "<tr><td>Octavia E. Butler</td><td>Kindred</td><td>4.18</td><td>11643</td></tr>",
                            "<tr><td>Laura Ingalls Wilder, Garth Williams</td><td>The Long Winter (Little House, #6)</td><td>4.16</td><td>11643</td></tr>",
                            "<tr><td>Margaret Atwood</td><td>Cat's Eye</td><td>3.92</td><td>11643</td></tr>",
                            "<tr><td>Margaret Atwood</td><td>MaddAddam (MaddAddam, #3)</td><td>3.98</td><td>11643</td></tr>",
                            "<tr><td>Laura Ingalls Wilder, Garth Williams</td><td>These Happy Golden Years (Little House, #8)</td><td>4.17</td><td>11643</td></tr>",
                            "<tr><td>Cheryl Strayed</td><td>Tiny Beautiful Things: Advice on Love and Life from Dear Sugar</td><td>4.29</td><td>11643</td></tr>",
                            "<tr><td>Ann Rule</td><td>The Stranger Beside Me: Ted Bundy The Shocking Inside Story</td><td>4.13</td><td>11643</td></tr>",
                            "<tr><td>Tamora Pierce</td><td>The Woman Who Rides Like a Man (Song of the Lioness, #3)</td><td>4.2</td><td>11643</td></tr>",
                            "<tr><td>Marian Keyes</td><td>Lucy Sullivan Is Getting Married</td><td>3.74</td><td>11643</td></tr>",
                            "<tr><td>Chimamanda Ngozi Adichie</td><td>We Should All Be Feminists</td><td>4.47</td><td>11643</td></tr>",
                            "<tr><td>Amy Sedaris</td><td>I Like You: Hospitality Under the Influence</td><td>3.87</td><td>11643</td></tr>",
                            "<tr><td>Anne Lamott</td><td>Traveling Mercies: Some Thoughts on Faith</td><td>4.15</td><td>11643</td></tr>",
                            "<tr><td>Tamora Pierce</td><td>Wild Magic (Immortals, #1)</td><td>4.32</td><td>11643</td></tr>",
                            "<tr><td>Curtis Sittenfeld</td><td>American Wife</td><td>3.72</td><td>11643</td></tr>",
                            "<tr><td>Mary Doria Russell</td><td>The Sparrow (The Sparrow, #1)</td><td>4.17</td><td>11643</td></tr>",
                            "<tr><td>Shirley Jackson, Jonathan Lethem</td><td>We Have Always Lived in the Castle</td><td>4.05</td><td>11643</td></tr>",
                            "<tr><td>Gail Carson Levine</td><td>The Two Princesses of Bamarre</td><td>4.02</td><td>11643</td></tr>",
                            "<tr><td>Helen Macdonald</td><td>H is for Hawk</td><td>3.74</td><td>11643</td></tr>",
                            "<tr><td>Mary Roach</td><td>Bonk: The Curious Coupling of Science and Sex</td><td>3.83</td><td>11643</td></tr>",
                            "<tr><td>Robin Hobb</td><td>Ship of Magic (Liveship Traders, #1)</td><td>4.12</td><td>11643</td></tr>",
                            "<tr><td>Rupi Kaur</td><td>Milk and Honey</td><td>4.27</td><td>11643</td></tr>",
                            "<tr><td>Jennifer Weiner</td><td>Then Came You</td><td>3.69</td><td>11643</td></tr>",
                            "<tr><td>Bev Vincent</td><td>The Road to the Dark Tower: Exploring Stephen King's Magnum Opus</td><td>4.29</td><td>11643</td></tr>",
                            "<tr><td>N.H. Kleinbaum</td><td>Dead Poets Society</td><td>4.21</td><td>11643</td></tr>",
                            "<tr><td>Karen Armstrong</td><td>A History of God: The 4,000-Year Quest of Judaism, Christianity, and Islam</td><td>3.85</td><td>11643</td></tr>",
                            "<tr><td>Aimee Bender</td><td>The Particular Sadness of Lemon Cake</td><td>3.19</td><td>11643</td></tr>",
                            "<tr><td>Roxane Gay</td><td>Bad Feminist</td><td>3.91</td><td>11643</td></tr>",
                            "<tr><td>V.C. Andrews</td><td>Petals on the Wind (Dollanganger, #2)</td><td>3.82</td><td>11643</td></tr>",
                            "<tr><td>Noelle Stevenson</td><td>Nimona</td><td>4.2</td><td>11643</td></tr>",
                            "<tr><td>Patricia Cornwell</td><td>From Potter's Field (Kay Scarpetta, #6)</td><td>4.02</td><td>11643</td></tr>",
                            "<tr><td>Jeanette Winterson</td><td>Oranges Are Not the Only Fruit</td><td>3.75</td><td>11643</td></tr>",
                            "<tr><td>Sena Jeter Naslund</td><td>Ahab's Wife, or The Star-Gazer</td><td>4.02</td><td>11643</td></tr>",
                            "<tr><td>Therese Anne Fowler</td><td>Z: A Novel of Zelda Fitzgerald</td><td>3.82</td><td>11643</td></tr>",
                            "<tr><td>Tamora Pierce</td><td>Emperor Mage (Immortals, #3)</td><td>4.3</td><td>11643</td></tr>",
                            "<tr><td>Helen Fielding</td><td>Mad About the Boy (Bridget Jones, #3)</td><td>3.32</td><td>11643</td></tr>",
                            "<tr><td>Tamora Pierce</td><td>Terrier (Beka Cooper, #1)</td><td>4.16</td><td>11643</td></tr>",
                            "<tr><td>Amanda Lindhout, Sara Corbett</td><td>A House in the Sky</td><td>4.2</td><td>11643</td></tr>",
                            "<tr><td>Vera Brosgol</td><td>Anya's Ghost</td><td>3.88</td><td>11643</td></tr>",
                            "<tr><td>Jean Rhys</td><td>Wide Sargasso Sea</td><td>3.56</td><td>11643</td></tr>",
                            "<tr><td>Mira Grant</td><td>Feed (Newsflesh Trilogy, #1)</td><td>3.86</td><td>11643</td></tr>",
                            "<tr><td>L.M. Montgomery</td><td>Anne's House of Dreams (Anne of Green Gables, #5)</td><td>4.12</td><td>11643</td></tr>",
                            "<tr><td>Isabel Wilkerson</td><td>The Warmth of Other Suns: The Epic Story of America's Great Migration</td><td>4.31</td><td>11643</td></tr>",
                            "<tr><td>Claire North</td><td>The First Fifteen Lives of Harry August</td><td>4.04</td><td>11643</td></tr>",
                            "<tr><td>Barbara W. Tuchman, Robert K. Massie</td><td>The Guns of August</td><td>4.18</td><td>11643</td></tr>",
                            "<tr><td>Yaa Gyasi</td><td>Homegoing</td><td>4.41</td><td>11643</td></tr>",
                            "<tr><td>Mary Roach</td><td>Packing for Mars: The Curious Science of Life in the Void</td><td>3.93</td><td>11643</td></tr>",
                            "<tr><td>Elizabeth Peters</td><td>Crocodile on the Sandbank (Amelia Peabody #1)</td><td>4.02</td><td>11643</td></tr>",
                            "<tr><td>Virginia Lee Burton</td><td>Mike Mulligan and His Steam Shovel</td><td>4.2</td><td>11643</td></tr>",
                            "<tr><td>Tana French</td><td>The Secret Place (Dublin Murder Squad, #5)</td><td>3.83</td><td>11643</td></tr>",
                            "<tr><td>Sarah Vowell</td><td>Assassination Vacation</td><td>3.98</td><td>11643</td></tr>",
                            "<tr><td>Marisha Pessl</td><td>Special Topics in Calamity Physics</td><td>3.7</td><td>11643</td></tr>",
                            "<tr><td>Sylvia Plath</td><td>Ariel</td><td>4.23</td><td>11643</td></tr>",
                            "<tr><td>Suzanne Collins</td><td>Gregor and the Code of Claw (Underland Chronicles, #5)</td><td>4.25</td><td>11643</td></tr>",
                            "<tr><td>Eleanor Brown</td><td>The Weird Sisters</td><td>3.36</td><td>11643</td></tr>",
                            "<tr><td>Margaret Weis, Tracy Hickman</td><td>Dragons of Winter Night (Dragonlance: Chronicles, #2)</td><td>4.13</td><td>11643</td></tr>",
                            "<tr><td>George Eliot, A.S. Byatt</td><td>The Mill on the Floss</td><td>3.77</td><td>11643</td></tr>",
                            "<tr><td>Robin McKinley</td><td>The Blue Sword (Damar, #1)</td><td>4.24</td><td>11643</td></tr>",
                            "<tr><td>Tamora Pierce</td><td>Trickster's Queen (Daughter of the Lioness, #2)</td><td>4.28</td><td>11643</td></tr>",
                            "<tr><td>Åsne Seierstad, Ingrid Christopherson</td><td>The Bookseller of Kabul</td><td>3.76</td><td>11643</td></tr>",
                            "<tr><td>Kathy Reichs</td><td>Fatal Voyage (Temperance Brennan, #4)</td><td>4.04</td><td>11643</td></tr>",
                            "<tr><td>Alison Goodman</td><td>Eon: Dragoneye Reborn (Eon, #1)</td><td>3.98</td><td>11643</td></tr>",
                            "<tr><td>Carolyn Keene, Russell H. Tandy, Sara Paretsky</td><td>The Secret of the Old Clock (Nancy Drew, #1)</td><td>3.98</td><td>11643</td></tr>",
                            "<tr><td>Shirley Jackson</td><td>The Lottery</td><td>4.09</td><td>11643</td></tr>",
                            "<tr><td>Robin McKinley</td><td>The Hero and the Crown (Damar, #2)</td><td>4.21</td><td>11643</td></tr>",
                            "<tr><td>Catherine Marshall</td><td>Christy</td><td>4.2</td><td>11643</td></tr>",
                            "<tr><td>Susan Cooper</td><td>The Dark Is Rising (The Dark is Rising, #2)</td><td>4.07</td><td>11643</td></tr>",
                            "<tr><td>Jacqueline Susann</td><td>Valley of the Dolls</td><td>3.7</td><td>11643</td></tr>",
                            "<tr><td>Patricia Cornwell</td><td>Cause of Death (Kay Scarpetta, #7)</td><td>3.93</td><td>11643</td></tr>",
                            "<tr><td>Trudi Canavan</td><td>The High Lord (Black Magician Trilogy, #3)</td><td>4.15</td><td>11643</td></tr>",
                            "<tr><td>L.M. Montgomery</td><td>Anne of Windy Poplars (Anne of Green Gables, #4)</td><td>4.04</td><td>11643</td></tr>",
                            "<tr><td>Lisa Genova</td><td>Inside the O'Briens</td><td>3.98</td><td>11643</td></tr>",
                            "<tr><td>Tamora Pierce</td><td>The Realms of the Gods (Immortals, #4)</td><td>4.32</td><td>11643</td></tr>",
                            "<tr><td>Chimamanda Ngozi Adichie</td><td>Purple Hibiscus</td><td>4.11</td><td>11643</td></tr>",
                            "<tr><td>Miranda July</td><td>No One Belongs Here More Than You</td><td>3.81</td><td>11643</td></tr>",
                            "<tr><td>Curtis Sittenfeld</td><td>Sisterland</td><td>3.35</td><td>11643</td></tr>",
                            "<tr><td>Virginia Woolf</td><td>Orlando</td><td>3.86</td><td>11643</td></tr>",
                            "<tr><td>Anne Brontë, Angeline Goreau</td><td>Agnes Grey</td><td>3.65</td><td>11643</td></tr>",
                            "<tr><td>Donna Tartt</td><td>The Little Friend</td><td>3.43</td><td>11643</td></tr>",
                            "<tr><td>Agatha Christie</td><td>The Body in the Library (Miss Marple, #3)</td><td>3.85</td><td>11643</td></tr>",
                            "<tr><td>Laura Ingalls Wilder, Garth Williams</td><td>Farmer Boy (Little House, #3)</td><td>4.05</td><td>11643</td></tr>",
                            "<tr><td>Dorothy Allison</td><td>Bastard Out of Carolina</td><td>4.09</td><td>11643</td></tr>",
                            "<tr><td>Libba Bray</td><td>Beauty Queens</td><td>3.6</td><td>11643</td></tr>",
                            "<tr><td>Joy Adamson</td><td>Born Free: A Lioness of Two Worlds (Story of Elsa, #1)</td><td>4.17</td><td>11643</td></tr>",
                            "<tr><td>Tamora Pierce</td><td>Trickster's Choice (Daughter of the Lioness, #1)</td><td>4.27</td><td>11643</td></tr>",
                            "<tr><td>Claire Messud</td><td>The Woman Upstairs</td><td>3.31</td><td>11643</td></tr>",
                            "<tr><td>Patricia Highsmith</td><td>The Talented Mr. Ripley (Ripley, #1)</td><td>3.93</td><td>11643</td></tr>",
                            "<tr><td>Lauren Beukes</td><td>The Shining Girls</td><td>3.49</td><td>11643</td></tr>",
                            "<tr><td>Robin Hobb</td><td>The Mad Ship (Liveship Traders, #2)</td><td>4.21</td><td>11643</td></tr>",
                            "<tr><td>Elena Ferrante, Ann Goldstein</td><td>Those Who Leave and Those Who Stay (The Neapolitan Novels #3)</td><td>4.29</td><td>11643</td></tr>",
                            "<tr><td>Trudi Canavan</td><td>The Novice (Black Magician Trilogy, #2)</td><td>4.07</td><td>11643</td></tr>",
                            "<tr><td>Robin Hobb</td><td>Ship of Destiny (Liveship Traders, #3)</td><td>4.21</td><td>11643</td></tr>",
                            "<tr><td>Juliet Marillier</td><td>Daughter of the Forest  (Sevenwaters, #1)</td><td>4.28</td><td>11643</td></tr>",
                            "<tr><td>Amy Tan</td><td>The Hundred Secret Senses</td><td>3.98</td><td>11643</td></tr>",
                            "<tr><td>Tracy Chevalier</td><td>The Lady and the Unicorn</td><td>3.67</td><td>11643</td></tr>",
                            "<tr><td>Margaret Atwood</td><td>The Heart Goes Last</td><td>3.37</td><td>11643</td></tr>",
                            "<tr><td>Elizabeth Gaskell, Pam Morris</td><td>Wives and Daughters</td><td>4.07</td><td>11643</td></tr>",
                            "<tr><td>Virginia Lee Burton</td><td>The Little House</td><td>4.29</td><td>11643</td></tr>",
                            "<tr><td>Susan Vreeland</td><td>Girl in Hyacinth Blue</td><td>3.72</td><td>11643</td></tr>",
                            "<tr><td>Emily Carroll</td><td>Through the Woods</td><td>3.92</td><td>11643</td></tr>",
                            "<tr><td>Ayana Mathis</td><td>The Twelve Tribes of Hattie</td><td>3.46</td><td>11643</td></tr>",
                            "<tr><td>Carol Ryrie Brink</td><td>Caddie Woodlawn  (Caddie Woodlawn #1)</td><td>3.99</td><td>11643</td></tr>",
                            "<tr><td>Ursula K. Le Guin</td><td>The Lathe of Heaven</td><td>4.09</td><td>11643</td></tr>",
                            "<tr><td>Anne McCaffrey</td><td>Dragonsong (Harper Hall, #1)</td><td>4.24</td><td>11643</td></tr>",
                            "<tr><td>Harriet Jacobs</td><td>Incidents in the Life of a Slave Girl</td><td>4.08</td><td>11643</td></tr>",
                            "<tr><td>Julie Otsuka</td><td>The Buddha in the Attic</td><td>3.59</td><td>11643</td></tr>",
                            "<tr><td>Marina Keegan</td><td>The Opposite of Loneliness: Essays and Stories</td><td>3.82</td><td>11643</td></tr>",
                            "<tr><td>G. Willow Wilson, Adrian Alphona</td><td>Ms. Marvel, Vol. 1: No Normal</td><td>4.13</td><td>11643</td></tr>",
                            "<tr><td>Megan Whalen Turner</td><td>The Thief (The Queen's Thief, #1)</td><td>3.92</td><td>11643</td></tr>",
                            "<tr><td>Sarah Winman</td><td>When God Was a Rabbit</td><td>3.67</td><td>11643</td></tr>",
                            "<tr><td>E. Nesbit</td><td>The Railway Children</td><td>3.99</td><td>11643</td></tr>",
                            "<tr><td>Flannery O'Connor</td><td>The Complete Stories</td><td>4.44</td><td>11643</td></tr>",
                            "<tr><td>Han Kang, Deborah     Smith</td><td>The Vegetarian</td><td>3.59</td><td>11643</td></tr>",
                            "<tr><td>Connie Willis</td><td>Doomsday Book (Oxford Time Travel, #1)</td><td>4.03</td><td>11643</td></tr>",
                            "<tr><td>Tamora Pierce</td><td>First Test (Protector of the Small, #1)</td><td>4.24</td><td>11643</td></tr>",
                            "<tr><td>Sue Townsend</td><td>The Secret Diary of Adrian Mole, Aged 13 3/4  (Adrian Mole, #1)</td><td>3.85</td><td>11643</td></tr>",
                            "<tr><td>Tamora Pierce</td><td>Lady Knight (Protector of the Small, #4)</td><td>4.3</td><td>11643</td></tr>",
                            "<tr><td>Mary Roach</td><td>Gulp: Adventures on the Alimentary Canal</td><td>3.92</td><td>11643</td></tr>",
                            "<tr><td>Ruth Reichl</td><td>Tender at the Bone: Growing Up at the Table</td><td>4.05</td><td>11643</td></tr>",
                            "<tr><td>P.D. James</td><td>The Children of Men</td><td>3.69</td><td>11643</td></tr>",
                            "<tr><td>Sloane Crosley</td><td>I Was Told There'd Be Cake</td><td>3.45</td><td>11643</td></tr>",
                            "<tr><td>Antonia Fraser</td><td>Marie Antoinette: The Journey</td><td>3.91</td><td>11643</td></tr>",
                            "<tr><td>Michelle Magorian</td><td>Good Night, Mr. Tom</td><td>4.28</td><td>11643</td></tr>",
                            "<tr><td>Marguerite Henry, Wesley Dennis</td><td>Misty of Chincoteague (Misty, #1)</td><td>4.04</td><td>11643</td></tr>",
                            "<tr><td>Nora Ephron</td><td>I Feel Bad about My Neck: And Other Thoughts on Being a Woman</td><td>3.65</td><td>11643</td></tr>",
                            "<tr><td>Louisa May Alcott</td><td>Little Men (Little Women, #2)</td><td>3.84</td><td>11643</td></tr>",
                            "<tr><td>Willa Cather</td><td>O Pioneers!</td><td>3.84</td><td>11643</td></tr>",
                            "<tr><td>Naomi Klein</td><td>The Shock Doctrine: The Rise of Disaster Capitalism</td><td>4.22</td><td>11643</td></tr>",
                            "<tr><td>Shannon Hale, James Noel Smith</td><td>Book of a Thousand Days</td><td>3.95</td><td>11643</td></tr>",
                            "<tr><td>Edith Hamilton, Steele Savage</td><td>Mythology: Timeless Tales of Gods and Heroes</td><td>3.98</td><td>11643</td></tr>",
                            "<tr><td>Ree Drummond</td><td>The Pioneer Woman Cooks: Recipes from an Accidental Country Girl</td><td>4.18</td><td>11643</td></tr>",
                            "<tr><td>Carrie Fisher</td><td>Wishful Drinking</td><td>3.71</td><td>11643</td></tr>",
                            "<tr><td>Marilynne Robinson</td><td>Housekeeping</td><td>3.82</td><td>11643</td></tr>",
                            "<tr><td>Tamora Pierce</td><td>Wolf-Speaker (Immortals, #2)</td><td>4.21</td><td>11643</td></tr>",
                            "<tr><td>Plum Sykes</td><td>Bergdorf Blondes</td><td>3.26</td><td>11643</td></tr>",
                            "<tr><td>Tamora Pierce</td><td>Squire (Protector of the Small, #3)</td><td>4.27</td><td>11643</td></tr>",
                            "<tr><td>Banana Yoshimoto, Megan Backus</td><td>Kitchen</td><td>3.83</td><td>11643</td></tr>",
                            "<tr><td>Elena Ferrante, Ann Goldstein</td><td>The Story of the Lost Child (The Neapolitan Novels, #4)</td><td>4.39</td><td>11643</td></tr>",
                            "<tr><td>Gabrielle Hamilton</td><td>Blood, Bones, and Butter: The Inadvertent Education of a Reluctant Chef</td><td>3.71</td><td>11643</td></tr>",
                            "<tr><td>Alice Hoffman</td><td>Practical Magic</td><td>3.8</td><td>11643</td></tr>",
                            "<tr><td>Susan Hill, John Lawrence</td><td>The Woman in Black</td><td>3.68</td><td>11643</td></tr>",
                            "<tr><td>Susan Sontag</td><td>On Photography</td><td>3.84</td><td>11643</td></tr>",
                            "<tr><td>Victoria Hislop</td><td>The Island</td><td>3.99</td><td>11643</td></tr>",
                            "<tr><td>Flannery O'Connor</td><td>A Good Man is Hard to Find and Other Stories</td><td>4.24</td><td>11643</td></tr>",
                            "<tr><td>Mary  Stewart</td><td>The Crystal Cave (Arthurian Saga, #1)</td><td>4.12</td><td>11643</td></tr>",
                            "<tr><td>Felicia Day, Joss Whedon</td><td>You're Never Weird on the Internet (Almost)</td><td>4.14</td><td>11643</td></tr>",
                            "<tr><td>Susan Cooper</td><td>Over Sea, Under Stone (The Dark Is Rising, #1)</td><td>3.85</td><td>11643</td></tr>",
                            "<tr><td>Anne McCaffrey</td><td>The White Dragon (Pern, #3)</td><td>4.17</td><td>11643</td></tr>",
                            "<tr><td>Margaret Atwood</td><td>The Robber Bride</td><td>3.82</td><td>11643</td></tr>",
                            "<tr><td>Patricia C. Wrede, Peter de Sève</td><td>Searching for Dragons (Enchanted Forest Chronicles, #2)</td><td>4.25</td><td>11643</td></tr>",
                            "<tr><td>Ntozake Shange</td><td>for colored girls who have considered suicide/when the rainbow is enuf</td><td>4.27</td><td>11643</td></tr>",
                            "<tr><td>Stella Gibbons, Lynne Truss, Roz Chast</td><td>Cold Comfort Farm</td><td>3.92</td><td>11643</td></tr>",
                            "<tr><td>L.M. Montgomery</td><td>Anne of Ingleside (Anne of Green Gables, #6)</td><td>4.05</td><td>11643</td></tr>",
                            "<tr><td>Mary Roach</td><td>Spook: Science Tackles the Afterlife</td><td>3.57</td><td>11643</td></tr>",
                            "<tr><td>Michelle Alexander</td><td>The New Jim Crow: Mass Incarceration in the Age of Colorblindness</td><td>4.49</td><td>11643</td></tr>",
                            "<tr><td>Cristina Henriquez</td><td>The Book of Unknown Americans</td><td>3.85</td><td>11643</td></tr>",
                            "<tr><td>Kate Atkinson</td><td>When Will There Be Good News? (Jackson Brodie, #3)</td><td>3.97</td><td>11643</td></tr>",
                            "<tr><td>Jenny Offill</td><td>Dept. of Speculation</td><td>3.72</td><td>11643</td></tr>",
                            "<tr><td>Anne McCaffrey</td><td>Dragonsinger (Harper Hall, #2)</td><td>4.26</td><td>11643</td></tr>",
                            "<tr><td>Rebecca Wells</td><td>Little Altars Everywhere</td><td>3.55</td><td>11643</td></tr>",
                            "<tr><td>Marian Keyes</td><td> Angels (Walsh Family, #3)</td><td>3.73</td><td>11643</td></tr>",
                            "<tr><td>Lolly Winston</td><td>Good Grief</td><td>3.72</td><td>11643</td></tr>",
                            "<tr><td>Candace Bushnell</td><td>Four Blondes</td><td>2.8</td><td>11643</td></tr>",
                            "<tr><td>Pam Adams</td><td>There Was An Old Lady Who Swallowed A Fly (Classic Books)</td><td>4.2</td><td>11643</td></tr>",
                            "<tr><td>L.M. Montgomery</td><td>Emily of New Moon (Emily, #1)</td><td>4.09</td><td>11643</td></tr>",
                            "<tr><td>Jacqueline Carey</td><td>Kushiel's Chosen (Phèdre's Trilogy, #2)</td><td>4.31</td><td>11643</td></tr>",
                            "<tr><td>Octavia E. Butler</td><td>Parable of the Sower (Earthseed, #1)</td><td>4.14</td><td>11643</td></tr>",
                            "<tr><td>Lisa Genova</td><td>Love Anthony</td><td>3.94</td><td>11643</td></tr>",
                            "<tr><td>Jean Webster</td><td>Daddy-Long-Legs (Daddy-Long-Legs, #1)</td><td>4.09</td><td>11643</td></tr>",
                            "<tr><td>Anne McCaffrey</td><td>Dragonquest (Pern, #2)</td><td>4.09</td><td>11643</td></tr>",
                            "<tr><td>Robin Hobb</td><td>Fool's Assassin (The Fitz and the Fool, #1)</td><td>4.35</td><td>11643</td></tr>",
                            "<tr><td>Stephenie Meyer</td><td>The Twilight Saga: The Official Illustrated Guide (Twilight, #4.5)</td><td>4.23</td><td>11643</td></tr>",
                            "<tr><td>Muriel Spark</td><td>The Prime of Miss Jean Brodie</td><td>3.76</td><td>11643</td></tr>",
                            "<tr><td>Mariko Tamaki, Jillian Tamaki</td><td>This One Summer</td><td>3.67</td><td>11643</td></tr>",
                            "<tr><td>Tana French</td><td>The Trespasser (Dublin Murder Squad #6)</td><td>3.98</td><td>11643</td></tr>",
                            "<tr><td>Elizabeth Kolbert</td><td>The Sixth Extinction: An Unnatural History</td><td>4.09</td><td>11643</td></tr>",
                            "<tr><td>Lian Hearn</td><td>Across the Nightingale Floor (Tales of the Otori, #1)</td><td>4.06</td><td>11643</td></tr>",
                            "<tr><td>Emma Donoghue</td><td>The Wonder</td><td>3.65</td><td>11643</td></tr>",
                            "<tr><td>Meg Rosoff</td><td>How I Live Now</td><td>3.58</td><td>11643</td></tr>",
                            "<tr><td>Maria Semple</td><td>Today Will Be Different</td><td>3.19</td><td>11643</td></tr>",
                            "<tr><td>Karen Cushman</td><td>Catherine, Called Birdy</td><td>3.7</td><td>11643</td></tr>",
                            "<tr><td>Tamora Pierce</td><td>Page (Protector of the Small, #2)</td><td>4.22</td><td>11643</td></tr>",
                            "<tr><td>N.K. Jemisin</td><td>The Hundred Thousand Kingdoms (Inheritance Trilogy, #1)</td><td>3.8</td><td>11643</td></tr>",
                            "<tr><td>Elizabeth Gaskell</td><td>Cranford</td><td>3.85</td><td>11643</td></tr>",
                            "<tr><td>Amanda Palmer</td><td>The Art of Asking; or, How I Learned to Stop Worrying and Let People Help</td><td>3.97</td><td>11643</td></tr>",
                            "<tr><td>Elizabeth  George</td><td>A Great Deliverance (Inspector Lynley, #1)</td><td>4.06</td><td>11643</td></tr>",
                            "<tr><td>Ann Patchett</td><td>The Magician's Assistant</td><td>3.64</td><td>11643</td></tr>",
                            "<tr><td>Mary O'Hara, Dave Blossom</td><td>My Friend Flicka (Flicka, #1)</td><td>4.15</td><td>11643</td></tr>",
                            "<tr><td>Caroline Myss</td><td>Anatomy of the Spirit: The Seven Stages of Power and Healing</td><td>4.12</td><td>11643</td></tr>",
                            "<tr><td>Nigella Lawson</td><td>How to Be a Domestic Goddess: Baking and the Art of Comfort Cooking</td><td>4</td><td>11643</td></tr>",
                            "<tr><td>Kate Douglas Wiggin</td><td>Rebecca of Sunnybrook Farm</td><td>3.85</td><td>11643</td></tr>",
                            "<tr><td>Dorothy L. Sayers</td><td>Whose Body?  (Lord Peter Wimsey, #1)</td><td>3.91</td><td>11643</td></tr>",
                            "<tr><td>Ayn Rand, Leonard Peikoff</td><td>We the Living</td><td>3.89</td><td>11643</td></tr>",
                            "<tr><td>Sarah Waters</td><td>The Little Stranger</td><td>3.51</td><td>11643</td></tr>",
                            "<tr><td>Anita Shreve</td><td>Fortune's Rocks</td><td>3.86</td><td>11643</td></tr>",
                            "<tr><td>Patricia Highsmith</td><td>The Price of Salt</td><td>3.93</td><td>11643</td></tr>",
                            "<tr><td>Zadie Smith</td><td>NW</td><td>3.41</td><td>11643</td></tr>",
                            "<tr><td>Ann Patchett</td><td>The Patron Saint of Liars</td><td>3.76</td><td>11643</td></tr>",
                            "<tr><td>V.E. Schwab, Victoria Schwab</td><td>A Gathering of Shadows (Shades of Magic, #2)</td><td>4.33</td><td>11643</td></tr>",
                            "<tr><td>Clarissa Pinkola Estés</td><td>Women Who Run With the Wolves: Myths and Stories of the Wild Woman Archetype</td><td>4.15</td><td>11643</td></tr>",
                            "<tr><td>Patricia C. Wrede, Peter de Sève</td><td>Calling on Dragons (Enchanted Forest Chronicles, #3)</td><td>4.2</td><td>11643</td></tr>",
                            "<tr><td>Sarah Vowell, Katherine Streeter</td><td>The Partly Cloudy Patriot</td><td>3.9</td><td>11643</td></tr>",
                            "<tr><td>Alice Munro</td><td>Dear Life: Stories</td><td>3.75</td><td>11643</td></tr>",
                            "<tr><td>Jacqueline Carey</td><td>Kushiel's Avatar (Phèdre's Trilogy, #3)</td><td>4.37</td><td>11643</td></tr>",
                            "<tr><td>Lilian Jackson Braun</td><td>The Cat Who Could Read Backwards (Cat Who..., #1)</td><td>3.84</td><td>11643</td></tr>",
                            "<tr><td>Kathy Reichs</td><td>Death du Jour (Temperance Brennan, #2)</td><td>3.96</td><td>11643</td></tr>",
                            "<tr><td>Cherie Priest</td><td>Boneshaker (The Clockwork Century, #1)</td><td>3.5</td><td>11643</td></tr>",
                            "<tr><td>Rita Mae Brown</td><td>Rubyfruit Jungle</td><td>3.88</td><td>11643</td></tr>",
                            "<tr><td>Monica Ali</td><td>Brick Lane</td><td>3.38</td><td>11643</td></tr>",
                            "<tr><td>Rachel Carson, Linda Lear, Edward O. Wilson</td><td>Silent Spring</td><td>3.94</td><td>11643</td></tr>",
                            "<tr><td>Nadia Hashimi</td><td>The Pearl That Broke Its Shell</td><td>4.12</td><td>11643</td></tr>",
                            "<tr><td>Joanne Harris</td><td>Five Quarters of the Orange</td><td>3.83</td><td>11643</td></tr>",
                            "<tr><td>Susan Cooper</td><td>Silver on the Tree (The Dark is Rising, #5)</td><td>4.16</td><td>11643</td></tr>",
                            "<tr><td>Enid Bagnold</td><td>National Velvet</td><td>4.09</td><td>11643</td></tr>",
                            "<tr><td>Emma Straub</td><td>Modern Lovers</td><td>3.45</td><td>11643</td></tr>",
                            "<tr><td>Lauren Graham</td><td>Talking as Fast as I Can: From Gilmore Girls to Gilmore Girls, and Everything in Between</td><td>4.04</td><td>11643</td></tr>",
                            "<tr><td>P.D. James</td><td>Cover Her Face (Adam Dalgliesh #1)</td><td>3.94</td><td>11643</td></tr>",
                            "<tr><td>Hannah  Green, Joanne Greenberg</td><td>I Never Promised You a Rose Garden</td><td>3.85</td><td>11643</td></tr>",
                            "<tr><td>Marguerite Duras, Barbara Bray, Maxine Hong Kingston</td><td>The Lover</td><td>3.76</td><td>11643</td></tr>",
                            "<tr><td>Claire Messud</td><td>The Emperor's Children</td><td>2.93</td><td>11643</td></tr>",
                            "<tr><td>Ann Leckie</td><td>Ancillary Sword (Imperial Radch, #2)</td><td>4.03</td><td>11643</td></tr>",
                            "<tr><td>Catherynne M. Valente, Ana Juan</td><td>The Girl Who Circumnavigated Fairyland in a Ship of Her Own Making (Fairyland, #1)</td><td>3.97</td><td>11643</td></tr>",
                            "<tr><td>Kathy Reichs</td><td>Bare Bones (Temperance Brennan, #6)</td><td>3.95</td><td>11643</td></tr>",
                            "<tr><td>Louisa May Alcott</td><td>Eight Cousins (Eight Cousins, #1)</td><td>4.02</td><td>11643</td></tr>",
                            "<tr><td>Susan Cooper</td><td>The Grey King (The Dark Is Rising, #4)</td><td>4.18</td><td>11643</td></tr>",
                            "<tr><td>Edwidge Danticat</td><td>Breath, Eyes, Memory</td><td>3.86</td><td>11643</td></tr>",
                            "<tr><td>L.M. Montgomery</td><td>Rilla of Ingleside (Anne of Green Gables, #8)</td><td>4.16</td><td>11643</td></tr>",
                            "<tr><td>Jeanette Winterson</td><td>Why Be Happy When You Could Be Normal?</td><td>3.94</td><td>11643</td></tr>",
                            "<tr><td>Roz Chast</td><td>Can't We Talk about Something More Pleasant?</td><td>4.1</td><td>11643</td></tr>",
                            "<tr><td>Tamora Pierce</td><td>Sandry's Book (Circle of Magic, #1)</td><td>3.99</td><td>11643</td></tr>",
                            "<tr><td>Agatha Christie</td><td>A Murder Is Announced (Miss Marple, #5)</td><td>3.96</td><td>11643</td></tr>",
                            "<tr><td>Elif Shafak</td><td>The Bastard of Istanbul</td><td>3.79</td><td>11643</td></tr>",
                            "<tr><td>Tamora Pierce</td><td>Bloodhound (Beka Cooper, #2)</td><td>4.26</td><td>11643</td></tr>",
                            "<tr><td>Ellis Peters</td><td>A Morbid Taste for Bones (Chronicles of Brother Cadfael, #1)</td><td>3.99</td><td>11643</td></tr>",
                            "<tr><td>Myla Goldberg</td><td>Bee Season</td><td>3.55</td><td>11643</td></tr>",
                            "<tr><td>A.N. Roquelaure, Anne Rice</td><td>Beauty's Release (Sleeping Beauty, #3)</td><td>3.71</td><td>11643</td></tr>",
                            "<tr><td>Caitlin Doughty</td><td>Smoke Gets in Your Eyes: And Other Lessons from the Crematory</td><td>4.04</td><td>11643</td></tr>",
                            "<tr><td>Caitlin Moran</td><td>How to Build a Girl</td><td>3.69</td><td>11643</td></tr>",
                            "<tr><td>Helene Hanff</td><td>84, Charing Cross Road</td><td>4.19</td><td>11643</td></tr>",
                            "<tr><td>Anna Kendrick</td><td>Scrappy Little Nobody</td><td>3.91</td><td>11643</td></tr>",
                            "<tr><td>Kate Atkinson</td><td>Started Early, Took My Dog (Jackson Brodie, #4)</td><td>3.89</td><td>11643</td></tr>",
                            "<tr><td>Lisa Lutz</td><td>The Spellman Files (The Spellmans, #1)</td><td>3.88</td><td>11643</td></tr>",
                            "<tr><td>Charlotte Brontë, Lucasta Miller, collaborative, Jessica Cox</td><td>Shirley</td><td>3.71</td><td>11643</td></tr>",
                            "<tr><td>Diane Muldrow, J.P. Miller</td><td>The Little Red Hen (Little Golden Book)</td><td>4.2</td><td>11643</td></tr>",
                            "<tr><td>Joni Eareckson Tada, Joe Musser</td><td>Joni: An Unforgettable Story</td><td>4.23</td><td>11643</td></tr>",
                            "<tr><td>Margaret Weis, Tracy Hickman</td><td>War of the Twins (Dragonlance: Legends, #2)</td><td>4.11</td><td>11643</td></tr>",
                            "<tr><td>Shakti Gawain</td><td>Creative Visualization: Use the Power of Your Imagination to Create What You Want in Your Life</td><td>4.13</td><td>11643</td></tr>",
                            "<tr><td>Marina Lewycka</td><td>A Short History of Tractors in Ukrainian</td><td>3.37</td><td>11643</td></tr>",
                            "<tr><td>Anne McCaffrey</td><td>Dragonsdawn (Pern, #9)</td><td>4.17</td><td>11643</td></tr>",
                            "<tr><td>Kaye Gibbons</td><td>Ellen Foster</td><td>3.75</td><td>11643</td></tr>",
                            "<tr><td>Isa Chandra Moskowitz, Terry Hope Romero</td><td>Veganomicon: The Ultimate Vegan Cookbook</td><td>3.98</td><td>11643</td></tr>",
                            "<tr><td>Flannery O'Connor</td><td>Wise Blood</td><td>3.88</td><td>11643</td></tr>",
                            "<tr><td>N.K. Jemisin</td><td>The Fifth Season (The Broken Earth, #1)</td><td>4.31</td><td>11643</td></tr>",
                            "<tr><td>Patricia C. Wrede, Peter de Sève</td><td>Talking to Dragons (Enchanted Forest Chronicles, #4)</td><td>4.19</td><td>11643</td></tr>",
                            "<tr><td>A.N. Roquelaure, Anne Rice</td><td>Beauty's Punishment (Sleeping Beauty, #2)</td><td>3.62</td><td>11643</td></tr>",
                            "<tr><td>Willa Cather</td><td>Death Comes for the Archbishop</td><td>3.88</td><td>11643</td></tr>",
                            "<tr><td>Jeanette Winterson</td><td>Written on the Body</td><td>4.08</td><td>11643</td></tr>",
                            "<tr><td>Agatha Christie</td><td>4:50 from Paddington (Miss Marple, #8)</td><td>3.92</td><td>11643</td></tr>",
                            "<tr><td>Isabel Allende, Margaret Sayers Peden</td><td>City of the Beasts (Eagle and Jaguar, #1)</td><td>3.69</td><td>11643</td></tr>",
                            "<tr><td>Meg Cabot</td><td>Haunted (The Mediator, #5)</td><td>4.15</td><td>11643</td></tr>",
                            "<tr><td>Anne McCaffrey</td><td>Dragondrums (Harper Hall, #3)</td><td>4.04</td><td>11643</td></tr>",
                            "<tr><td>Dava Sobel</td><td>Galileo's Daughter: A Historical Memoir of Science, Faith and Love</td><td>3.74</td><td>11643</td></tr>",
                            "<tr><td>Melinda Long, David Shannon</td><td>How I Became a Pirate</td><td>4.07</td><td>11643</td></tr>",
                            "<tr><td>Robin Hobb</td><td>The Dragon Keeper (Rain Wild Chronicles, #1)</td><td>3.93</td><td>11643</td></tr>",
                            "<tr><td>Julia Donaldson, Axel Scheffler</td><td>The Gruffalo</td><td>4.47</td><td>11643</td></tr>",
                            "<tr><td>Mary Higgins Clark</td><td>All Around the Town</td><td>3.94</td><td>11643</td></tr>",
                            "<tr><td>Anita Shreve</td><td>The Weight of Water</td><td>3.62</td><td>11643</td></tr>",
                            "<tr><td>Maeve Binchy</td><td>Scarlet Feather</td><td>3.93</td><td>11643</td></tr>",
                            "<tr><td>Agatha Christie</td><td>The Secret Adversary (Tommy and Tuppence #1)</td><td>3.82</td><td>11643</td></tr>",
                            "<tr><td>Naomi Klein</td><td>No Logo</td><td>3.86</td><td>11643</td></tr>",
                            "<tr><td>Mary Higgins Clark</td><td>Loves Music, Loves to Dance</td><td>3.89</td><td>11643</td></tr>",
                            "<tr><td>Mercedes Lackey</td><td>Arrows of the Queen (Heralds of Valdemar, #1)</td><td>4.16</td><td>11643</td></tr>",
                            "<tr><td>Joan Didion</td><td>Slouching Towards Bethlehem</td><td>4.24</td><td>11643</td></tr>",
                            "<tr><td>Robin McKinley</td><td>Sunshine</td><td>3.85</td><td>11643</td></tr>",
                            "<tr><td>Jesmyn Ward</td><td>Salvage the Bones</td><td>3.81</td><td>11643</td></tr>",
                            "<tr><td>Naomi Novik</td><td>Throne of Jade (Temeraire, #2)</td><td>3.89</td><td>11643</td></tr>",
                            "<tr><td>Meg Cabot</td><td>Ninth Key (The Mediator, #2)</td><td>4.07</td><td>11643</td></tr>",
                            "<tr><td>Isabel Allende, Margaret Sayers Peden</td><td>Of Love and Shadows</td><td>3.96</td><td>11643</td></tr>",
                            "<tr><td>Anita Shreve</td><td>Sea Glass</td><td>3.65</td><td>11643</td></tr>",
                            "<tr><td>Laline Paull</td><td>The Bees</td><td>3.67</td><td>11643</td></tr>",
                            "<tr><td>Margaret Atwood</td><td>The Edible Woman</td><td>3.67</td><td>11643</td></tr>",
                            "<tr><td>Sarah Simblet</td><td>Anatomy for the Artist</td><td>3.97</td><td>11643</td></tr>",
                            "<tr><td>Angela Carter</td><td>The Bloody Chamber and Other Stories</td><td>4.02</td><td>11643</td></tr>",
                            "<tr><td>Kim Gordon</td><td>Girl in a Band</td><td>3.58</td><td>11643</td></tr>",
                            "<tr><td>Anne Bishop</td><td>Daughter of the Blood (The Black Jewels #1)</td><td>4.12</td><td>11643</td></tr>",
                            "<tr><td>Kathy Reichs</td><td>Monday Mourning (Temperance Brennan, #7)</td><td>4.02</td><td>11643</td></tr>",
                            "<tr><td>Joan Didion, David Thomson</td><td>Play It as It Lays</td><td>3.86</td><td>11643</td></tr>",
                            "<tr><td>Simone de Beauvoir, H.M. Parshley, Deirdre Bair</td><td>The Second Sex</td><td>4.09</td><td>11643</td></tr>",
                            "<tr><td>Margaret Weis, Tracy Hickman</td><td>Dragon Wing (The Death Gate Cycle, #1)</td><td>3.93</td><td>11643</td></tr>",
                            "<tr><td>Noelle Stevenson, Grace Ellis, Shannon Waters, Shannon Watters, Brooke A. Allen, Faith Hicks, Kat Leyh, Brooke Allen, Carolyn Nowak, Various, Carey Pietsch</td><td>Lumberjanes, Vol. 1: Beware the Kitten Holy</td><td>3.94</td><td>11643</td></tr>",
                            "<tr><td>Chitra Banerjee Divakaruni</td><td>The Palace of Illusions</td><td>4.11</td><td>11643</td></tr>",
                            "<tr><td>Connie Willis</td><td>To Say Nothing of the Dog (Oxford Time Travel, #2)</td><td>4.13</td><td>11643</td></tr>",
                            "<tr><td>Lucy Grealy</td><td>Autobiography of a Face</td><td>3.96</td><td>11643</td></tr>",
                            "<tr><td>Meg Cabot</td><td>Reunion (The Mediator, #3)</td><td>4.09</td><td>11643</td></tr>",
                            "<tr><td>Kate Beaton</td><td>Hark! A Vagrant</td><td>4.27</td><td>11643</td></tr>",
                            "<tr><td>Ann Packer</td><td>The Dive From Clausen's Pier</td><td>3.41</td><td>11643</td></tr>",
                            "<tr><td>Pat Barker</td><td>Regeneration (Regeneration, #1)</td><td>4.03</td><td>11643</td></tr>",
                            "<tr><td>Margaret Atwood</td><td>The Penelopiad</td><td>3.66</td><td>11643</td></tr>",
                            "<tr><td>Erika Swyler</td><td>The Book of Speculation</td><td>3.59</td><td>11643</td></tr>",
                            "<tr><td>Helen Oyeyemi</td><td>Boy, Snow, Bird</td><td>3.34</td><td>11643</td></tr>",
                            "<tr><td>Andrea Levy</td><td>Small Island</td><td>3.89</td><td>11643</td></tr>",
                            "<tr><td>Lois McMaster Bujold</td><td>The Curse of Chalion (World of the Five Gods, #1)</td><td>4.16</td><td>11643</td></tr>",
                            "<tr><td>Malinda Lo</td><td>Ash</td><td>3.62</td><td>11643</td></tr>",
                            "<tr><td>Julia Alvarez</td><td>How the García Girls Lost Their Accents </td><td>3.62</td><td>11643</td></tr>",
                            "<tr><td>Susan Cooper</td><td>Greenwitch (The Dark Is Rising, #3)</td><td>4</td><td>11643</td></tr>",
                            "<tr><td>Kate Atkinson</td><td>One Good Turn (Jackson Brodie, #2)</td><td>3.79</td><td>11643</td></tr>",
                            "<tr><td>Katherine Paterson</td><td>Jacob Have I Loved</td><td>3.64</td><td>11643</td></tr>",
                            "<tr><td>Isak Dinesen, Karen Blixen</td><td>Out of Africa</td><td>3.96</td><td>11643</td></tr>",
                            "<tr><td>Miranda July, Brigitte Sire</td><td>It Chooses You</td><td>3.88</td><td>11643</td></tr>",
                            "<tr><td>Miranda July</td><td>The First Bad Man</td><td>3.58</td><td>11643</td></tr>",
                            "<tr><td>Gail Carriger</td><td>Changeless (Parasol Protectorate, #2)</td><td>4</td><td>11643</td></tr>",
                            "<tr><td>L.M. Montgomery</td><td>Rainbow Valley (Anne of Green Gables, #7)</td><td>4</td><td>11643</td></tr>",
                            "<tr><td>Raymond E. Feist, Janny Wurts</td><td>Servant of the Empire (The Empire Trilogy, #2)</td><td>4.27</td><td>11643</td></tr>",
                            "<tr><td>Sarah Vowell</td><td>The Wordy Shipmates</td><td>3.66</td><td>11643</td></tr>",
                            "<tr><td>Toni Morrison</td><td>Paradise</td><td>3.77</td><td>11643</td></tr>",
                            "<tr><td>Diana Wynne Jones</td><td>Castle in the Air (Howl's Moving Castle, #2)</td><td>3.93</td><td>11643</td></tr>",
                            "<tr><td>Deborah Blum</td><td>The Poisoner's Handbook: Murder and the Birth of Forensic Medicine in Jazz Age New York</td><td>4</td><td>11643</td></tr>",
                            "<tr><td>Kathy Reichs</td><td>Deadly Decisions (Temperance Brennan, #3)</td><td>3.93</td><td>11643</td></tr>",
                            "<tr><td>Ursula K. Le Guin</td><td>Tehanu (Earthsea Cycle, #4)</td><td>3.89</td><td>11643</td></tr>",
                            "<tr><td>Carrie Brownstein</td><td>Hunger Makes Me a Modern Girl</td><td>3.88</td><td>11643</td></tr>",
                            "<tr><td>Agatha Christie</td><td>Murder in Mesopotamia (Hercule Poirot, #14)</td><td>3.86</td><td>11643</td></tr>",
                            "<tr><td>Trudi Canavan</td><td>The Magician's Apprentice (Black Magician, #0.5)</td><td>3.94</td><td>11643</td></tr>",
                            "<tr><td>Rachel Kushner</td><td>The Flamethrowers</td><td>3.46</td><td>11643</td></tr>",
                            "<tr><td>Louise Erdrich</td><td>The Master Butchers Singing Club</td><td>4.02</td><td>11643</td></tr>",
                            "<tr><td>Becky  Chambers</td><td>The Long Way to a Small, Angry Planet (Wayfarers, #1)</td><td>4.18</td><td>11643</td></tr>",
                            "<tr><td>Mira Grant</td><td>Deadline (Newsflesh Trilogy, #2)</td><td>4.1</td><td>11643</td></tr>",
                            "<tr><td>Karin Slaughter</td><td>Faithless (Grant County, #5)</td><td>4.11</td><td>11643</td></tr>",
                            "<tr><td>Emma Donoghue</td><td>Frog Music</td><td>3.13</td><td>11643</td></tr>",
                            "<tr><td>Alison Bechdel</td><td>Are You My Mother?</td><td>3.66</td><td>11643</td></tr>",
                            "<tr><td>Loung Ung</td><td>First They Killed My Father: A Daughter of Cambodia Remembers</td><td>4.29</td><td>11643</td></tr>",
                            "<tr><td>Mary Higgins Clark</td><td>You Belong To Me</td><td>3.85</td><td>11643</td></tr>",
                            "<tr><td>Tamora Pierce</td><td>Tris's Book (Circle of Magic, #2)</td><td>4.07</td><td>11643</td></tr>",
                            "<tr><td>Rebecca Solnit</td><td>Men Explain Things to Me</td><td>3.93</td><td>11643</td></tr>",
                            "<tr><td>Kathy Reichs</td><td>Grave Secrets (Temperance Brennan, #5)</td><td>3.98</td><td>11643</td></tr>",
                            "<tr><td>Brit Bennett</td><td>The Mothers</td><td>3.87</td><td>11643</td></tr>",
                            "<tr><td>Maxine Hong Kingston</td><td>The Woman Warrior</td><td>3.72</td><td>11643</td></tr>",
                            "<tr><td>Anne McCaffrey</td><td>Moreta: Dragonlady of Pern (Pern, #7)</td><td>3.97</td><td>11643</td></tr>",
                            "<tr><td>Megan Whalen Turner</td><td>The Queen of Attolia (The Queen's Thief, #2)</td><td>4.23</td><td>11643</td></tr>",
                            "<tr><td>Ann Leckie</td><td>Ancillary Mercy (Imperial Radch #3)</td><td>4.2</td><td>11643</td></tr>",
                            "<tr><td>Eve Ensler, Gloria Steinem</td><td>The Vagina Monologues</td><td>3.86</td><td>11643</td></tr>",
                            "<tr><td>George Eliot, Edmund White</td><td>Daniel Deronda</td><td>3.82</td><td>11643</td></tr>",
                            "<tr><td>Sarah Waters</td><td>The Night Watch</td><td>3.67</td><td>11643</td></tr>",
                            "<tr><td>George Eliot, Joanna Trollope, Hugh Osborne</td><td>Adam Bede</td><td>3.77</td><td>11643</td></tr>",
                            "<tr><td>Yōko Ogawa, Stephen Snyder</td><td>The Housekeeper and the Professor</td><td>3.94</td><td>11643</td></tr>",
                            "<tr><td>Denise Kiernan</td><td>The Girls of Atomic City: The Untold Story of the Women Who Helped Win World War II</td><td>3.66</td><td>11643</td></tr>",
                            "<tr><td>Tess Gerritsen</td><td>The Bone Garden </td><td>4.02</td><td>11643</td></tr>",
                            "<tr><td>Robin Hobb</td><td>Dragon Haven (Rain Wild Chronicles, #2)</td><td>4.06</td><td>11643</td></tr>",
                            "<tr><td>Erin Hunter</td><td>Moonrise (Warriors: The New Prophecy, #2)</td><td>4.31</td><td>11643</td></tr>",
                            "<tr><td>Catherine McKenzie</td><td>Hidden</td><td>3.44</td><td>11643</td></tr>",
                            "<tr><td>Harriet Lerner</td><td>The Dance Of Anger: A Woman's Guide to Changing the Patterns of Intimate Relationships</td><td>4.02</td><td>11643</td></tr>",
                            "<tr><td>Megan Whalen Turner</td><td>The King of Attolia (The Queen's Thief, #3)</td><td>4.37</td><td>11643</td></tr>",
                            "<tr><td>Jami Attenberg</td><td>The Middlesteins</td><td>3.42</td><td>11643</td></tr>",
                            "<tr><td>Kay Thompson, Hilary Knight</td><td>Eloise </td><td>4.2</td><td>11643</td></tr>",
                            "<tr><td>Annie Proulx</td><td>Brokeback Mountain</td><td>3.93</td><td>11643</td></tr>",
                            "<tr><td>Lian Hearn</td><td>Grass for His Pillow (Tales of the Otori, #2)</td><td>4.01</td><td>11643</td></tr>",
                            "<tr><td>Edan Lepucki</td><td>California</td><td>3.22</td><td>11643</td></tr>",
                            "<tr><td>Agatha Christie</td><td>Hercule Poirot's Christmas (Hercule Poirot, #20)</td><td>3.9</td><td>11643</td></tr>",
                            "<tr><td>Enid Blyton</td><td>The Enchanted Wood (The Faraway Tree, #1)</td><td>4.24</td><td>11643</td></tr>",
                            "<tr><td>Lauren Groff</td><td>Arcadia</td><td>3.65</td><td>11643</td></tr>",
                            "<tr><td>Dian Fossey</td><td>Gorillas in the Mist</td><td>4.16</td><td>11643</td></tr>",
                            "<tr><td>Adelle Waldman</td><td>The Love Affairs of Nathaniel P.</td><td>3.3</td><td>11643</td></tr>",
                            "<tr><td>Carolyn Keene, Mildred Benson</td><td>The Hidden Staircase (Nancy Drew #2)</td><td>3.94</td><td>11643</td></tr>",
                            "<tr><td>Laura McHugh</td><td>The Weight of Blood</td><td>3.73</td><td>11643</td></tr>",
                            "<tr><td>Joan Didion</td><td>Blue Nights</td><td>3.75</td><td>11643</td></tr>",
                            "<tr><td>Anne Tyler</td><td>Dinner at the Homesick Restaurant</td><td>3.82</td><td>11643</td></tr>",
                            "<tr><td>Diana Wynne Jones</td><td>Charmed Life (Chrestomanci, #1)</td><td>3.95</td><td>11643</td></tr>",
                            "<tr><td>Erin Hunter</td><td>Sunset (Warriors: The New Prophecy, #6)</td><td>4.35</td><td>11643</td></tr>",
                            "<tr><td>Agatha Christie</td><td>The Big Four (Hercule Poirot, #5)</td><td>3.6</td><td>11643</td></tr>",
                            "<tr><td>Agatha Christie</td><td>Peril at End House (Hercule Poirot, #8)</td><td>3.89</td><td>11643</td></tr>",
                            "<tr><td>Robin Hobb</td><td>Fool's Quest  (The Fitz and The Fool, #2)</td><td>4.53</td><td>11643</td></tr>",
                            "<tr><td>Patti Smith</td><td>M Train</td><td>3.94</td><td>11643</td></tr>",
                            "<tr><td>Louise Erdrich</td><td>Love Medicine</td><td>3.98</td><td>11643</td></tr>",
                            "<tr><td>Carrie Fisher</td><td>The Princess Diarist</td><td>3.66</td><td>11643</td></tr>",
                            "<tr><td>Rachel Renée Russell</td><td>Tales from a Not-So-Graceful Ice Princess (Dork Diaries, #4)</td><td>4.38</td><td>11643</td></tr>",
                            "<tr><td>Gail Carriger</td><td>Blameless (Parasol Protectorate, #3)</td><td>4.01</td><td>11643</td></tr>",
                            "<tr><td>Maeve Binchy</td><td>The Copper Beech</td><td>3.89</td><td>11643</td></tr>",
                            "<tr><td>Daphne du Maurier</td><td>Jamaica Inn</td><td>3.85</td><td>11643</td></tr>",
                            "<tr><td>Margaret Weis, Tracy Hickman</td><td>Serpent Mage (The Death Gate Cycle, #4)</td><td>4.06</td><td>11643</td></tr>",
                            "<tr><td>Tracy Chevalier</td><td>Falling Angels</td><td>3.55</td><td>11643</td></tr>",
                            "<tr><td>Jane Austen, Robert William Chapman</td><td>Lady Susan</td><td>3.56</td><td>11643</td></tr>",
                            "<tr><td>Keri Hulme</td><td>The Bone People</td><td>4.06</td><td>11643</td></tr>",
                            "<tr><td>Michelle Paver, Geoff Taylor</td><td>Wolf Brother (Chronicles of Ancient Darkness, #1)</td><td>4.15</td><td>11643</td></tr>",
                            "<tr><td>Marguerite Henry</td><td>Stormy, Misty's Foal (Misty, #3)</td><td>4.06</td><td>11643</td></tr>",
                            "<tr><td>Virginia Woolf</td><td>The Waves</td><td>4.14</td><td>11643</td></tr>",
                            "<tr><td>Kyung-Sook Shin, 신경숙, Chi-Young Kim</td><td>Please Look After Mom</td><td>3.76</td><td>11643</td></tr>",
                            "<tr><td>Lois McMaster Bujold</td><td>Shards of Honour  (Vorkosigan Saga, #1)</td><td>4.13</td><td>11643</td></tr>",
                            "<tr><td>Gertrude Crampton</td><td>Scuffy the Tugboat (Big Little Golden Book)</td><td>4.11</td><td>11643</td></tr>",
                            "<tr><td>Erin Hunter</td><td>Dawn (Warriors: The New Prophecy, #3)</td><td>4.31</td><td>11643</td></tr>",
                            "<tr><td>Tamora Pierce</td><td>Daja's Book (Circle of Magic, #3)</td><td>4.06</td><td>11643</td></tr>",
                            "<tr><td>Anne McCaffrey</td><td>All the Weyrs of Pern (Pern, #11)</td><td>4.15</td><td>11643</td></tr>",
                            "<tr><td>Naomi Novik</td><td>Black Powder War (Temeraire, #3)</td><td>3.9</td><td>11643</td></tr>",
                            "<tr><td>Tamora Pierce</td><td>Briar's Book (Circle of Magic, #4)</td><td>4.14</td><td>11643</td></tr>",
                            "<tr><td>Tomoko Hayakawa, David Ury</td><td>The Wallflower, Vol. 1 (The Wallflower, #1)</td><td>4.15</td><td>11643</td></tr>",
                            "<tr><td>Toni Morrison</td><td>Jazz</td><td>3.78</td><td>11643</td></tr>",
                            "<tr><td>Megan Abbott</td><td>The Fever</td><td>3.12</td><td>11643</td></tr>",
                            "<tr><td>Alison Croggon</td><td>The Naming (The Books of Pellinor, #1)</td><td>4</td><td>11643</td></tr>",
                            "<tr><td>Sharon Kay Penman</td><td>Here be Dragons (Welsh Princes, #1)</td><td>4.3</td><td>11643</td></tr>",
                            "<tr><td>Byron Katie, Stephen Mitchell</td><td>Loving What Is: Four Questions That Can Change Your Life</td><td>4.15</td><td>11643</td></tr>",
                            "<tr><td>J.K. Rowling, MinaLima</td><td>Short Stories from Hogwarts of Heroism, Hardship and Dangerous Hobbies (Pottermore Presents, #1)</td><td>4.22</td><td>11643</td></tr>",
                            "<tr><td>Julie Maroh</td><td>Le bleu est une couleur chaude</td><td>3.92</td><td>11643</td></tr>",
                            "<tr><td>Emily Dickinson</td><td>Selected Poems</td><td>4.16</td><td>11643</td></tr>",
                            "<tr><td>Toni Morrison</td><td>God Help the Child</td><td>3.7</td><td>11643</td></tr>",
                            "<tr><td>G. Willow Wilson, Adrian Alphona, Jacob Wyatt</td><td>Ms. Marvel, Vol. 2: Generation Why</td><td>4.14</td><td>11643</td></tr>",
                            "<tr><td>Maggie Shipstead</td><td>Seating Arrangements</td><td>3.02</td><td>11643</td></tr>",
                            "<tr><td>Megan Abbott</td><td>You Will Know Me</td><td>3.45</td><td>11643</td></tr>",
                            "<tr><td>Sharon Kay Penman</td><td>The Sunne in Splendour</td><td>4.4</td><td>11643</td></tr>",
                            "<tr><td>Anne McCaffrey</td><td>The Masterharper of Pern (Pern, #15)</td><td>4.22</td><td>11643</td></tr>",
                            "<tr><td>Lindy West</td><td>Shrill: Notes from a Loud Woman</td><td>4.23</td><td>11643</td></tr>",
                            "<tr><td>Anne Bishop</td><td>Queen of the Darkness (The Black Jewels, #3)</td><td>4.37</td><td>11643</td></tr>",
                            "<tr><td>L.M. Montgomery</td><td>The Blue Castle </td><td>4.23</td><td>11643</td></tr>",
                            "<tr><td>Margaret Weis, Tracy Hickman</td><td>Into the Labyrinth (The Death Gate Cycle, #6)</td><td>4.09</td><td>11643</td></tr>",
                            "<tr><td>Jacqueline Winspear</td><td>Birds of a Feather (Maisie Dobbs, #2)</td><td>3.95</td><td>11643</td></tr>",
                            "<tr><td>Robin Hobb</td><td>Shaman's Crossing (Soldier Son, #1)</td><td>3.42</td><td>11643</td></tr>",
                            "<tr><td>Sarah Waters</td><td>Affinity</td><td>3.73</td><td>11643</td></tr>",
                            "<tr><td>Natsuo Kirino, Stephen Snyder</td><td>Out</td><td>3.93</td><td>11643</td></tr>",
                            "<tr><td>Philippa Pearce, Susan Einzig</td><td>Tom's Midnight Garden</td><td>4.05</td><td>11643</td></tr>",
                            "<tr><td>Annie Dillard</td><td>Pilgrim at Tinker Creek</td><td>4.1</td><td>11643</td></tr>",
                            "<tr><td>Isabel Allende, Margaret Sayers Peden</td><td>Zorro</td><td>3.75</td><td>11643</td></tr>",
                            "<tr><td>Megan Abbott</td><td>Dare Me</td><td>3.23</td><td>11643</td></tr>",
                            "<tr><td>Anne Enright</td><td>The Gathering</td><td>3.04</td><td>11643</td></tr>",
                            "<tr><td>Lois McMaster Bujold</td><td>Barrayar (Vorkosigan Saga, #7)</td><td>4.31</td><td>11643</td></tr>",
                            "<tr><td>Margaret Atwood</td><td>Surfacing</td><td>3.45</td><td>11643</td></tr>",
                            "<tr><td>Mhairi McFarlane</td><td>You Had Me At Hello</td><td>3.79</td><td>11643</td></tr>",
                            "<tr><td>Diane Duane</td><td>So You Want to Be a Wizard (Young Wizards, #1)</td><td>3.8</td><td>11643</td></tr>",
                            "<tr><td>Lisa Lutz</td><td>The Passenger</td><td>3.71</td><td>11643</td></tr>",
                            "<tr><td>Leslie Feinberg</td><td>Stone Butch Blues</td><td>4.27</td><td>11643</td></tr>",
                            "<tr><td>Amy  Stewart</td><td>Girl Waits with Gun (Kopp Sisters, #1)</td><td>3.78</td><td>11643</td></tr>",
                            "<tr><td>Rajaa Alsanea</td><td>Girls of Riyadh</td><td>3.17</td><td>11643</td></tr>",
                            "<tr><td>Judith Guest</td><td>Ordinary People</td><td>3.9</td><td>11643</td></tr>",
                            "<tr><td>Mary Higgins Clark</td><td>On the Street Where You Live</td><td>3.85</td><td>11643</td></tr>",
                            "<tr><td>Charlie Jane Anders</td><td>All the Birds in the Sky</td><td>3.58</td><td>11643</td></tr>",
                            "<tr><td>Heather O'Neill</td><td>Lullabies for Little Criminals</td><td>3.95</td><td>11643</td></tr>",
                            "<tr><td>Miriam Toews</td><td>A Complicated Kindness</td><td>3.64</td><td>11643</td></tr>",
                            "<tr><td>Sara Nović</td><td>Girl at War</td><td>3.98</td><td>11643</td></tr>",
                            "<tr><td>Rachel Maddow</td><td>Drift: The Unmooring of American Military Power</td><td>4.07</td><td>11643</td></tr>",
                            "<tr><td>Jeanette Winterson</td><td>The Passion</td><td>4.12</td><td>11643</td></tr>",
                            "<tr><td>Karen Russell</td><td>Vampires in the Lemon Grove</td><td>3.67</td><td>11643</td></tr>",
                            "<tr><td>Alice McDermott</td><td>Someone</td><td>3.76</td><td>11643</td></tr>",
                            "<tr><td>Lian Hearn</td><td>Brilliance of the Moon (Tales of the Otori, #3)</td><td>4.04</td><td>11643</td></tr>",
                            "<tr><td>Elizabeth Ross, ROFry</td><td>The Three Little Pigs</td><td>4.26</td><td>11643</td></tr>",
                            "<tr><td>Margaret Weis, Tracy Hickman</td><td>The Seventh Gate (The Death Gate Cycle, #7)</td><td>4.09</td><td>11643</td></tr>",
                            "<tr><td>Karen Miller</td><td>The Innocent Mage (Kingmaker, Kingbreaker, #1)</td><td>3.65</td><td>11643</td></tr>",
                            "<tr><td>Nora Ephron</td><td>I Remember Nothing: and Other Reflections</td><td>3.73</td><td>11643</td></tr>",
                            "<tr><td>Mineko Iwasaki, Rande Brown</td><td>Geisha, a Life</td><td>3.92</td><td>11643</td></tr>",
                            "<tr><td>Mercedes Lackey</td><td>Magic's Pawn (Valdemar: Last Herald-Mage #1)</td><td>4.21</td><td>11643</td></tr>",
                            "<tr><td>Irin Carmon, Shana Knizhnik</td><td>Notorious RBG: The Life and Times of Ruth Bader Ginsburg</td><td>4.22</td><td>11643</td></tr>",
                            "<tr><td>Georgette Heyer</td><td>The Grand Sophy</td><td>4.16</td><td>11643</td></tr>",
                            "<tr><td>Toni Morrison</td><td>Tar Baby</td><td>3.91</td><td>11643</td></tr>",
                            "<tr><td>Margaret Peterson Haddix</td><td>Running Out of Time</td><td>3.98</td><td>11643</td></tr>",
                            "<tr><td>Beverly Cleary</td><td>Runaway Ralph (Ralph S. Mouse, #2)</td><td>3.95</td><td>11643</td></tr>",
                            "<tr><td>Deb Perelman</td><td>The Smitten Kitchen Cookbook</td><td>4.14</td><td>11643</td></tr>",
                            "<tr><td>Seanan McGuire</td><td>Rosemary and Rue (October Daye, #1)</td><td>3.74</td><td>11643</td></tr>",
                            "<tr><td>Ann Patchett</td><td>This is the Story of a Happy Marriage</td><td>4.03</td><td>11643</td></tr>",
                            "<tr><td>Betty Friedan, Anna Quindlen</td><td>The Feminine Mystique</td><td>3.85</td><td>11643</td></tr>",
                            "<tr><td>Toni Morrison</td><td>A Mercy</td><td>3.65</td><td>11643</td></tr>",
                            "<tr><td>Françoise Sagan</td><td>Bonjour tristesse</td><td>3.62</td><td>11643</td></tr>",
                            "<tr><td>Astrid Lindgren, Ilon Wikland, Jill M. Morgan</td><td>The Brothers Lionheart</td><td>4.35</td><td>11643</td></tr>",
                            "<tr><td>Jacqueline Wilson, Nick Sharratt</td><td>The Story of Tracy Beaker</td><td>3.69</td><td>11643</td></tr>",
                            "<tr><td>Lorrie Moore</td><td>A Gate at the Stairs</td><td>3.14</td><td>11643</td></tr>",
                            "<tr><td>Diana Wynne Jones</td><td>The Lives of Christopher Chant (Chrestomanci, #2)</td><td>4.22</td><td>11643</td></tr>",
                            "<tr><td>Suzanne Rindell</td><td>The Other Typist</td><td>3.55</td><td>11643</td></tr>",
                            "<tr><td>Lois McMaster Bujold</td><td>The Warrior's Apprentice (Vorkosigan Saga, #2)</td><td>4.29</td><td>11643</td></tr>",
                            "<tr><td>Anne McCaffrey</td><td>The Ship Who Sang (Brainship, #1)</td><td>4</td><td>11643</td></tr>",
                            "<tr><td>Mira Grant</td><td>Blackout (Newsflesh Trilogy, #3)</td><td>4.11</td><td>11643</td></tr>",
                            "<tr><td>Jacqueline Carey</td><td>Kushiel's Scion (Imriel's Trilogy, #1)</td><td>4.19</td><td>11643</td></tr>",
                            "<tr><td>Miriam Toews</td><td>All My Puny Sorrows</td><td>3.93</td><td>11643</td></tr>",
                            "<tr><td>Octavia E. Butler</td><td>Dawn (Xenogenesis, #1)</td><td>4.1</td><td>11643</td></tr>",
                            "<tr><td>Louise Doughty</td><td>Apple Tree Yard</td><td>3.71</td><td>11643</td></tr>",
                            "<tr><td>Gail Carriger</td><td>Heartless (Parasol Protectorate, #4)</td><td>4.07</td><td>11643</td></tr>",
                            "<tr><td>Lucy Knisley</td><td>Relish: My Life in the Kitchen</td><td>3.89</td><td>11643</td></tr>",
                            "<tr><td>Beatriz Williams</td><td>The Secret Life of Violet Grant</td><td>3.97</td><td>11643</td></tr>",
                            "<tr><td>Gloria Steinem</td><td>My Life on the Road</td><td>4.08</td><td>11643</td></tr>",
                            "<tr><td>Agatha Christie</td><td>Cat Among the Pigeons (Hercule Poirot, #32)</td><td>3.82</td><td>11643</td></tr>",
                            "<tr><td>Katharine Graham</td><td>Personal History</td><td>4.13</td><td>11643</td></tr>",
                            "<tr><td>Jane Harper</td><td>The Dry (Aaron Falk, #1)</td><td>4.07</td><td>11643</td></tr>",
                            "<tr><td>Sonali Deraniyagala</td><td>Wave</td><td>3.7</td><td>11643</td></tr>",
                            "<tr><td>Margaret Weis, Tracy Hickman</td><td>Fire Sea (The Death Gate Cycle, #3)</td><td>4.05</td><td>11643</td></tr>",
                            "<tr><td>Maud Hart Lovelace, Lois Lenski</td><td>Betsy-Tacy (Betsy-Tacy, #1)</td><td>4.07</td><td>11643</td></tr>",
                            "<tr><td>Meg Cabot</td><td>Jinx</td><td>3.72</td><td>11643</td></tr>",
                            "<tr><td>Zoë Heller</td><td>What Was She Thinking? [Notes on a Scandal]</td><td>3.69</td><td>11643</td></tr>",
                            "<tr><td>Elizabeth Haydon</td><td>Rhapsody: Child of Blood (Symphony of Ages, #1)</td><td>3.95</td><td>11643</td></tr>",
                            "<tr><td>NoViolet Bulawayo</td><td>We Need New Names</td><td>3.71</td><td>11643</td></tr>",
                            "<tr><td>Lois McMaster Bujold</td><td>Paladin of Souls (World of the Five Gods, #2)</td><td>4.13</td><td>11643</td></tr>",
                            "<tr><td>Cynthia Voigt</td><td>Homecoming (Tillerman Cycle, #1)</td><td>3.92</td><td>11643</td></tr>",
                            "<tr><td>Margaret Weis, Tracy Hickman</td><td>The Hand of Chaos (The Death Gate Cycle, #5)</td><td>4.05</td><td>11643</td></tr>",
                            "<tr><td>Kathleen Winsor</td><td>Forever Amber </td><td>3.98</td><td>11643</td></tr>",
                            "<tr><td>Zadie Smith</td><td>Swing Time</td><td>3.6</td><td>11643</td></tr>",
                            "<tr><td>Nina LaCour</td><td>Everything Leads to You</td><td>3.89</td><td>11643</td></tr>",
                            "<tr><td>Alice Munro</td><td>Too Much Happiness</td><td>3.82</td><td>11643</td></tr>",
                            "<tr><td>Liz Moore</td><td>Heft</td><td>3.96</td><td>11643</td></tr>",
                            "<tr><td>Amelia Atwater-Rhodes</td><td>Hawksong (The Kiesha'ra, #1)</td><td>4.15</td><td>11643</td></tr>",
                            "<tr><td>Janet Stevens, Hans Christian Andersen</td><td>The Princess and the Pea</td><td>4.1</td><td>11643</td></tr>",
                            "<tr><td>Laura Lippman</td><td>What the Dead Know</td><td>3.54</td><td>11643</td></tr>",
                            "<tr><td>Emily M. Danforth</td><td>The Miseducation of Cameron Post</td><td>3.99</td><td>11643</td></tr>",
                            "<tr><td>Diana Wynne Jones</td><td>House of Many Ways (Howl's Moving Castle, #3)</td><td>4.03</td><td>11643</td></tr>",
                            "<tr><td>Louisa May Alcott</td><td>Rose in Bloom (Eight Cousins, #2)</td><td>4.03</td><td>11643</td></tr>",
                            "<tr><td>Barbara Claypole White</td><td>The Perfect Son</td><td>3.97</td><td>11643</td></tr>",
                            "<tr><td>J.K. Rowling, MinaLima</td><td>Short Stories from Hogwarts of Power, Politics and Pesky Poltergeists (Pottermore Presents, #2)</td><td>4.2</td><td>11643</td></tr>",
                            "<tr><td>Gail Tsukiyama</td><td>Women of the Silk</td><td>3.94</td><td>11643</td></tr>",
                            "<tr><td>Nicole Krauss</td><td>Great House</td><td>3.45</td><td>11643</td></tr>",
                            "<tr><td>Doris Lessing</td><td>The Golden Notebook</td><td>3.75</td><td>11643</td></tr>",
                            "<tr><td>Jennifer Donnelly</td><td>The Winter Rose (The Tea Rose, #2)</td><td>4.29</td><td>11643</td></tr>",
                            "<tr><td>Susan Coolidge</td><td>What Katy Did (Carr Family, #1)</td><td>3.89</td><td>11643</td></tr>",
                            "<tr><td>Tamora Pierce</td><td>Shatterglass (The Circle Opens, #4)</td><td>4.16</td><td>11643</td></tr>",
                            "<tr><td>Alice Waters</td><td>The Art of Simple Food: Notes, Lessons, and Recipes from a Delicious Revolution</td><td>4.11</td><td>11643</td></tr>",
                            "<tr><td>J.K. Rowling</td><td>Hogwarts: An Incomplete and Unreliable Guide (Pottermore Presents, #3)</td><td>4.21</td><td>11643</td></tr>",
                            "<tr><td>Astrid Lindgren, Patricia Crampton, Trina Schart Hyman</td><td>Ronia, the Robber's Daughter</td><td>4.27</td><td>11643</td></tr>",
                            "<tr><td>Claudia Rankine</td><td>Citizen: An American Lyric</td><td>4.3</td><td>11643</td></tr>",
                            "<tr><td>Marian Keyes</td><td>The Woman Who Stole My Life</td><td>3.52</td><td>11643</td></tr>",
                            "<tr><td>Sue Grafton</td><td>P is for Peril (Kinsey Millhone, #16)</td><td>3.85</td><td>11643</td></tr>",
                            "<tr><td>Sarah Andersen</td><td>Adulthood Is a Myth (Sarah's Scribbles, #1)</td><td>4.14</td><td>11643</td></tr>",
                            "<tr><td>Chimamanda Ngozi Adichie</td><td>The Thing Around Your Neck</td><td>4.18</td><td>11643</td></tr>",
                            "<tr><td>Kate Chopin</td><td>The Story of an Hour</td><td>4.08</td><td>11643</td></tr>",
                            "<tr><td>Naomi Novik</td><td>Empire of Ivory (Temeraire, #4)</td><td>3.93</td><td>11643</td></tr>",
                            "<tr><td>Jo Walton</td><td>Among Others</td><td>3.68</td><td>11643</td></tr>",
                            "<tr><td>Lois McMaster Bujold</td><td>The Vor Game (Vorkosigan Saga, #6)</td><td>4.28</td><td>11643</td></tr>",
                            "<tr><td>Lauren Beukes</td><td>Broken Monsters</td><td>3.59</td><td>11643</td></tr>",
                            "<tr><td>Tamora Pierce</td><td>Mastiff (Beka Cooper, #3)</td><td>4.24</td><td>11643</td></tr>",
                            "<tr><td>Agatha Christie</td><td>A Pocket Full of Rye (Miss Marple, #7)</td><td>3.83</td><td>11643</td></tr>",
                            "<tr><td>Margaret Atwood</td><td>Stone Mattress: Nine Tales</td><td>3.93</td><td>11643</td></tr>",
                            "<tr><td>Mary Elizabeth Braddon</td><td>Lady Audley's Secret</td><td>3.73</td><td>11643</td></tr>",
                            "<tr><td>Poppy Z. Brite</td><td>Lost Souls</td><td>3.89</td><td>11643</td></tr>",
                            "<tr><td>Agatha Christie</td><td>Elephants Can Remember (Hercule Poirot, #37)</td><td>3.62</td><td>11643</td></tr>",
                            "<tr><td>Gail Carriger</td><td>Timeless (Parasol Protectorate, #5)</td><td>4.12</td><td>11643</td></tr>",
                            "<tr><td>Jan Karon</td><td>These High, Green Hills (Mitford Years, #3)</td><td>4.27</td><td>11643</td></tr>",
                            "<tr><td>Miranda Hart</td><td>Is It Just Me?</td><td>3.8</td><td>11643</td></tr>",
                            "<tr><td>Ursula K. Le Guin</td><td>The Earthsea Trilogy</td><td>4.25</td><td>11643</td></tr>",
                            "<tr><td>Kate Summerscale</td><td>The Suspicions of Mr. Whicher: A Shocking Murder and the Undoing of a Great Victorian Detective</td><td>3.43</td><td>11643</td></tr>",
                            "<tr><td>Rita Golden Gelman</td><td>Tales of a Female Nomad: Living at Large in the World</td><td>3.84</td><td>11643</td></tr>",
                            "<tr><td>Eleanor Coerr, Ronald Himler</td><td>Sadako and the Thousand Paper Cranes</td><td>4.09</td><td>11643</td></tr>",
                            "<tr><td>Josephine Tey</td><td>The Daughter of Time (Inspector Alan Grant, #5)</td><td>3.95</td><td>11643</td></tr>",
                            "<tr><td>Anaïs Nin</td><td>Delta of Venus</td><td>3.69</td><td>11643</td></tr>",
                            "<tr><td>Anne Tyler</td><td>The Beginner's Goodbye</td><td>3.58</td><td>11643</td></tr>",
                            "<tr><td>Dorothy L. Sayers</td><td>Murder Must Advertise  (Lord Peter Wimsey, #10)</td><td>4.21</td><td>11643</td></tr>",
                            "<tr><td>Julia Child</td><td>The Way to Cook</td><td>4.31</td><td>11643</td></tr>",
                            "<tr><td>Alice Munro</td><td>Hateship, Friendship, Courtship, Loveship, Marriage: Stories</td><td>4.06</td><td>11643</td></tr>",
                            "<tr><td>Jacqueline Wilson, Nick Sharratt, Sue Heap</td><td>Double Act</td><td>3.69</td><td>11643</td></tr>",
                            "<tr><td>Deborah Rodriguez</td><td>The Little Coffee Shop of Kabul</td><td>3.57</td><td>11643</td></tr>",
                            "<tr><td>Mercedes Lackey</td><td>By the Sword (Valdemar)</td><td>4.24</td><td>11643</td></tr>",
                            "<tr><td>Jennifer Crusie</td><td>Anyone But You</td><td>3.8</td><td>11643</td></tr>",
                            "<tr><td>Mercedes Lackey</td><td>Arrow's Fall (Heralds of Valdemar, #3)</td><td>4.18</td><td>11643</td></tr>",
                            "<tr><td>Tamora Pierce</td><td>Street Magic (The Circle Opens, #2)</td><td>4.12</td><td>11643</td></tr>",
                            "<tr><td>Katherine Addison</td><td>The Goblin Emperor</td><td>4.05</td><td>11643</td></tr>",
                            "<tr><td>J.K. Rowling, Joel Holland</td><td>Very Good Lives: The Fringe Benefits of Failure and the Importance of Imagination</td><td>4.26</td><td>11643</td></tr>",
                            "<tr><td>Robin McKinley</td><td>Spindle's End</td><td>3.79</td><td>11643</td></tr>",
                            "<tr><td>Isa Chandra Moskowitz, Terry Hope Romero, Sara Quin</td><td>Vegan Cupcakes Take Over the World: 75 Dairy-Free Recipes for Cupcakes that Rule</td><td>4.08</td><td>11643</td></tr>",
                            "<tr><td>A.M. Homes</td><td>May We Be Forgiven</td><td>3.66</td><td>11643</td></tr>",
                            "<tr><td>Naomi Wolf</td><td>The Beauty Myth</td><td>3.89</td><td>11643</td></tr>",
                            "<tr><td>Annie Proulx</td><td>Close Range</td><td>3.99</td><td>11643</td></tr>",
                            "<tr><td>Tamora Pierce</td><td>Cold Fire (The Circle Opens, #3)</td><td>4.05</td><td>11643</td></tr>",
                            "<tr><td>Margot Lee Shetterly</td><td>Hidden Figures: The American Dream and the Untold Story of the Black Women Mathematicians Who Helped Win the Space Race</td><td>3.92</td><td>11643</td></tr>",
                            "<tr><td>Jacqueline Carey</td><td>Kushiel's Justice (Imriel's Trilogy, #2)</td><td>4.24</td><td>11643</td></tr>",
                            "<tr><td>Agatha Christie</td><td>Hallowe'en Party (Hercule Poirot, #36)</td><td>3.66</td><td>11643</td></tr>",
                            "<tr><td>Mary Higgins Clark</td><td>Where Are You Now?</td><td>3.77</td><td>11643</td></tr>",
                            "<tr><td>Mary Higgins Clark</td><td>I Heard That Song Before</td><td>3.81</td><td>11643</td></tr>",
                            "<tr><td>Mary Lawson</td><td>Crow Lake</td><td>3.85</td><td>11643</td></tr>",
                            "<tr><td>Toni Morrison</td><td>Home</td><td>3.71</td><td>11643</td></tr>",
                            "<tr><td>Anne Frank, Susan Massotty</td><td>Anne Frank's Tales from the Secret Annex</td><td>4.23</td><td>11643</td></tr>",
                            "<tr><td>Mary Higgins Clark</td><td>The Cradle Will Fall</td><td>3.89</td><td>11643</td></tr>",
                            "<tr><td>C.S. Friedman</td><td>Black Sun Rising (The Coldfire Trilogy, #1)</td><td>3.93</td><td>11643</td></tr>",
                            "<tr><td>Sarah Vowell</td><td>Take the Cannoli</td><td>3.86</td><td>11643</td></tr>",
                            "<tr><td>Bethany McLean, Peter Elkind</td><td>The Smartest Guys in the Room: The Amazing Rise and Scandalous Fall of Enron</td><td>4.14</td><td>11643</td></tr>",
                            "<tr><td>Jacqueline Woodson</td><td>Another Brooklyn</td><td>3.87</td><td>11643</td></tr>",
                            "<tr><td>Maeve Binchy</td><td>Light a Penny Candle</td><td>3.88</td><td>11643</td></tr>",
                            "<tr><td>Alice Walker</td><td>Possessing the Secret of Joy</td><td>4.06</td><td>11643</td></tr>",
                            "<tr><td>Tamora Pierce</td><td>Magic Steps (The Circle Opens, #1)</td><td>3.98</td><td>11643</td></tr>",
                            "<tr><td>Janne Teller, Martin Aitken</td><td>Nothing</td><td>3.76</td><td>11643</td></tr>",
                            "<tr><td>Karen Miller</td><td>The Awakened Mage (Kingmaker, Kingbreaker, #2)</td><td>3.71</td><td>11643</td></tr>",
                            "<tr><td>Mercedes Lackey</td><td>Arrow's Flight (Heralds of Valdemar, #2)</td><td>4.13</td><td>11643</td></tr>",
                            "<tr><td>Sarah Hepola</td><td>Blackout: Remembering the Things I Drank to Forget</td><td>3.96</td><td>11643</td></tr>",
                            "<tr><td>Mary Doria Russell</td><td>Children of God (The Sparrow, #2)</td><td>4.05</td><td>11643</td></tr>",
                            "<tr><td>Marion Zimmer Bradley, Diana L. Paxson</td><td>The Forest House (Avalon, #2)</td><td>3.85</td><td>11643</td></tr>",
                            "<tr><td>Pauline Réage, Sabine d'Estree</td><td>Story of O (Story of O #1)</td><td>3.34</td><td>11643</td></tr>",
                            "<tr><td>Agatha Christie</td><td>After the Funeral (Hercule Poirot, #29)</td><td>3.84</td><td>11643</td></tr>",
                            "<tr><td>Astrid Lindgren, Gerry Bothmer</td><td>Pippi in the South Seas</td><td>4.1</td><td>11643</td></tr>",
                            "<tr><td>Erica Jong</td><td>Fear of Flying</td><td>3.44</td><td>11643</td></tr>",
                            "<tr><td>Charlotte Brontë</td><td>The Professor</td><td>3.56</td><td>11643</td></tr>",
                            "<tr><td>Agatha Christie</td><td>The Moving Finger (Miss Marple, #4)</td><td>3.84</td><td>11643</td></tr>",
                            "<tr><td>Ali Smith</td><td>How to Be Both</td><td>3.61</td><td>11643</td></tr>",
                            "<tr><td>Anne Lamott, Sam Lamott</td><td>Some Assembly Required: A Journal of My Son's First Son</td><td>3.61</td><td>11643</td></tr>",
                            "<tr><td>Erin Hunter</td><td>Starlight (Warriors: The New Prophecy, #4)</td><td>4.28</td><td>11643</td></tr>",
                            "<tr><td>Ottessa Moshfegh</td><td>Eileen</td><td>3.38</td><td>11643</td></tr>",
                            "<tr><td>Anita Amirrezvani</td><td>The Blood of Flowers</td><td>3.95</td><td>11643</td></tr>",
                            "<tr><td>E. Nesbit</td><td>Five Children and It (Five Children, #1)</td><td>3.88</td><td>11643</td></tr>",
                            "<tr><td>G. Willow Wilson</td><td>Alif the Unseen</td><td>3.84</td><td>11643</td></tr>",
                            "<tr><td>Kate Chopin, Cynthia Brantley Johnson, Alyssa  Harad</td><td>The Awakening and Selected Stories</td><td>3.84</td><td>11643</td></tr>",
                            "<tr><td>Alice Hoffman</td><td>Faithful</td><td>4.02</td><td>11643</td></tr>",
                            "<tr><td>Elizabeth Little</td><td>Dear Daughter</td><td>3.44</td><td>11643</td></tr>",
                            "<tr><td>Margaret Weis, Tracy Hickman</td><td>Dragons of Summer Flame (Dragonlance: The Second Generation, #2)</td><td>3.84</td><td>11643</td></tr>",
                            "<tr><td>Rene Denfeld</td><td>The Enchanted</td><td>3.96</td><td>11643</td></tr>",
                            "<tr><td>Tamora Pierce</td><td>The Will of the Empress (Circle Reforged, #1)</td><td>4.15</td><td>11643</td></tr>",
                            "<tr><td>Isabel Allende, Oliver Brock, Frank Wynne</td><td>Ripper</td><td>3.24</td><td>11643</td></tr>",
                            "<tr><td>Erin Hunter</td><td>Twilight (Warriors: The New Prophecy, #5)</td><td>4.3</td><td>11643</td></tr>",
                            "<tr><td>Genevieve Cogman</td><td>The Invisible Library (The Invisible Library, #1)</td><td>3.73</td><td>11643</td></tr>",
                            "<tr><td>Anne Tyler</td><td>Saint Maybe</td><td>3.88</td><td>11643</td></tr>",
                            "<tr><td>Marjane Satrapi, Anjali Singh</td><td>Embroideries</td><td>3.82</td><td>11643</td></tr>",
                            "<tr><td>Melissa Anelli, J.K. Rowling</td><td>Harry, a History: The True Story of a Boy Wizard, His Fans, and Life Inside the Harry Potter Phenomenon</td><td>4.09</td><td>11643</td></tr>",
                            "<tr><td>Jill Alexander Essbaum</td><td>Hausfrau</td><td>3.24</td><td>11643</td></tr>",
                            "<tr><td>Nora Ephron</td><td>Heartburn</td><td>3.57</td><td>11643</td></tr>",
                            "<tr><td>Margaret Weis, Tracy Hickman</td><td>Elven Star (The Death Gate Cycle, #2)</td><td>3.98</td><td>11643</td></tr>",
                            "<tr><td>Elaine Pagels</td><td>The Gnostic Gospels</td><td>3.93</td><td>11643</td></tr>",
                            "<tr><td>Roxane Gay</td><td>An Untamed State</td><td>4.05</td><td>11643</td></tr>",
                            "<tr><td>Laurie R. King</td><td>A Monstrous Regiment of Women (Mary Russell, #2)</td><td>4.04</td><td>11643</td></tr>",
                            "<tr><td>Sara Ryan</td><td>Empress of the World (Battle Hall Davies, #1)</td><td>3.73</td><td>11643</td></tr>",
                            "<tr><td>Connie Willis</td><td>Blackout (All Clear, #1)</td><td>3.83</td><td>11643</td></tr>",
                            "<tr><td>Anita Brookner</td><td>Hotel du Lac</td><td>3.56</td><td>11643</td></tr>",
                            "<tr><td>Pat Barker</td><td>The Ghost Road (Regeneration, #3)</td><td>4.11</td><td>11643</td></tr>",
                            "<tr><td>Jill Murphy</td><td>The Worst Witch (Worst Witch, #1)</td><td>3.94</td><td>11643</td></tr>",
                            "<tr><td>Siri Hustvedt</td><td>What I Loved</td><td>4.02</td><td>11643</td></tr>",
                            "<tr><td>Lois McMaster Bujold</td><td>Mirror Dance (Vorkosigan Saga, #8)</td><td>4.32</td><td>11643</td></tr>",
                            "<tr><td>Iris Murdoch, Mary Kinzie</td><td>The Sea, the Sea</td><td>3.9</td><td>11643</td></tr>",
                            "<tr><td>Mary Higgins Clark</td><td>I'll Be Seeing You</td><td>3.79</td><td>11643</td></tr>",
                            "<tr><td>Ruth Ozeki</td><td>My Year of Meats</td><td>3.93</td><td>11643</td></tr>",
                            "<tr><td>Octavia E. Butler</td><td>Fledgling</td><td>3.9</td><td>11643</td></tr>",
                            "<tr><td>Anne McCaffrey</td><td>The Renegades of Pern (Pern, #10)</td><td>3.84</td><td>11643</td></tr>",
                            "<tr><td>Rose Levy Beranbaum, Maria Guarnaschelli, Vincent Lee, Manuela Paul, Dean G. Bornstein</td><td>The Cake Bible</td><td>4.2</td><td>11643</td></tr>",
                            "<tr><td>Elizabeth Gaskell, Shirley Foster</td><td>Mary Barton</td><td>3.7</td><td>11643</td></tr>",
                            "<tr><td>Maggie Nelson</td><td>The Argonauts</td><td>3.99</td><td>11643</td></tr>",
                            "<tr><td>L.M. Montgomery</td><td>Emily Climbs (Emily, #2)</td><td>4.14</td><td>11643</td></tr>",
                            "<tr><td>Jacqueline Carey</td><td>Kushiel's Mercy (Imriel's Trilogy, #3)</td><td>4.3</td><td>11643</td></tr>",
                            "<tr><td>Antonia Fraser</td><td>The Wives of Henry VIII</td><td>4.15</td><td>11643</td></tr>",
                            "<tr><td>Dorothy L. Sayers</td><td>Gaudy Night (Lord Peter Wimsey, #12)</td><td>4.26</td><td>11643</td></tr>",
                            "<tr><td>Frances Mayes</td><td>Bella Tuscany</td><td>3.74</td><td>11643</td></tr>",
                            "<tr><td>Octavia E. Butler</td><td>Parable of the Talents (Earthseed, #2)</td><td>4.21</td><td>11643</td></tr>",
                            "<tr><td>Anne McCaffrey</td><td>Crystal Singer (Crystal Singer, #1)</td><td>4.07</td><td>11643</td></tr>",
                            "<tr><td>Anderson Cooper, Gloria Vanderbilt</td><td>The Rainbow Comes and Goes: A Mother and Son On Life, Love, and Loss</td><td>3.79</td><td>11643</td></tr>",
                            "<tr><td>Ann Cleeves</td><td>Raven Black (Shetland Island, #1)</td><td>3.85</td><td>11643</td></tr>",
                            "<tr><td>Sarah L. Delany, A. Elizabeth Delany, Amy Hill Hearth</td><td>Having Our Say: The Delany Sisters' First 100 Years</td><td>4.14</td><td>11643</td></tr>",
                            "<tr><td>Gail Carriger</td><td>Curtsies &amp; Conspiracies (Finishing School, #2)</td><td>4.11</td><td>11643</td></tr>",
                            "<tr><td>Sarah Pinborough</td><td>Behind Her Eyes</td><td>3.77</td><td>11643</td></tr>",
                            "<tr><td>Jeanette Winterson</td><td>Sexing the Cherry</td><td>3.83</td><td>11643</td></tr>",
                            "<tr><td>Tessa Dare</td><td>Romancing the Duke (Castles Ever After, #1)</td><td>3.91</td><td>11643</td></tr>",
                            "<tr><td>Lucie Whitehouse</td><td>Before We Met</td><td>3.43</td><td>11643</td></tr>",
                            "<tr><td>Melanie Rawn</td><td>Dragon Prince (Dragon Prince, #1)</td><td>3.94</td><td>11643</td></tr>",
                            "<tr><td>Louisa May Alcott</td><td>Good Wives (Little Women, #1.5)</td><td>3.92</td><td>11643</td></tr>",
                            "<tr><td>Yangsze Choo</td><td>The Ghost Bride</td><td>3.74</td><td>11643</td></tr>",
                            "<tr><td>Jacqueline Wilson</td><td>Girls in Love (Girls, #1)</td><td>3.53</td><td>11643</td></tr>",
                            "<tr><td>Twyla Tharp</td><td>The Creative Habit: Learn It and Use It for Life</td><td>4</td><td>11643</td></tr>",
                            "<tr><td>Marion Zimmer Bradley, Diana L. Paxson</td><td>Lady of Avalon (Avalon, #3)</td><td>3.88</td><td>11643</td></tr>",
                            "<tr><td>Jan Karon</td><td>Out to Canaan (Mitford Years, #4)</td><td>4.28</td><td>11643</td></tr>",
                            "<tr><td>Rosamund Lupton</td><td>Afterwards</td><td>3.79</td><td>11643</td></tr>",
                            "<tr><td>Christiane Northrup</td><td>Women's Bodies, Women's Wisdom: Creating Physical and Emotional Health and Healing</td><td>4.32</td><td>11643</td></tr>",
                            "<tr><td>Nella Larsen, Ntozake Shange, Thadious M. Davis</td><td>Passing</td><td>3.8</td><td>11643</td></tr>",
                            "<tr><td>Val McDermid</td><td>The Mermaids Singing (Tony Hill &amp; Carol Jordan, #1)</td><td>3.98</td><td>11643</td></tr>",
                            "<tr><td>Louisa May Alcott</td><td>An Old-Fashioned Girl</td><td>4.05</td><td>11643</td></tr>",
                            "<tr><td>Ursula K. Le Guin</td><td>The Other Wind (Earthsea Cycle, #6)</td><td>4.06</td><td>11643</td></tr>",
                            "<tr><td>Alissa Nutting</td><td>Tampa</td><td>3.34</td><td>11643</td></tr>",
                            "<tr><td>Susanna Clarke, Charles Vess</td><td>The Ladies of Grace Adieu and Other Stories</td><td>3.85</td><td>11643</td></tr>",
                            "<tr><td>Jill Leovy</td><td>Ghettoside: A True Story of Murder in America</td><td>4.12</td><td>11643</td></tr>",
                            "<tr><td>Nancy Farmer</td><td>The Ear, the Eye, and the Arm</td><td>3.85</td><td>11643</td></tr>",
                            "<tr><td>Lois McMaster Bujold</td><td>Falling Free (Vorkosigan Saga, #4)</td><td>3.82</td><td>11643</td></tr>",
                            "<tr><td>Naomi Novik</td><td>Victory of Eagles (Temeraire, #5)</td><td>4.01</td><td>11643</td></tr>",
                            "<tr><td>Robin McKinley</td><td>Deerskin</td><td>3.88</td><td>11643</td></tr>",
                            "<tr><td>Diablo Cody</td><td>Candy Girl: A Year in the Life of an Unlikely Stripper</td><td>3.54</td><td>11643</td></tr>",
                            "<tr><td>J.K. Rowling</td><td>Harry Potter Schoolbooks Box Set: Two Classic Books from the Library of Hogwarts School of Witchcraft and Wizardry</td><td>4.4</td><td>11643</td></tr>",
                            "<tr><td>Audre Lorde</td><td>Zami: A New Spelling of My Name</td><td>4.2</td><td>11643</td></tr>",
                            "<tr><td>Alice Hoffman</td><td>The Ice Queen</td><td>3.51</td><td>11643</td></tr>",
                            "<tr><td>Lynn Flewelling</td><td>Luck in the Shadows (Nightrunner, #1)</td><td>4.08</td><td>11643</td></tr>",
                            "<tr><td>Naomi Klein</td><td>This Changes Everything: Capitalism vs. The Climate</td><td>4.17</td><td>11643</td></tr>",
                            "<tr><td>Agatha Christie</td><td>A Caribbean Mystery (Miss Marple, #10)</td><td>3.77</td><td>11643</td></tr>",
                            "<tr><td>Jenna Jameson, Neil Strauss</td><td>How to Make Love Like a Porn Star: A Cautionary Tale</td><td>3.75</td><td>11643</td></tr>",
                            "<tr><td>Rachel Joyce</td><td>Perfect</td><td>3.54</td><td>11643</td></tr>",
                            "<tr><td>Mary Hoffman, Caroline Binch</td><td>Amazing Grace</td><td>4.33</td><td>11643</td></tr>",
                            "<tr><td>Emma Donoghue</td><td>Slammerkin</td><td>3.69</td><td>11643</td></tr>",
                            "<tr><td>Rachel Bertsche</td><td>MWF Seeking BFF: My Yearlong Search For A New Best Friend</td><td>3.44</td><td>11643</td></tr>",
                            "<tr><td>Jennifer Crusie</td><td>Faking It (Dempseys, #2)</td><td>3.9</td><td>11643</td></tr>",
                            "<tr><td>Lionel Shriver</td><td>The Post-Birthday World</td><td>3.52</td><td>11643</td></tr>",
                            "<tr><td>Beatrix Potter</td><td>The Tale of Mrs. Tiggy-Winkle</td><td>4.19</td><td>11643</td></tr>",
                            "<tr><td>Esi Edugyan</td><td>Half Blood Blues</td><td>3.63</td><td>11643</td></tr>",
                            "<tr><td>Anne Michaels</td><td>Fugitive Pieces</td><td>3.95</td><td>11643</td></tr>",
                            "<tr><td>Phyllis T. Smith</td><td>I Am Livia</td><td>3.93</td><td>11643</td></tr>",
                            "<tr><td>Robin Hobb</td><td>Renegade's Magic (Soldier Son, #3)</td><td>3.46</td><td>11643</td></tr>",
                            "<tr><td>Frances Hodgson Burnett</td><td>Little Lord Fauntleroy</td><td>3.81</td><td>11643</td></tr>",
                            "<tr><td>Robin McKinley</td><td>Rose Daughter</td><td>3.77</td><td>11643</td></tr>",
                            "<tr><td>Alice  Miller, Ruth Ward</td><td>The Drama of the Gifted Child: The Search for the True Self</td><td>4.09</td><td>11643</td></tr>",
                            "<tr><td>Bisco Hatori</td><td>Ouran High School Host Club, Vol. 15 (Ouran High School Host Club, #15)</td><td>4.54</td><td>11643</td></tr>",
                            "<tr><td>Iris Murdoch</td><td>Under the Net</td><td>3.76</td><td>11643</td></tr>",
                            "<tr><td>Trudi Canavan</td><td>Priestess of the White (Age of the Five, #1)</td><td>3.84</td><td>11643</td></tr>",
                            "<tr><td>Susan S. Adler, Renée Graef, Nancy Niles</td><td>Meet Samantha: An American Girl (American Girls: Samantha, #1)</td><td>3.95</td><td>11643</td></tr>",
                            "<tr><td>Julie Otsuka</td><td>When the Emperor Was Divine</td><td>3.7</td><td>11643</td></tr>",
                            "<tr><td>Dorothy L. Sayers</td><td>Clouds of Witness (Lord Peter Wimsey, #2)</td><td>4.04</td><td>11643</td></tr>",
                            "<tr><td>Enid Blyton</td><td>Five Go to Smuggler's Top (Famous Five, #4)</td><td>4.03</td><td>11643</td></tr>",
                            "<tr><td>Sara Paretsky</td><td>Indemnity Only (V.I. Warshawski, #1)</td><td>3.89</td><td>11643</td></tr>",
                            "<tr><td>Judy Schachner</td><td>Skippyjon Jones in Mummy Trouble (Skippyjon Jones, #3)</td><td>4.25</td><td>11643</td></tr>",
                            "<tr><td>Ursula K. Le Guin</td><td>Tales from Earthsea (Earthsea Cycle, #5)</td><td>4</td><td>11643</td></tr>",
                            "<tr><td>Anne McCaffrey</td><td>Nerilka's Story (Pern, #8)</td><td>3.78</td><td>11643</td></tr>",
                            "<tr><td>Lynley Dodd</td><td>Hairy Maclary from Donaldson's Dairy</td><td>4.28</td><td>11643</td></tr>",
                            "<tr><td>Donna Leon</td><td>Death at La Fenice (Commissario Brunetti, #1)</td><td>3.81</td><td>11643</td></tr>",
                            "<tr><td>Virginia M. Axline</td><td>Dibs in Search of Self</td><td>4.13</td><td>11643</td></tr>",
                            "<tr><td>Agatha Christie, Robin Bailey</td><td>The Clocks (Hercule Poirot, #34)</td><td>3.71</td><td>11643</td></tr>",
                            "<tr><td>Anne McCaffrey</td><td>The Dolphins of Pern (Pern, #13)</td><td>3.94</td><td>11643</td></tr>",
                            "<tr><td>S.A.R.K.</td><td>Succulent Wild Woman</td><td>4.12</td><td>11643</td></tr>",
                            "<tr><td>Agatha Christie</td><td>They Do It with Mirrors (Miss Marple, #6)</td><td>3.74</td><td>11643</td></tr>",
                            "<tr><td>N.K. Jemisin</td><td>The Obelisk Gate (The Broken Earth, #2)</td><td>4.36</td><td>11643</td></tr>",
                            "<tr><td>A.S. Byatt</td><td>The Children's Book</td><td>3.66</td><td>11643</td></tr>",
                            "<tr><td>Helen Fielding</td><td>Olivia Joules and the Overactive Imagination</td><td>3.1</td><td>11643</td></tr>",
                            "<tr><td>Sarah Vowell</td><td>Unfamiliar Fishes</td><td>3.6</td><td>11643</td></tr>",
                            "<tr><td>Louise Erdrich</td><td>The Beet Queen</td><td>3.89</td><td>11643</td></tr>",
                            "<tr><td>Helen Hooven Santmyer</td><td>And Ladies of the Club</td><td>4.12</td><td>11643</td></tr>",
                            "<tr><td>Zadie Smith</td><td>The Autograph Man</td><td>3.14</td><td>11643</td></tr>",
                            "<tr><td>Cynthia Bond</td><td>Ruby</td><td>3.63</td><td>11643</td></tr>",
                            "<tr><td>Jacqueline Winspear</td><td>Messenger of Truth (Maisie Dobbs, #4)</td><td>3.99</td><td>11643</td></tr>",
                            "<tr><td>Jennifer Egan</td><td>The Keep</td><td>3.43</td><td>11643</td></tr>",
                            "<tr><td>Geraldine Brooks</td><td>Nine Parts of Desire: The Hidden World of Islamic Women</td><td>4.04</td><td>11643</td></tr>",
                            "<tr><td>Jessi Klein</td><td>You'll Grow Out of It</td><td>3.83</td><td>11643</td></tr>",
                            "<tr><td>Rebecca Wells</td><td>Ya Yas in Bloom</td><td>3.6</td><td>11643</td></tr>",
                            "<tr><td>N.K. Jemisin</td><td>The Broken Kingdoms (Inheritance, #2)</td><td>4.04</td><td>11643</td></tr>",
                            "<tr><td>Sarah Lotz</td><td>The Three (The Three, #1)</td><td>3.32</td><td>11643</td></tr>",
                            "<tr><td>Enid Blyton</td><td>Five Go Adventuring Again (Famous Five, #2)</td><td>3.99</td><td>11643</td></tr>",
                            "<tr><td>Pema Chödrön</td><td>The Places That Scare You: A Guide to Fearlessness in Difficult Times</td><td>4.3</td><td>11643</td></tr>",
                            "<tr><td>Chitra Banerjee Divakaruni</td><td>The Mistress of Spices</td><td>3.48</td><td>11643</td></tr>",
                            "<tr><td>Claudia Gray</td><td>Lost Stars (Star Wars: Journey to the Force Awakens)</td><td>4.25</td><td>11643</td></tr>",
                            "<tr><td>Margaret Edson</td><td>Wit</td><td>4.2</td><td>11643</td></tr>",
                            "<tr><td>Leslie Jamison</td><td>The Empathy Exams: Essays</td><td>3.62</td><td>11643</td></tr>",
                            "<tr><td>Courtney Milan</td><td>The Duchess War (Brothers Sinister, #1)</td><td>3.82</td><td>11643</td></tr>",
                            "<tr><td>Octavia E. Butler</td><td>Wild Seed (Patternmaster, #1)</td><td>4.22</td><td>11643</td></tr>",
                            "<tr><td>Anne Tyler</td><td>The Amateur Marriage</td><td>3.59</td><td>11643</td></tr>",
                            "<tr><td>Patricia Highsmith</td><td>Strangers on a Train</td><td>3.82</td><td>11643</td></tr>",
                            "<tr><td>Carol Shields</td><td>Unless</td><td>3.63</td><td>11643</td></tr>",
                            "<tr><td>Else Holmelund Minarik, Maurice Sendak</td><td>A Kiss for Little Bear (An I Can Read Book) by Minarik, Else Holmelund [1984]</td><td>4.31</td><td>11643</td></tr>",
                            "<tr><td>Diana Gabaldon</td><td>The Space Between (Outlander, #7.5)</td><td>4.22</td><td>11643</td></tr>",
                            "<tr><td>Marie Kondō</td><td>Spark Joy: An Illustrated Master Class on the Art of Organizing and Tidying Up</td><td>3.82</td><td>11643</td></tr>",
                            "<tr><td>Georgette Heyer</td><td>Frederica</td><td>4.15</td><td>11643</td></tr>",
                            "<tr><td>Angela Flournoy</td><td>The Turner House</td><td>3.64</td><td>11643</td></tr>",
                            "<tr><td>Maeve Binchy</td><td>Whitethorn Woods</td><td>3.59</td><td>11643</td></tr>",
                            "<tr><td>Judith Kerr</td><td>The Tiger Who Came to Tea</td><td>4.23</td><td>11643</td></tr>",
                            "<tr><td>Lois McMaster Bujold</td><td>A Civil Campaign (Vorkosigan Saga, #12)</td><td>4.43</td><td>11643</td></tr>",
                            "<tr><td>Joan Aiken, Pat Marriott</td><td>The Wolves of Willoughby Chase (The Wolves Chronicles, #1)</td><td>4.08</td><td>11643</td></tr>",
                            "<tr><td>Jacqueline Wilson, Nick Sharratt</td><td>The Illustrated Mum</td><td>3.74</td><td>11643</td></tr>",
                            "<tr><td>Mary Hoffman</td><td>City of Masks (Stravaganza, #1)</td><td>3.9</td><td>11643</td></tr>",
                            "<tr><td>Inga Muscio, Betty Dodson</td><td>Cunt: A Declaration of Independence</td><td>3.88</td><td>11643</td></tr>",
                            "<tr><td>Giulia Enders, Jill Enders</td><td>Gut: The Inside Story of Our Body’s Most Underrated Organ</td><td>3.99</td><td>11643</td></tr>",
                            "<tr><td>Lois Lowry</td><td>Anastasia Krupnik (Anastasia Krupnik, #1)</td><td>3.89</td><td>11643</td></tr>",
                            "<tr><td>Anne Tyler</td><td>Ladder of Years</td><td>3.72</td><td>11643</td></tr>",
                            "<tr><td>Peggy Orenstein</td><td>Cinderella Ate My Daughter: Dispatches from the Frontlines of the New Girlie-Girl Culture</td><td>3.65</td><td>11643</td></tr>",
                            "</table>"
                        ]
                    }
                }
            ],
            "execution_count": 31
        },
        {
            "cell_type": "markdown",
            "source": [
                "### **Record your thoughts about why you wrote the query the way you did.**"
            ],
            "metadata": {
                "azdata_cell_guid": "1e19a72c-1bca-446b-a0c7-a8efbc35dcf1"
            },
            "attachments": {}
        },
        {
            "cell_type": "markdown",
            "source": [
                "# Part 2: Choose Another Month\n",
                "\n",
                "Choose another month and plan at least 2 events / promotions and answer the following questions.\n",
                "\n",
                "Which month did you choose?  \n",
                "\n",
                "What 2 events / promotions are you highlighting?\n",
                "\n",
                "> 1.\n",
                "\n",
                "> 2."
            ],
            "metadata": {
                "azdata_cell_guid": "3eaf376d-9de3-4553-a9d0-9caf74ee3d6a"
            },
            "attachments": {}
        },
        {
            "cell_type": "code",
            "source": [
                "select count(t.tag_id) as ct,bt.tag_id,t.tag_name\r\n",
                "FROM BooksDB.dbo.book_tags AS bt\r\n",
                "INNER JOIN BooksDB.dbo.tags AS t\r\n",
                "ON bt.tag_id = t.tag_id\r\n",
                "where t.tag_name like '%christmas%'\r\n",
                "group by bt.tag_id, t.tag_name\r\n",
                "order by ct desc\r\n",
                ""
            ],
            "metadata": {
                "azdata_cell_guid": "fb5cc4e4-e9a0-4939-85a8-6e213c1df24d",
                "language": "sql"
            },
            "outputs": [
                {
                    "output_type": "display_data",
                    "data": {
                        "text/html": "(32 rows affected)"
                    },
                    "metadata": {}
                },
                {
                    "output_type": "display_data",
                    "data": {
                        "text/html": "Total execution time: 00:00:00.220"
                    },
                    "metadata": {}
                },
                {
                    "output_type": "execute_result",
                    "metadata": {},
                    "execution_count": 35,
                    "data": {
                        "application/vnd.dataresource+json": {
                            "schema": {
                                "fields": [
                                    {
                                        "name": "ct"
                                    },
                                    {
                                        "name": "tag_id"
                                    },
                                    {
                                        "name": "tag_name"
                                    }
                                ]
                            },
                            "data": [
                                {
                                    "0": "75",
                                    "1": "7224",
                                    "2": "christmas"
                                },
                                {
                                    "0": "38",
                                    "1": "7228",
                                    "2": "christmas-books"
                                },
                                {
                                    "0": "20",
                                    "1": "7243",
                                    "2": "christmas-stories"
                                },
                                {
                                    "0": "17",
                                    "1": "7242",
                                    "2": "christmas-reads"
                                },
                                {
                                    "0": "7",
                                    "1": "14696",
                                    "2": "holiday-christmas"
                                },
                                {
                                    "0": "5",
                                    "1": "7234",
                                    "2": "christmas-fiction"
                                },
                                {
                                    "0": "4",
                                    "1": "7248",
                                    "2": "christmas-winter"
                                },
                                {
                                    "0": "3",
                                    "1": "7241",
                                    "2": "christmas-reading"
                                },
                                {
                                    "0": "2",
                                    "1": "6870",
                                    "2": "children-christmas"
                                },
                                {
                                    "0": "2",
                                    "1": "7225",
                                    "2": "christmas-2014"
                                },
                                {
                                    "0": "2",
                                    "1": "7226",
                                    "2": "christmas-2016"
                                },
                                {
                                    "0": "2",
                                    "1": "7235",
                                    "2": "christmas-holiday"
                                },
                                {
                                    "0": "2",
                                    "1": "7244",
                                    "2": "christmas-story"
                                },
                                {
                                    "0": "2",
                                    "1": "7247",
                                    "2": "christmas-to-read"
                                },
                                {
                                    "0": "2",
                                    "1": "30633",
                                    "2": "to-read-christmas"
                                },
                                {
                                    "0": "1",
                                    "1": "6966",
                                    "2": "childrens-christmas"
                                },
                                {
                                    "0": "1",
                                    "1": "6967",
                                    "2": "childrens-christmas-books"
                                },
                                {
                                    "0": "1",
                                    "1": "7227",
                                    "2": "christmas-book"
                                },
                                {
                                    "0": "1",
                                    "1": "7229",
                                    "2": "christmas-books-i-have"
                                },
                                {
                                    "0": "1",
                                    "1": "7230",
                                    "2": "christmas-children-s-books-i-own"
                                },
                                {
                                    "0": "1",
                                    "1": "7231",
                                    "2": "christmas-childrens-books"
                                },
                                {
                                    "0": "1",
                                    "1": "7232",
                                    "2": "christmas-collection"
                                },
                                {
                                    "0": "1",
                                    "1": "7233",
                                    "2": "christmas-favorites"
                                },
                                {
                                    "0": "1",
                                    "1": "7236",
                                    "2": "christmas-hope"
                                },
                                {
                                    "0": "1",
                                    "1": "7237",
                                    "2": "christmas-hope-series"
                                },
                                {
                                    "0": "1",
                                    "1": "7238",
                                    "2": "christmas-kids"
                                },
                                {
                                    "0": "1",
                                    "1": "7239",
                                    "2": "christmas-new-year"
                                },
                                {
                                    "0": "1",
                                    "1": "7240",
                                    "2": "christmas-read"
                                },
                                {
                                    "0": "1",
                                    "1": "7245",
                                    "2": "christmas-tbr"
                                },
                                {
                                    "0": "1",
                                    "1": "7246",
                                    "2": "christmas-theme"
                                },
                                {
                                    "0": "1",
                                    "1": "7249",
                                    "2": "christmas-wish-read-list"
                                },
                                {
                                    "0": "1",
                                    "1": "14705",
                                    "2": "holidays-christmas"
                                }
                            ]
                        },
                        "text/html": [
                            "<table>",
                            "<tr><th>ct</th><th>tag_id</th><th>tag_name</th></tr>",
                            "<tr><td>75</td><td>7224</td><td>christmas</td></tr>",
                            "<tr><td>38</td><td>7228</td><td>christmas-books</td></tr>",
                            "<tr><td>20</td><td>7243</td><td>christmas-stories</td></tr>",
                            "<tr><td>17</td><td>7242</td><td>christmas-reads</td></tr>",
                            "<tr><td>7</td><td>14696</td><td>holiday-christmas</td></tr>",
                            "<tr><td>5</td><td>7234</td><td>christmas-fiction</td></tr>",
                            "<tr><td>4</td><td>7248</td><td>christmas-winter</td></tr>",
                            "<tr><td>3</td><td>7241</td><td>christmas-reading</td></tr>",
                            "<tr><td>2</td><td>6870</td><td>children-christmas</td></tr>",
                            "<tr><td>2</td><td>7225</td><td>christmas-2014</td></tr>",
                            "<tr><td>2</td><td>7226</td><td>christmas-2016</td></tr>",
                            "<tr><td>2</td><td>7235</td><td>christmas-holiday</td></tr>",
                            "<tr><td>2</td><td>7244</td><td>christmas-story</td></tr>",
                            "<tr><td>2</td><td>7247</td><td>christmas-to-read</td></tr>",
                            "<tr><td>2</td><td>30633</td><td>to-read-christmas</td></tr>",
                            "<tr><td>1</td><td>6966</td><td>childrens-christmas</td></tr>",
                            "<tr><td>1</td><td>6967</td><td>childrens-christmas-books</td></tr>",
                            "<tr><td>1</td><td>7227</td><td>christmas-book</td></tr>",
                            "<tr><td>1</td><td>7229</td><td>christmas-books-i-have</td></tr>",
                            "<tr><td>1</td><td>7230</td><td>christmas-children-s-books-i-own</td></tr>",
                            "<tr><td>1</td><td>7231</td><td>christmas-childrens-books</td></tr>",
                            "<tr><td>1</td><td>7232</td><td>christmas-collection</td></tr>",
                            "<tr><td>1</td><td>7233</td><td>christmas-favorites</td></tr>",
                            "<tr><td>1</td><td>7236</td><td>christmas-hope</td></tr>",
                            "<tr><td>1</td><td>7237</td><td>christmas-hope-series</td></tr>",
                            "<tr><td>1</td><td>7238</td><td>christmas-kids</td></tr>",
                            "<tr><td>1</td><td>7239</td><td>christmas-new-year</td></tr>",
                            "<tr><td>1</td><td>7240</td><td>christmas-read</td></tr>",
                            "<tr><td>1</td><td>7245</td><td>christmas-tbr</td></tr>",
                            "<tr><td>1</td><td>7246</td><td>christmas-theme</td></tr>",
                            "<tr><td>1</td><td>7249</td><td>christmas-wish-read-list</td></tr>",
                            "<tr><td>1</td><td>14705</td><td>holidays-christmas</td></tr>",
                            "</table>"
                        ]
                    }
                }
            ],
            "execution_count": 35
        },
        {
            "cell_type": "code",
            "source": [
                "select b.authors,b.title,b.average_rating,bt.tag_id\r\n",
                "FROM BooksDB.dbo.books AS b\r\n",
                "INNER JOIN BooksDB.dbo.book_tags AS bt\r\n",
                "ON bt.goodreads_book_id = b.book_id\r\n",
                "where bt.tag_id = 7224"
            ],
            "metadata": {
                "language": "sql",
                "azdata_cell_guid": "0a7b2a0b-a1e5-4b4b-9fdf-72f97ac32e7d"
            },
            "outputs": [
                {
                    "output_type": "display_data",
                    "data": {
                        "text/html": "(75 rows affected)"
                    },
                    "metadata": {}
                },
                {
                    "output_type": "display_data",
                    "data": {
                        "text/html": "Total execution time: 00:00:00.185"
                    },
                    "metadata": {}
                },
                {
                    "output_type": "execute_result",
                    "metadata": {},
                    "execution_count": 36,
                    "data": {
                        "application/vnd.dataresource+json": {
                            "schema": {
                                "fields": [
                                    {
                                        "name": "authors"
                                    },
                                    {
                                        "name": "title"
                                    },
                                    {
                                        "name": "average_rating"
                                    },
                                    {
                                        "name": "tag_id"
                                    }
                                ]
                            },
                            "data": [
                                {
                                    "0": "Charles Dickens",
                                    "1": "A Christmas Carol",
                                    "2": "4.02",
                                    "3": "7224"
                                },
                                {
                                    "0": "Dr. Seuss",
                                    "1": "How the Grinch Stole Christmas!",
                                    "2": "4.36",
                                    "3": "7224"
                                },
                                {
                                    "0": "Margery Williams Bianco, William   Nicholson",
                                    "1": "The Velveteen Rabbit",
                                    "2": "4.29",
                                    "3": "7224"
                                },
                                {
                                    "0": "Chris Van Allsburg",
                                    "1": "The Polar Express",
                                    "2": "4.29",
                                    "3": "7224"
                                },
                                {
                                    "0": "Rainbow Rowell",
                                    "1": "Landline",
                                    "2": "3.55",
                                    "3": "7224"
                                },
                                {
                                    "0": "David Sedaris",
                                    "1": "Holidays on Ice",
                                    "2": "3.95",
                                    "3": "7224"
                                },
                                {
                                    "0": "Ezra Jack Keats",
                                    "1": "The Snowy Day",
                                    "2": "4.13",
                                    "3": "7224"
                                },
                                {
                                    "0": "Clement C. Moore, Jan Brett",
                                    "1": "The Night Before Christmas",
                                    "2": "4.36",
                                    "3": "7224"
                                },
                                {
                                    "0": "Jeff Kinney",
                                    "1": "Cabin Fever (Diary of a Wimpy Kid, #6)",
                                    "2": "4.21",
                                    "3": "7224"
                                },
                                {
                                    "0": "O. Henry, Lisbeth Zwerger",
                                    "1": "The Gift of the Magi",
                                    "2": "4.07",
                                    "3": "7224"
                                },
                                {
                                    "0": "John Green, Maureen Johnson, Lauren Myracle",
                                    "1": "Let It Snow: Three Holiday Romances",
                                    "2": "3.84",
                                    "3": "7224"
                                },
                                {
                                    "0": "Jan Brett",
                                    "1": "The Mitten",
                                    "2": "4.23",
                                    "3": "7224"
                                },
                                {
                                    "0": "Joe Hill",
                                    "1": "NOS4A2",
                                    "2": "4.06",
                                    "3": "7224"
                                },
                                {
                                    "0": "Janet Evanovich",
                                    "1": "Visions of Sugar Plums (Stephanie Plum, #8.5)",
                                    "2": "3.68",
                                    "3": "7224"
                                },
                                {
                                    "0": "Rachel Cohn, David Levithan",
                                    "1": "Dash & Lily's Book of Dares (Dash & Lily, #1)",
                                    "2": "3.82",
                                    "3": "7224"
                                },
                                {
                                    "0": "Terry Pratchett",
                                    "1": "Hogfather (Discworld, #20; Death, #4)",
                                    "2": "4.22",
                                    "3": "7224"
                                },
                                {
                                    "0": "Charles Dickens, Katharine Kroeber Wiley",
                                    "1": "A Christmas Carol, The Chimes and The Cricket on the Hearth",
                                    "2": "4.11",
                                    "3": "7224"
                                },
                                {
                                    "0": "John Grisham",
                                    "1": "Skipping Christmas",
                                    "2": "3.47",
                                    "3": "7224"
                                },
                                {
                                    "0": "David Sedaris",
                                    "1": "SantaLand Diaries",
                                    "2": "4.33",
                                    "3": "7224"
                                },
                                {
                                    "0": "Max Lucado",
                                    "1": "You Are Special (Wemmicksville, #1)",
                                    "2": "4.45",
                                    "3": "7224"
                                },
                                {
                                    "0": "Susan Cooper",
                                    "1": "The Dark Is Rising (The Dark is Rising, #2)",
                                    "2": "4.07",
                                    "3": "7224"
                                },
                                {
                                    "0": "Donna VanLiere",
                                    "1": "The Christmas Shoes (Christmas Hope #1)",
                                    "2": "4.22",
                                    "3": "7224"
                                },
                                {
                                    "0": "Christopher Moore",
                                    "1": "The Stupidest Angel: A Heartwarming Tale of Christmas Terror (Pine Cove, #3)",
                                    "2": "3.82",
                                    "3": "7224"
                                },
                                {
                                    "0": "Charles Dickens, Michael Slater",
                                    "1": "A Christmas Carol and Other Christmas Writings",
                                    "2": "4.13",
                                    "3": "7224"
                                },
                                {
                                    "0": "Jane Yolen, John Schoenherr",
                                    "1": "Owl Moon",
                                    "2": "4.2",
                                    "3": "7224"
                                },
                                {
                                    "0": "Connie Willis",
                                    "1": "Doomsday Book (Oxford Time Travel, #1)",
                                    "2": "4.03",
                                    "3": "7224"
                                },
                                {
                                    "0": "Barbara Shook Hazen, Robert Lewis May, Richard Scarry",
                                    "1": "Rudolph the Red-Nosed Reindeer",
                                    "2": "4.3",
                                    "3": "7224"
                                },
                                {
                                    "0": "Louise Penny",
                                    "1": "A Fatal Grace (Chief Inspector Armand Gamache, #2)",
                                    "2": "4.11",
                                    "3": "7224"
                                },
                                {
                                    "0": "Dodie Smith, Michael Dooling",
                                    "1": "The 101 Dalmatians (The Hundred and One Dalmatians, #1)",
                                    "2": "4.11",
                                    "3": "7224"
                                },
                                {
                                    "0": "Barbara Robinson",
                                    "1": "The Best Christmas Pageant Ever (The Herdmans #1)",
                                    "2": "4.18",
                                    "3": "7224"
                                },
                                {
                                    "0": "Arnold Lobel",
                                    "1": "Frog and Toad All Year (Frog and Toad, #3)",
                                    "2": "4.34",
                                    "3": "7224"
                                },
                                {
                                    "0": "Louise Penny",
                                    "1": "How the Light Gets In (Chief Inspector Armand Gamache, #9)",
                                    "2": "4.41",
                                    "3": "7224"
                                },
                                {
                                    "0": "Jill Shalvis",
                                    "1": "Simply Irresistible (Lucky Harbor, #1)",
                                    "2": "3.92",
                                    "3": "7224"
                                },
                                {
                                    "0": "Stephanie Perkins, Holly Black, Ally Carter, Matt de la Pena, Gayle Forman, Jenny Han, David Levithan, Kelly Link, Myra McEntire, Rainbow Rowell, Laini Taylor, Kiersten White",
                                    "1": "My True Love Gave to Me: Twelve Holiday Stories",
                                    "2": "3.73",
                                    "3": "7224"
                                },
                                {
                                    "0": "J. Lynn, Jennifer L. Armentrout",
                                    "1": "Frigid (Frigid, #1)",
                                    "2": "3.79",
                                    "3": "7224"
                                },
                                {
                                    "0": "Richard Paul Evans",
                                    "1": "The Christmas Box (The Christmas Box, #1)",
                                    "2": "3.95",
                                    "3": "7224"
                                },
                                {
                                    "0": "J.D. Robb",
                                    "1": "Holiday in Death (In Death, #7)",
                                    "2": "4.31",
                                    "3": "7224"
                                },
                                {
                                    "0": "Laura Joffe Numeroff, Felicia Bond",
                                    "1": "If You Take a Mouse to the Movies",
                                    "2": "4.16",
                                    "3": "7224"
                                },
                                {
                                    "0": "Diane Muldrow",
                                    "1": "Frosty the Snowman (Frosty the Snowman)",
                                    "2": "4.34",
                                    "3": "7224"
                                },
                                {
                                    "0": "Alan Bradley",
                                    "1": "I Am Half-Sick of Shadows (Flavia de Luce, #4)",
                                    "2": "4.09",
                                    "3": "7224"
                                },
                                {
                                    "0": "Jason F. Wright",
                                    "1": "The Wednesday Letters",
                                    "2": "3.61",
                                    "3": "7224"
                                },
                                {
                                    "0": "Rosamunde Pilcher",
                                    "1": "Winter Solstice",
                                    "2": "4.15",
                                    "3": "7224"
                                },
                                {
                                    "0": "Agatha Christie",
                                    "1": "Hercule Poirot's Christmas (Hercule Poirot, #20)",
                                    "2": "3.9",
                                    "3": "7224"
                                },
                                {
                                    "0": "Elin Hilderbrand",
                                    "1": "Winter Street (Winter, #1)",
                                    "2": "3.67",
                                    "3": "7224"
                                },
                                {
                                    "0": "Jane Werner Watson, Corinne Malvern",
                                    "1": "Frosty the Snow Man",
                                    "2": "4.25",
                                    "3": "7224"
                                },
                                {
                                    "0": "J.D. Robb",
                                    "1": "Memory in Death (In Death, #22)",
                                    "2": "4.31",
                                    "3": "7224"
                                },
                                {
                                    "0": "James Patterson",
                                    "1": "Merry Christmas, Alex Cross (Alex Cross, #19)",
                                    "2": "3.85",
                                    "3": "7224"
                                },
                                {
                                    "0": "Cecelia Ahern",
                                    "1": "The Gift",
                                    "2": "3.68",
                                    "3": "7224"
                                },
                                {
                                    "0": "Jan Brett",
                                    "1": "The Hat",
                                    "2": "4.25",
                                    "3": "7224"
                                },
                                {
                                    "0": "Anita Shreve",
                                    "1": "A Wedding in December",
                                    "2": "3.08",
                                    "3": "7224"
                                },
                                {
                                    "0": "Billie Letts",
                                    "1": "The Honk and Holler Opening Soon",
                                    "2": "3.93",
                                    "3": "7224"
                                },
                                {
                                    "0": "Laurie Notaro",
                                    "1": "The Idiot Girls' Action-Adventure Club: True Tales from a Magnificent and Clumsy Life",
                                    "2": "3.89",
                                    "3": "7224"
                                },
                                {
                                    "0": "Caralyn Buehner, Mark Buehner",
                                    "1": "Snowmen at Night",
                                    "2": "4.23",
                                    "3": "7224"
                                },
                                {
                                    "0": "Hans Christian Andersen, Rachel Isadora",
                                    "1": "The Little Match Girl",
                                    "2": "4.08",
                                    "3": "7224"
                                },
                                {
                                    "0": "Danielle Steel",
                                    "1": "The Gift",
                                    "2": "3.91",
                                    "3": "7224"
                                },
                                {
                                    "0": "Glenn Beck",
                                    "1": "The Christmas Sweater",
                                    "2": "3.79",
                                    "3": "7224"
                                },
                                {
                                    "0": "Angela Elwell Hunt, Tim Jonke",
                                    "1": "The Tale of Three Trees",
                                    "2": "4.52",
                                    "3": "7224"
                                },
                                {
                                    "0": "James Patterson, Richard DiLallo",
                                    "1": "The Christmas Wedding",
                                    "2": "3.32",
                                    "3": "7224"
                                },
                                {
                                    "0": "Raymond Briggs",
                                    "1": "The Snowman",
                                    "2": "4.28",
                                    "3": "7224"
                                },
                                {
                                    "0": "Charles M. Schulz",
                                    "1": "A Charlie Brown Christmas",
                                    "2": "4.48",
                                    "3": "7224"
                                },
                                {
                                    "0": "Martha Grimes",
                                    "1": "The Man With a Load of Mischief (Richard Jury, #1)",
                                    "2": "4.01",
                                    "3": "7224"
                                },
                                {
                                    "0": "Dinah Bucholz",
                                    "1": "The Unofficial Harry Potter Cookbook: From Cauldron Cakes to Knickerbocker Glory--More Than 150 Magical Recipes for Wizards and Non-Wizards Alike (Unofficial Cookbook)",
                                    "2": "4.1",
                                    "3": "7224"
                                },
                                {
                                    "0": "Richard Paul Evans",
                                    "1": "The Christmas List",
                                    "2": "4.17",
                                    "3": "7224"
                                },
                                {
                                    "0": "David Baldacci",
                                    "1": "The Christmas Train",
                                    "2": "3.56",
                                    "3": "7224"
                                },
                                {
                                    "0": "Wally Lamb",
                                    "1": "Wishin' and Hopin'",
                                    "2": "3.52",
                                    "3": "7224"
                                },
                                {
                                    "0": "Fannie Flagg",
                                    "1": "A Redbird Christmas",
                                    "2": "3.86",
                                    "3": "7224"
                                },
                                {
                                    "0": "J.D. Robb",
                                    "1": "Festive in Death (In Death, #39)",
                                    "2": "4.26",
                                    "3": "7224"
                                },
                                {
                                    "0": "Jacqueline Winspear, Orlagh Cassidy",
                                    "1": "Among the Mad (Maisie Dobbs, #6)",
                                    "2": "4.1",
                                    "3": "7224"
                                },
                                {
                                    "0": "Richard Paul Evans",
                                    "1": "The Locket (The Locket, #1)",
                                    "2": "4.1",
                                    "3": "7224"
                                },
                                {
                                    "0": "Yotam Ottolenghi",
                                    "1": "Plenty",
                                    "2": "4.32",
                                    "3": "7224"
                                },
                                {
                                    "0": "Elin Hilderbrand",
                                    "1": "Winter Stroll (Winter #2)",
                                    "2": "3.7",
                                    "3": "7224"
                                },
                                {
                                    "0": "Jacqueline Briggs Martin, Mary Azarian",
                                    "1": "Snowflake Bentley",
                                    "2": "4.16",
                                    "3": "7224"
                                },
                                {
                                    "0": "Orson Scott Card",
                                    "1": "A War of Gifts (Ender's Saga, #1.1)",
                                    "2": "3.66",
                                    "3": "7224"
                                },
                                {
                                    "0": "Catherine Bybee",
                                    "1": "Not Quite Dating (Not Quite, #1)",
                                    "2": "3.88",
                                    "3": "7224"
                                },
                                {
                                    "0": "Lynsay Sands, Jeaniene Frost",
                                    "1": "The Bite Before Christmas (Argeneau, #15.5; Night Huntress, #6.5)",
                                    "2": "4.16",
                                    "3": "7224"
                                }
                            ]
                        },
                        "text/html": [
                            "<table>",
                            "<tr><th>authors</th><th>title</th><th>average_rating</th><th>tag_id</th></tr>",
                            "<tr><td>Charles Dickens</td><td>A Christmas Carol</td><td>4.02</td><td>7224</td></tr>",
                            "<tr><td>Dr. Seuss</td><td>How the Grinch Stole Christmas!</td><td>4.36</td><td>7224</td></tr>",
                            "<tr><td>Margery Williams Bianco, William   Nicholson</td><td>The Velveteen Rabbit</td><td>4.29</td><td>7224</td></tr>",
                            "<tr><td>Chris Van Allsburg</td><td>The Polar Express</td><td>4.29</td><td>7224</td></tr>",
                            "<tr><td>Rainbow Rowell</td><td>Landline</td><td>3.55</td><td>7224</td></tr>",
                            "<tr><td>David Sedaris</td><td>Holidays on Ice</td><td>3.95</td><td>7224</td></tr>",
                            "<tr><td>Ezra Jack Keats</td><td>The Snowy Day</td><td>4.13</td><td>7224</td></tr>",
                            "<tr><td>Clement C. Moore, Jan Brett</td><td>The Night Before Christmas</td><td>4.36</td><td>7224</td></tr>",
                            "<tr><td>Jeff Kinney</td><td>Cabin Fever (Diary of a Wimpy Kid, #6)</td><td>4.21</td><td>7224</td></tr>",
                            "<tr><td>O. Henry, Lisbeth Zwerger</td><td>The Gift of the Magi</td><td>4.07</td><td>7224</td></tr>",
                            "<tr><td>John Green, Maureen Johnson, Lauren Myracle</td><td>Let It Snow: Three Holiday Romances</td><td>3.84</td><td>7224</td></tr>",
                            "<tr><td>Jan Brett</td><td>The Mitten</td><td>4.23</td><td>7224</td></tr>",
                            "<tr><td>Joe Hill</td><td>NOS4A2</td><td>4.06</td><td>7224</td></tr>",
                            "<tr><td>Janet Evanovich</td><td>Visions of Sugar Plums (Stephanie Plum, #8.5)</td><td>3.68</td><td>7224</td></tr>",
                            "<tr><td>Rachel Cohn, David Levithan</td><td>Dash &amp; Lily's Book of Dares (Dash &amp; Lily, #1)</td><td>3.82</td><td>7224</td></tr>",
                            "<tr><td>Terry Pratchett</td><td>Hogfather (Discworld, #20; Death, #4)</td><td>4.22</td><td>7224</td></tr>",
                            "<tr><td>Charles Dickens, Katharine Kroeber Wiley</td><td>A Christmas Carol, The Chimes and The Cricket on the Hearth</td><td>4.11</td><td>7224</td></tr>",
                            "<tr><td>John Grisham</td><td>Skipping Christmas</td><td>3.47</td><td>7224</td></tr>",
                            "<tr><td>David Sedaris</td><td>SantaLand Diaries</td><td>4.33</td><td>7224</td></tr>",
                            "<tr><td>Max Lucado</td><td>You Are Special (Wemmicksville, #1)</td><td>4.45</td><td>7224</td></tr>",
                            "<tr><td>Susan Cooper</td><td>The Dark Is Rising (The Dark is Rising, #2)</td><td>4.07</td><td>7224</td></tr>",
                            "<tr><td>Donna VanLiere</td><td>The Christmas Shoes (Christmas Hope #1)</td><td>4.22</td><td>7224</td></tr>",
                            "<tr><td>Christopher Moore</td><td>The Stupidest Angel: A Heartwarming Tale of Christmas Terror (Pine Cove, #3)</td><td>3.82</td><td>7224</td></tr>",
                            "<tr><td>Charles Dickens, Michael Slater</td><td>A Christmas Carol and Other Christmas Writings</td><td>4.13</td><td>7224</td></tr>",
                            "<tr><td>Jane Yolen, John Schoenherr</td><td>Owl Moon</td><td>4.2</td><td>7224</td></tr>",
                            "<tr><td>Connie Willis</td><td>Doomsday Book (Oxford Time Travel, #1)</td><td>4.03</td><td>7224</td></tr>",
                            "<tr><td>Barbara Shook Hazen, Robert Lewis May, Richard Scarry</td><td>Rudolph the Red-Nosed Reindeer</td><td>4.3</td><td>7224</td></tr>",
                            "<tr><td>Louise Penny</td><td>A Fatal Grace (Chief Inspector Armand Gamache, #2)</td><td>4.11</td><td>7224</td></tr>",
                            "<tr><td>Dodie Smith, Michael Dooling</td><td>The 101 Dalmatians (The Hundred and One Dalmatians, #1)</td><td>4.11</td><td>7224</td></tr>",
                            "<tr><td>Barbara Robinson</td><td>The Best Christmas Pageant Ever (The Herdmans #1)</td><td>4.18</td><td>7224</td></tr>",
                            "<tr><td>Arnold Lobel</td><td>Frog and Toad All Year (Frog and Toad, #3)</td><td>4.34</td><td>7224</td></tr>",
                            "<tr><td>Louise Penny</td><td>How the Light Gets In (Chief Inspector Armand Gamache, #9)</td><td>4.41</td><td>7224</td></tr>",
                            "<tr><td>Jill Shalvis</td><td>Simply Irresistible (Lucky Harbor, #1)</td><td>3.92</td><td>7224</td></tr>",
                            "<tr><td>Stephanie Perkins, Holly Black, Ally Carter, Matt de la Pena, Gayle Forman, Jenny Han, David Levithan, Kelly Link, Myra McEntire, Rainbow Rowell, Laini Taylor, Kiersten White</td><td>My True Love Gave to Me: Twelve Holiday Stories</td><td>3.73</td><td>7224</td></tr>",
                            "<tr><td>J. Lynn, Jennifer L. Armentrout</td><td>Frigid (Frigid, #1)</td><td>3.79</td><td>7224</td></tr>",
                            "<tr><td>Richard Paul Evans</td><td>The Christmas Box (The Christmas Box, #1)</td><td>3.95</td><td>7224</td></tr>",
                            "<tr><td>J.D. Robb</td><td>Holiday in Death (In Death, #7)</td><td>4.31</td><td>7224</td></tr>",
                            "<tr><td>Laura Joffe Numeroff, Felicia Bond</td><td>If You Take a Mouse to the Movies</td><td>4.16</td><td>7224</td></tr>",
                            "<tr><td>Diane Muldrow</td><td>Frosty the Snowman (Frosty the Snowman)</td><td>4.34</td><td>7224</td></tr>",
                            "<tr><td>Alan Bradley</td><td>I Am Half-Sick of Shadows (Flavia de Luce, #4)</td><td>4.09</td><td>7224</td></tr>",
                            "<tr><td>Jason F. Wright</td><td>The Wednesday Letters</td><td>3.61</td><td>7224</td></tr>",
                            "<tr><td>Rosamunde Pilcher</td><td>Winter Solstice</td><td>4.15</td><td>7224</td></tr>",
                            "<tr><td>Agatha Christie</td><td>Hercule Poirot's Christmas (Hercule Poirot, #20)</td><td>3.9</td><td>7224</td></tr>",
                            "<tr><td>Elin Hilderbrand</td><td>Winter Street (Winter, #1)</td><td>3.67</td><td>7224</td></tr>",
                            "<tr><td>Jane Werner Watson, Corinne Malvern</td><td>Frosty the Snow Man</td><td>4.25</td><td>7224</td></tr>",
                            "<tr><td>J.D. Robb</td><td>Memory in Death (In Death, #22)</td><td>4.31</td><td>7224</td></tr>",
                            "<tr><td>James Patterson</td><td>Merry Christmas, Alex Cross (Alex Cross, #19)</td><td>3.85</td><td>7224</td></tr>",
                            "<tr><td>Cecelia Ahern</td><td>The Gift</td><td>3.68</td><td>7224</td></tr>",
                            "<tr><td>Jan Brett</td><td>The Hat</td><td>4.25</td><td>7224</td></tr>",
                            "<tr><td>Anita Shreve</td><td>A Wedding in December</td><td>3.08</td><td>7224</td></tr>",
                            "<tr><td>Billie Letts</td><td>The Honk and Holler Opening Soon</td><td>3.93</td><td>7224</td></tr>",
                            "<tr><td>Laurie Notaro</td><td>The Idiot Girls' Action-Adventure Club: True Tales from a Magnificent and Clumsy Life</td><td>3.89</td><td>7224</td></tr>",
                            "<tr><td>Caralyn Buehner, Mark Buehner</td><td>Snowmen at Night</td><td>4.23</td><td>7224</td></tr>",
                            "<tr><td>Hans Christian Andersen, Rachel Isadora</td><td>The Little Match Girl</td><td>4.08</td><td>7224</td></tr>",
                            "<tr><td>Danielle Steel</td><td>The Gift</td><td>3.91</td><td>7224</td></tr>",
                            "<tr><td>Glenn Beck</td><td>The Christmas Sweater</td><td>3.79</td><td>7224</td></tr>",
                            "<tr><td>Angela Elwell Hunt, Tim Jonke</td><td>The Tale of Three Trees</td><td>4.52</td><td>7224</td></tr>",
                            "<tr><td>James Patterson, Richard DiLallo</td><td>The Christmas Wedding</td><td>3.32</td><td>7224</td></tr>",
                            "<tr><td>Raymond Briggs</td><td>The Snowman</td><td>4.28</td><td>7224</td></tr>",
                            "<tr><td>Charles M. Schulz</td><td>A Charlie Brown Christmas</td><td>4.48</td><td>7224</td></tr>",
                            "<tr><td>Martha Grimes</td><td>The Man With a Load of Mischief (Richard Jury, #1)</td><td>4.01</td><td>7224</td></tr>",
                            "<tr><td>Dinah Bucholz</td><td>The Unofficial Harry Potter Cookbook: From Cauldron Cakes to Knickerbocker Glory--More Than 150 Magical Recipes for Wizards and Non-Wizards Alike (Unofficial Cookbook)</td><td>4.1</td><td>7224</td></tr>",
                            "<tr><td>Richard Paul Evans</td><td>The Christmas List</td><td>4.17</td><td>7224</td></tr>",
                            "<tr><td>David Baldacci</td><td>The Christmas Train</td><td>3.56</td><td>7224</td></tr>",
                            "<tr><td>Wally Lamb</td><td>Wishin' and Hopin'</td><td>3.52</td><td>7224</td></tr>",
                            "<tr><td>Fannie Flagg</td><td>A Redbird Christmas</td><td>3.86</td><td>7224</td></tr>",
                            "<tr><td>J.D. Robb</td><td>Festive in Death (In Death, #39)</td><td>4.26</td><td>7224</td></tr>",
                            "<tr><td>Jacqueline Winspear, Orlagh Cassidy</td><td>Among the Mad (Maisie Dobbs, #6)</td><td>4.1</td><td>7224</td></tr>",
                            "<tr><td>Richard Paul Evans</td><td>The Locket (The Locket, #1)</td><td>4.1</td><td>7224</td></tr>",
                            "<tr><td>Yotam Ottolenghi</td><td>Plenty</td><td>4.32</td><td>7224</td></tr>",
                            "<tr><td>Elin Hilderbrand</td><td>Winter Stroll (Winter #2)</td><td>3.7</td><td>7224</td></tr>",
                            "<tr><td>Jacqueline Briggs Martin, Mary Azarian</td><td>Snowflake Bentley</td><td>4.16</td><td>7224</td></tr>",
                            "<tr><td>Orson Scott Card</td><td>A War of Gifts (Ender's Saga, #1.1)</td><td>3.66</td><td>7224</td></tr>",
                            "<tr><td>Catherine Bybee</td><td>Not Quite Dating (Not Quite, #1)</td><td>3.88</td><td>7224</td></tr>",
                            "<tr><td>Lynsay Sands, Jeaniene Frost</td><td>The Bite Before Christmas (Argeneau, #15.5; Night Huntress, #6.5)</td><td>4.16</td><td>7224</td></tr>",
                            "</table>"
                        ]
                    }
                }
            ],
            "execution_count": 36
        },
        {
            "cell_type": "markdown",
            "source": [
                "# Part 3: Summarize your Work\n",
                "\n",
                "For each event write at least one query that joins any two tables in the BooksDB to support your choice and record you thoughts as to why you used the paticlular query. At least one of your queries needs to include a HAVING clause."
            ],
            "metadata": {
                "azdata_cell_guid": "1ba1363a-4f02-4962-a95a-93b80c5926b1"
            },
            "attachments": {}
        },
        {
            "cell_type": "code",
            "source": [
                "-- Event 1 Query\r\n",
                ""
            ],
            "metadata": {
                "azdata_cell_guid": "f50d32ce-4cb2-4af2-acb1-607777a76cf8",
                "language": "sql"
            },
            "outputs": [],
            "execution_count": null
        },
        {
            "cell_type": "code",
            "source": [
                ""
            ],
            "metadata": {
                "azdata_cell_guid": "5606f7f2-c46b-42d3-ac64-7ae21c3394f8",
                "language": "sql"
            },
            "outputs": [],
            "execution_count": null
        },
        {
            "cell_type": "markdown",
            "source": [
                "### **Summary of event 1:**\n",
                "\n",
                "Double Click to edit."
            ],
            "metadata": {
                "azdata_cell_guid": "3bc72d4c-077b-42d3-9528-9aff8e7b6cf3"
            },
            "attachments": {}
        },
        {
            "cell_type": "code",
            "source": [
                "-- Event 2 Query"
            ],
            "metadata": {
                "azdata_cell_guid": "dca0a98f-065f-4b0e-9d93-fcb01cad668c",
                "language": "sql"
            },
            "outputs": [],
            "execution_count": null
        },
        {
            "cell_type": "code",
            "source": [
                ""
            ],
            "metadata": {
                "azdata_cell_guid": "3aaae3a8-eff7-4b37-8970-2d913a67239b",
                "language": "sql"
            },
            "outputs": [],
            "execution_count": null
        },
        {
            "cell_type": "markdown",
            "source": [
                "### **Summary of event 2:**\n",
                "\n",
                "Double Click to edit."
            ],
            "metadata": {
                "azdata_cell_guid": "99d518dc-cd8b-42d6-9a9d-708771c9aa99"
            },
            "attachments": {}
        }
    ]
}